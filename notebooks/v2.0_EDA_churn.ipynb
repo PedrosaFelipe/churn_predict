{
 "cells": [
  {
   "cell_type": "markdown",
   "id": "c13a238e",
   "metadata": {
    "heading_collapsed": true
   },
   "source": [
    "# PA003: Churn Predict"
   ]
  },
  {
   "cell_type": "markdown",
   "id": "d41931f2",
   "metadata": {},
   "source": [
    "# 0.0 Import"
   ]
  },
  {
   "cell_type": "code",
   "execution_count": 49,
   "id": "49d71406",
   "metadata": {
    "ExecuteTime": {
     "end_time": "2022-02-04T17:10:28.736456Z",
     "start_time": "2022-02-04T17:10:28.732483Z"
    }
   },
   "outputs": [],
   "source": [
    "import pandas as pd\n",
    "import numpy as np\n",
    "import seaborn as sns\n",
    "import matplotlib.pyplot as plt\n",
    "import inflection\n",
    "import math\n",
    "\n",
    "from IPython.core.display          import HTML\n",
    "from scipy.stats import shapiro, chi2_contingency\n",
    "\n",
    "from sklearn                       import preprocessing            as pp\n",
    "\n",
    "# from sklearn.preprocessing import StandardScaler, MinMaxScaler , RobustScaler\n",
    "\n",
    "\n",
    "import warnings\n",
    "\n",
    "warnings.filterwarnings(\"ignore\")"
   ]
  },
  {
   "cell_type": "markdown",
   "id": "8f52a5bd",
   "metadata": {},
   "source": [
    "## 0.1.Helper function"
   ]
  },
  {
   "cell_type": "code",
   "execution_count": 2,
   "id": "a340dc5b",
   "metadata": {
    "ExecuteTime": {
     "end_time": "2022-02-04T16:34:43.847662Z",
     "start_time": "2022-02-04T16:34:43.831618Z"
    }
   },
   "outputs": [
    {
     "data": {
      "text/html": [
       "<style>.container{width:100% !important;}</style>"
      ],
      "text/plain": [
       "<IPython.core.display.HTML object>"
      ]
     },
     "metadata": {},
     "output_type": "display_data"
    }
   ],
   "source": [
    "def my_settings():\n",
    "    %matplotlib inline\n",
    "    \n",
    "    # plotly settings\n",
    "    plt.style.use( 'ggplot' )\n",
    "    plt.rcParams['figure.figsize'] = [25, 12]\n",
    "    plt.rcParams['font.size'] = 8\n",
    " \n",
    "    # notebook settings\n",
    "    display(HTML('<style>.container{width:100% !important;}</style>'))\n",
    "    np.set_printoptions(suppress=True)\n",
    "    pd.set_option('display.float_format', '{:.3f}'.format)\n",
    "    \n",
    "    # seaborn settings\n",
    "    sns.set(rc={'figure.figsize':(25,12)})\n",
    "    sns.set_theme(style = 'darkgrid', font_scale = 1)\n",
    "my_settings()"
   ]
  },
  {
   "cell_type": "code",
   "execution_count": 3,
   "id": "510e6cb0",
   "metadata": {
    "ExecuteTime": {
     "end_time": "2022-02-04T16:34:43.854816Z",
     "start_time": "2022-02-04T16:34:43.849438Z"
    }
   },
   "outputs": [],
   "source": [
    " def numerical_descriptive_statistical(num_attributes):\n",
    "        \n",
    "    \"\"\"\n",
    "    Shows the main values  for descriptive statistics in numerical variables.\n",
    "\n",
    "    Args:\n",
    "        data ([float64 and int64]): Insert all numerical attributes in the dataset\n",
    "\n",
    "    Returns:\n",
    "        [dataframe]: A dataframe with mean, median, std deviation, skewness, kurtosis, min, max and range\n",
    "    \"\"\"\n",
    "            \n",
    "    # Central Tendency - Mean, Median\n",
    "    ct1 = pd.DataFrame(num_attributes.apply(np.mean)).T\n",
    "    ct2 = pd.DataFrame(num_attributes.apply(np.median)).T\n",
    "\n",
    "    # Dispersion - std, min, max, range, skew, kurtosis, Shapiro-Wilk Test\n",
    "    d1 = pd.DataFrame(num_attributes.apply(np.std)).T\n",
    "    d2 = pd.DataFrame(num_attributes.apply(min)).T\n",
    "    d3 = pd.DataFrame(num_attributes.apply(max)).T\n",
    "    d4 = pd.DataFrame(num_attributes.apply(lambda x: x.max() - x.min())).T\n",
    "    d5 = pd.DataFrame(num_attributes.apply(lambda x: x.skew())).T\n",
    "    d6 = pd.DataFrame(num_attributes.apply(lambda x: x.kurtosis())).T\n",
    "    d7 = pd.DataFrame(num_attributes.apply(lambda x: 'not normal' if shapiro(x.sample(5000))[1] < 0.05 else 'normal')).T\n",
    "\n",
    "    # concatenate\n",
    "    m = pd.concat([d2, d3, d4, ct1, ct2, d1, d5, d6, d7]).T.reset_index()\n",
    "    m.columns = ['attributes', 'min', 'max', 'range', 'mean', 'median', 'std', 'skew', 'kurtosis', 'shapiro']\n",
    "    return m\n",
    "\n",
    "\n",
    "\n",
    "def categorical_descriptive_statstical(data , col):\n",
    "    \"\"\"\n",
    "    Shows the the absolute and percent values in categorical variables.\n",
    "\n",
    "    Args:\n",
    "        data ([object]): Insert all categorical attributes in the dataset\n",
    "\n",
    "    Returns:\n",
    "        [dataframe]: A dataframe with absolute and percent values\n",
    "    \"\"\"\n",
    "    return pd.DataFrame({'absolute' : data[col].value_counts() , 'percent %': data[col].value_counts(normalize = True) * 100})"
   ]
  },
  {
   "cell_type": "code",
   "execution_count": 4,
   "id": "fa0a40ba",
   "metadata": {
    "ExecuteTime": {
     "end_time": "2022-02-04T16:34:43.865691Z",
     "start_time": "2022-02-04T16:34:43.856399Z"
    }
   },
   "outputs": [],
   "source": [
    "def correlation_matrix(data , method):\n",
    "    \"\"\"Generates a correlation matrix of numerical variables\n",
    "\n",
    "    Args:correlation_matrix\n",
    "        data ([DataFrame]): [The dataframe of the EDA]\n",
    "        method ([string]): [The method used, it can be ‘pearson’, ‘kendall’ or ‘spearman’]\n",
    "\n",
    "    Returns:\n",
    "        [Image]: [The correlation matrix plot made with seaborn]\n",
    "    \"\"\"\n",
    "    \n",
    "    # correlation\n",
    "    num_attributes = data.select_dtypes( include = ['int64' , 'float64'])\n",
    "    correlation = num_attributes.corr( method = method)\n",
    "#     correlation.append('exited')\n",
    "    \n",
    "#     df_corr = data[correlation].reset_index(drop=True)\n",
    "#     df_corr['exited'] = df_corr['exited'].astype('int')\n",
    "    \n",
    "    # mask\n",
    "    mask = np.zeros_like(correlation)\n",
    "    mask = np.triu(np.ones_like(correlation , dtype = np.bool))\n",
    "    \n",
    "    # plot -  mask = mask ,\n",
    "    ax = sns.heatmap(correlation , fmt = '.2f' , vmin = -1 , vmax = 1, annot =  True, cmap = 'YlGnBu' , square = True)\n",
    "    \n",
    "    return ax"
   ]
  },
  {
   "cell_type": "code",
   "execution_count": 5,
   "id": "36d68b82",
   "metadata": {
    "ExecuteTime": {
     "end_time": "2022-02-04T16:34:43.874984Z",
     "start_time": "2022-02-04T16:34:43.867579Z"
    }
   },
   "outputs": [],
   "source": [
    "def without_hue(plot, feature):\n",
    "    total = len(feature)\n",
    "    for p in plot.patches:\n",
    "        percentage = '{:.1f}%'.format(100 * p.get_height()/total)\n",
    "        x = p.get_x() + p.get_width() / 2 - 0.05\n",
    "        y = p.get_y() + p.get_height()\n",
    "        plot.annotate(percentage, (x, y), size = 12)\n",
    "\n",
    "def plot_cat_overview(df, cat_attributes, target):\n",
    "    \n",
    "    cat_attributes.remove(target)\n",
    "    plots_lin = math.ceil(len(cat_attributes)/2)\n",
    "    \n",
    "    fig, axs = plt.subplots(plots_lin,2, figsize=(25, 10), facecolor='w', edgecolor='k')\n",
    "    fig.subplots_adjust(hspace = .5, wspace=.20)\n",
    "    axs = axs.ravel()    \n",
    "\n",
    "    for c in range(len(cat_attributes)):\n",
    "        ax1 = sns.countplot(ax=axs[c], x=cat_attributes[c],hue=target, data=df)\n",
    "        without_hue(ax1,df1.exited)"
   ]
  },
  {
   "cell_type": "code",
   "execution_count": 6,
   "id": "2e91f7ca",
   "metadata": {
    "ExecuteTime": {
     "end_time": "2022-02-04T16:34:43.883787Z",
     "start_time": "2022-02-04T16:34:43.876549Z"
    }
   },
   "outputs": [],
   "source": [
    "def sum_of_na (data):\n",
    "    return pd.DataFrame({'Sum of NA' : data.isna().sum(), '% NA': data.isna().sum()/data.shape[0]})"
   ]
  },
  {
   "cell_type": "code",
   "execution_count": 7,
   "id": "58da6afc",
   "metadata": {
    "ExecuteTime": {
     "end_time": "2022-02-04T16:34:43.890734Z",
     "start_time": "2022-02-04T16:34:43.885528Z"
    }
   },
   "outputs": [],
   "source": [
    "def lift_score(y, y_pred, **kwargs):    \n",
    "    df = pd.DataFrame()\n",
    "    df['true'] = y\n",
    "    df['pred'] = y_pred\n",
    "    df.sort_values('pred', ascending=False, inplace=True)\n",
    "    N = len(df)\n",
    "    churn_total = df['true'].sum() / N\n",
    "    n = int(np.ceil(.1 * N)) \n",
    "    data_here = df.iloc[:n, :]\n",
    "    churn_here = data_here['true'].sum() / n\n",
    "    lift = churn_here / churn_total\n",
    "    return lift"
   ]
  },
  {
   "cell_type": "code",
   "execution_count": 8,
   "id": "1c624a68",
   "metadata": {
    "ExecuteTime": {
     "end_time": "2022-02-04T16:34:43.901143Z",
     "start_time": "2022-02-04T16:34:43.893662Z"
    }
   },
   "outputs": [],
   "source": [
    " def knapsack(W, wt, val):\n",
    "    n = len(val)\n",
    "    K = [[0 for x in range(W + 1)] for x in range(n + 1)]\n",
    "    for i in range(n + 1):\n",
    "        for w in range(W + 1):\n",
    "            if i == 0 or w == 0:\n",
    "                K[i][w] = 0\n",
    "            elif wt[i-1] <= w:\n",
    "                K[i][w] = max(val[i-1] + K[i-1][w-wt[i-1]], K[i-1][w])\n",
    "            else:\n",
    "                K[i][w] = K[i-1][w]\n",
    "    max_val = K[n][W]\n",
    "    keep = [False] * n\n",
    "    res = max_val\n",
    "    w = W\n",
    "    for i in range(n, 0, -1):\n",
    "        if res <= 0: break\n",
    "        if res == K[i - 1][w]: continue\n",
    "        else:\n",
    "            keep[i - 1] = True\n",
    "            res = res - val[i - 1]\n",
    "            w = w - wt[i - 1]\n",
    "    del K\n",
    "    return max_val, keep"
   ]
  },
  {
   "cell_type": "code",
   "execution_count": null,
   "id": "45187ded",
   "metadata": {},
   "outputs": [],
   "source": []
  },
  {
   "cell_type": "markdown",
   "id": "8e8922ee",
   "metadata": {},
   "source": [
    "## 0.2. Loading Data"
   ]
  },
  {
   "cell_type": "code",
   "execution_count": 9,
   "id": "d9f5837c",
   "metadata": {
    "ExecuteTime": {
     "end_time": "2022-02-04T16:34:43.925136Z",
     "start_time": "2022-02-04T16:34:43.902924Z"
    }
   },
   "outputs": [],
   "source": [
    "df_raw = pd.read_csv(r'~/repositorio/churn_predict/data/raw/churn.csv')"
   ]
  },
  {
   "cell_type": "code",
   "execution_count": 10,
   "id": "c6612578",
   "metadata": {
    "ExecuteTime": {
     "end_time": "2022-02-04T16:34:43.945232Z",
     "start_time": "2022-02-04T16:34:43.926968Z"
    }
   },
   "outputs": [
    {
     "data": {
      "text/html": [
       "<div>\n",
       "<style scoped>\n",
       "    .dataframe tbody tr th:only-of-type {\n",
       "        vertical-align: middle;\n",
       "    }\n",
       "\n",
       "    .dataframe tbody tr th {\n",
       "        vertical-align: top;\n",
       "    }\n",
       "\n",
       "    .dataframe thead th {\n",
       "        text-align: right;\n",
       "    }\n",
       "</style>\n",
       "<table border=\"1\" class=\"dataframe\">\n",
       "  <thead>\n",
       "    <tr style=\"text-align: right;\">\n",
       "      <th></th>\n",
       "      <th>RowNumber</th>\n",
       "      <th>CustomerId</th>\n",
       "      <th>Surname</th>\n",
       "      <th>CreditScore</th>\n",
       "      <th>Geography</th>\n",
       "      <th>Gender</th>\n",
       "      <th>Age</th>\n",
       "      <th>Tenure</th>\n",
       "      <th>Balance</th>\n",
       "      <th>NumOfProducts</th>\n",
       "      <th>HasCrCard</th>\n",
       "      <th>IsActiveMember</th>\n",
       "      <th>EstimatedSalary</th>\n",
       "      <th>Exited</th>\n",
       "    </tr>\n",
       "  </thead>\n",
       "  <tbody>\n",
       "    <tr>\n",
       "      <th>0</th>\n",
       "      <td>1</td>\n",
       "      <td>15634602</td>\n",
       "      <td>Hargrave</td>\n",
       "      <td>619</td>\n",
       "      <td>France</td>\n",
       "      <td>Female</td>\n",
       "      <td>42</td>\n",
       "      <td>2</td>\n",
       "      <td>0.000</td>\n",
       "      <td>1</td>\n",
       "      <td>1</td>\n",
       "      <td>1</td>\n",
       "      <td>101348.880</td>\n",
       "      <td>1</td>\n",
       "    </tr>\n",
       "    <tr>\n",
       "      <th>1</th>\n",
       "      <td>2</td>\n",
       "      <td>15647311</td>\n",
       "      <td>Hill</td>\n",
       "      <td>608</td>\n",
       "      <td>Spain</td>\n",
       "      <td>Female</td>\n",
       "      <td>41</td>\n",
       "      <td>1</td>\n",
       "      <td>83807.860</td>\n",
       "      <td>1</td>\n",
       "      <td>0</td>\n",
       "      <td>1</td>\n",
       "      <td>112542.580</td>\n",
       "      <td>0</td>\n",
       "    </tr>\n",
       "    <tr>\n",
       "      <th>2</th>\n",
       "      <td>3</td>\n",
       "      <td>15619304</td>\n",
       "      <td>Onio</td>\n",
       "      <td>502</td>\n",
       "      <td>France</td>\n",
       "      <td>Female</td>\n",
       "      <td>42</td>\n",
       "      <td>8</td>\n",
       "      <td>159660.800</td>\n",
       "      <td>3</td>\n",
       "      <td>1</td>\n",
       "      <td>0</td>\n",
       "      <td>113931.570</td>\n",
       "      <td>1</td>\n",
       "    </tr>\n",
       "    <tr>\n",
       "      <th>3</th>\n",
       "      <td>4</td>\n",
       "      <td>15701354</td>\n",
       "      <td>Boni</td>\n",
       "      <td>699</td>\n",
       "      <td>France</td>\n",
       "      <td>Female</td>\n",
       "      <td>39</td>\n",
       "      <td>1</td>\n",
       "      <td>0.000</td>\n",
       "      <td>2</td>\n",
       "      <td>0</td>\n",
       "      <td>0</td>\n",
       "      <td>93826.630</td>\n",
       "      <td>0</td>\n",
       "    </tr>\n",
       "    <tr>\n",
       "      <th>4</th>\n",
       "      <td>5</td>\n",
       "      <td>15737888</td>\n",
       "      <td>Mitchell</td>\n",
       "      <td>850</td>\n",
       "      <td>Spain</td>\n",
       "      <td>Female</td>\n",
       "      <td>43</td>\n",
       "      <td>2</td>\n",
       "      <td>125510.820</td>\n",
       "      <td>1</td>\n",
       "      <td>1</td>\n",
       "      <td>1</td>\n",
       "      <td>79084.100</td>\n",
       "      <td>0</td>\n",
       "    </tr>\n",
       "  </tbody>\n",
       "</table>\n",
       "</div>"
      ],
      "text/plain": [
       "   RowNumber  CustomerId   Surname  CreditScore Geography  Gender  Age  \\\n",
       "0          1    15634602  Hargrave          619    France  Female   42   \n",
       "1          2    15647311      Hill          608     Spain  Female   41   \n",
       "2          3    15619304      Onio          502    France  Female   42   \n",
       "3          4    15701354      Boni          699    France  Female   39   \n",
       "4          5    15737888  Mitchell          850     Spain  Female   43   \n",
       "\n",
       "   Tenure    Balance  NumOfProducts  HasCrCard  IsActiveMember  \\\n",
       "0       2      0.000              1          1               1   \n",
       "1       1  83807.860              1          0               1   \n",
       "2       8 159660.800              3          1               0   \n",
       "3       1      0.000              2          0               0   \n",
       "4       2 125510.820              1          1               1   \n",
       "\n",
       "   EstimatedSalary  Exited  \n",
       "0       101348.880       1  \n",
       "1       112542.580       0  \n",
       "2       113931.570       1  \n",
       "3        93826.630       0  \n",
       "4        79084.100       0  "
      ]
     },
     "execution_count": 10,
     "metadata": {},
     "output_type": "execute_result"
    }
   ],
   "source": [
    "df_raw.head()"
   ]
  },
  {
   "cell_type": "markdown",
   "id": "ef7f405a",
   "metadata": {},
   "source": [
    "# 1.0. Data Description\n"
   ]
  },
  {
   "cell_type": "markdown",
   "id": "91d7d070",
   "metadata": {},
   "source": [
    " - **RowNumber**      : O número da coluna.\n",
    " - **CustomerID**     : Identificador único do cliente.\n",
    " - **Surname**        : Sobrenome do cliente.\n",
    " - **CreditScore**    : A pontuação de Crédito do cliente para o mercado de consumo.\n",
    " - **Geography**      : O país onde o cliente reside.\n",
    " - **Gender**         : O gênero do cliente.\n",
    " - **Age**            : A idade do cliente.\n",
    " - **Tenure**         : Número de anos que o cliente permaneceu ativo.\n",
    " - **Balance**        : Valor monetário que o cliente tem em sua conta bancária.\n",
    " - **NumOfProducts**  : O número de produtos comprado pelo cliente no banco.\n",
    " - **HasCrCard**      : Indica se o cliente possui ou não cartão de crédito.\n",
    " - **IsActiveMember** : Indica se o cliente fez pelo menos uma movimentação na conta bancário dentro de 12 meses.\n",
    " - **EstimateSalary** : Estimativa do salário mensal do cliente.\n",
    " - **Exited**         : Indica se o cliente está ou não em Churn."
   ]
  },
  {
   "cell_type": "code",
   "execution_count": 11,
   "id": "cce6a145",
   "metadata": {
    "ExecuteTime": {
     "end_time": "2022-02-04T16:34:43.949861Z",
     "start_time": "2022-02-04T16:34:43.946886Z"
    }
   },
   "outputs": [],
   "source": [
    "df1 = df_raw.copy()"
   ]
  },
  {
   "cell_type": "code",
   "execution_count": 12,
   "id": "21fe53fc",
   "metadata": {
    "ExecuteTime": {
     "end_time": "2022-02-04T16:34:43.960588Z",
     "start_time": "2022-02-04T16:34:43.951440Z"
    },
    "scrolled": true
   },
   "outputs": [
    {
     "data": {
      "text/plain": [
       "Index(['RowNumber', 'CustomerId', 'Surname', 'CreditScore', 'Geography',\n",
       "       'Gender', 'Age', 'Tenure', 'Balance', 'NumOfProducts', 'HasCrCard',\n",
       "       'IsActiveMember', 'EstimatedSalary', 'Exited'],\n",
       "      dtype='object')"
      ]
     },
     "execution_count": 12,
     "metadata": {},
     "output_type": "execute_result"
    }
   ],
   "source": [
    "df1.columns"
   ]
  },
  {
   "cell_type": "code",
   "execution_count": 13,
   "id": "1343dd3f",
   "metadata": {
    "ExecuteTime": {
     "end_time": "2022-02-04T16:34:43.972383Z",
     "start_time": "2022-02-04T16:34:43.962260Z"
    }
   },
   "outputs": [
    {
     "data": {
      "text/plain": [
       "0"
      ]
     },
     "execution_count": 13,
     "metadata": {},
     "output_type": "execute_result"
    }
   ],
   "source": [
    "df1.duplicated('CustomerId').sum() "
   ]
  },
  {
   "cell_type": "code",
   "execution_count": 14,
   "id": "ac6ab1fc",
   "metadata": {
    "ExecuteTime": {
     "end_time": "2022-02-04T16:34:43.985880Z",
     "start_time": "2022-02-04T16:34:43.974214Z"
    }
   },
   "outputs": [
    {
     "name": "stdout",
     "output_type": "stream",
     "text": [
      "<class 'pandas.core.frame.DataFrame'>\n",
      "RangeIndex: 10000 entries, 0 to 9999\n",
      "Data columns (total 14 columns):\n",
      " #   Column           Non-Null Count  Dtype  \n",
      "---  ------           --------------  -----  \n",
      " 0   RowNumber        10000 non-null  int64  \n",
      " 1   CustomerId       10000 non-null  int64  \n",
      " 2   Surname          10000 non-null  object \n",
      " 3   CreditScore      10000 non-null  int64  \n",
      " 4   Geography        10000 non-null  object \n",
      " 5   Gender           10000 non-null  object \n",
      " 6   Age              10000 non-null  int64  \n",
      " 7   Tenure           10000 non-null  int64  \n",
      " 8   Balance          10000 non-null  float64\n",
      " 9   NumOfProducts    10000 non-null  int64  \n",
      " 10  HasCrCard        10000 non-null  int64  \n",
      " 11  IsActiveMember   10000 non-null  int64  \n",
      " 12  EstimatedSalary  10000 non-null  float64\n",
      " 13  Exited           10000 non-null  int64  \n",
      "dtypes: float64(2), int64(9), object(3)\n",
      "memory usage: 1.1+ MB\n"
     ]
    }
   ],
   "source": [
    "df1.info()"
   ]
  },
  {
   "cell_type": "markdown",
   "id": "f7de1102",
   "metadata": {},
   "source": [
    "## 1.1 Rename Columns"
   ]
  },
  {
   "cell_type": "code",
   "execution_count": 15,
   "id": "7b34e5d7",
   "metadata": {
    "ExecuteTime": {
     "end_time": "2022-02-04T16:34:43.991026Z",
     "start_time": "2022-02-04T16:34:43.987471Z"
    }
   },
   "outputs": [],
   "source": [
    "old_columns=list(df1.columns)\n",
    "\n",
    "snakecase = lambda x : inflection.underscore(x)\n",
    "new_columns = map(snakecase , old_columns)\n",
    "\n",
    "# rename columns\n",
    "df1.columns = new_columns\n"
   ]
  },
  {
   "cell_type": "markdown",
   "id": "2ba5317e",
   "metadata": {},
   "source": [
    "## 1.2. Data Dimensions"
   ]
  },
  {
   "cell_type": "code",
   "execution_count": 16,
   "id": "fad81153",
   "metadata": {
    "ExecuteTime": {
     "end_time": "2022-02-04T16:34:43.998844Z",
     "start_time": "2022-02-04T16:34:43.992598Z"
    }
   },
   "outputs": [
    {
     "name": "stdout",
     "output_type": "stream",
     "text": [
      "Numbers of rows: 10000\n",
      "Numbers of cols: 14\n"
     ]
    }
   ],
   "source": [
    "print('Numbers of rows: {}'.format(df1.shape[0]))\n",
    "print('Numbers of cols: {}'.format(df1.shape[1]))"
   ]
  },
  {
   "cell_type": "markdown",
   "id": "88488ce3",
   "metadata": {},
   "source": [
    "## 1.3. Data Types"
   ]
  },
  {
   "cell_type": "code",
   "execution_count": 17,
   "id": "7b6af794",
   "metadata": {
    "ExecuteTime": {
     "end_time": "2022-02-04T16:34:44.007522Z",
     "start_time": "2022-02-04T16:34:44.002640Z"
    },
    "scrolled": true
   },
   "outputs": [
    {
     "data": {
      "text/plain": [
       "row_number            int64\n",
       "customer_id           int64\n",
       "surname              object\n",
       "credit_score          int64\n",
       "geography            object\n",
       "gender               object\n",
       "age                   int64\n",
       "tenure                int64\n",
       "balance             float64\n",
       "num_of_products       int64\n",
       "has_cr_card           int64\n",
       "is_active_member      int64\n",
       "estimated_salary    float64\n",
       "exited                int64\n",
       "dtype: object"
      ]
     },
     "execution_count": 17,
     "metadata": {},
     "output_type": "execute_result"
    }
   ],
   "source": [
    "df1.dtypes"
   ]
  },
  {
   "cell_type": "markdown",
   "id": "e94a54d8",
   "metadata": {},
   "source": [
    "### 1.3.1. Change Data Types"
   ]
  },
  {
   "cell_type": "code",
   "execution_count": 18,
   "id": "62dc781a",
   "metadata": {
    "ExecuteTime": {
     "end_time": "2022-02-04T16:34:44.015893Z",
     "start_time": "2022-02-04T16:34:44.009206Z"
    }
   },
   "outputs": [],
   "source": [
    "df1.exited = df1.exited.astype('bool')\n",
    "df1.has_cr_card = df1.has_cr_card.astype('bool')\n",
    "df1.is_active_member= df1.is_active_member.astype('bool')"
   ]
  },
  {
   "cell_type": "markdown",
   "id": "263b23b4",
   "metadata": {},
   "source": [
    "### 1.3.2. Check unique values"
   ]
  },
  {
   "cell_type": "code",
   "execution_count": 19,
   "id": "30e6e662",
   "metadata": {
    "ExecuteTime": {
     "end_time": "2022-02-04T16:34:44.032598Z",
     "start_time": "2022-02-04T16:34:44.017662Z"
    },
    "scrolled": true
   },
   "outputs": [
    {
     "data": {
      "text/plain": [
       "row_number          10000\n",
       "customer_id         10000\n",
       "surname              2932\n",
       "credit_score          460\n",
       "geography               3\n",
       "gender                  2\n",
       "age                    70\n",
       "tenure                 11\n",
       "balance              6382\n",
       "num_of_products         4\n",
       "has_cr_card             2\n",
       "is_active_member        2\n",
       "estimated_salary     9999\n",
       "exited                  2\n",
       "dtype: int64"
      ]
     },
     "execution_count": 19,
     "metadata": {},
     "output_type": "execute_result"
    }
   ],
   "source": [
    "df1.nunique()"
   ]
  },
  {
   "cell_type": "markdown",
   "id": "5c4c1d0b",
   "metadata": {},
   "source": [
    "### 1.3.3. Remove Variables"
   ]
  },
  {
   "cell_type": "code",
   "execution_count": 20,
   "id": "bacb70d3",
   "metadata": {
    "ExecuteTime": {
     "end_time": "2022-02-04T16:34:44.039766Z",
     "start_time": "2022-02-04T16:34:44.034425Z"
    }
   },
   "outputs": [],
   "source": [
    "cols_drop = ['row_number', 'surname', 'customer_id']\n",
    "df1 = df1.drop(cols_drop , axis = 1)"
   ]
  },
  {
   "cell_type": "markdown",
   "id": "f383f436",
   "metadata": {},
   "source": [
    "## 1.4. Check NA"
   ]
  },
  {
   "cell_type": "code",
   "execution_count": 21,
   "id": "5623c870",
   "metadata": {
    "ExecuteTime": {
     "end_time": "2022-02-04T16:34:44.051697Z",
     "start_time": "2022-02-04T16:34:44.041589Z"
    },
    "scrolled": true
   },
   "outputs": [
    {
     "data": {
      "text/plain": [
       "credit_score        0\n",
       "geography           0\n",
       "gender              0\n",
       "age                 0\n",
       "tenure              0\n",
       "balance             0\n",
       "num_of_products     0\n",
       "has_cr_card         0\n",
       "is_active_member    0\n",
       "estimated_salary    0\n",
       "exited              0\n",
       "dtype: int64"
      ]
     },
     "execution_count": 21,
     "metadata": {},
     "output_type": "execute_result"
    }
   ],
   "source": [
    "df1.isna().sum()"
   ]
  },
  {
   "cell_type": "markdown",
   "id": "a7859bed",
   "metadata": {},
   "source": [
    "## 1.5. Data Descriptive"
   ]
  },
  {
   "cell_type": "code",
   "execution_count": 22,
   "id": "c2889fbb",
   "metadata": {
    "ExecuteTime": {
     "end_time": "2022-02-04T16:34:44.059275Z",
     "start_time": "2022-02-04T16:34:44.053635Z"
    }
   },
   "outputs": [],
   "source": [
    "num_attributes = df1.select_dtypes(include=['int64', 'float64'])\n",
    "cat_attributes = df1.select_dtypes(exclude=['int64', 'float64'])"
   ]
  },
  {
   "cell_type": "markdown",
   "id": "8895244f",
   "metadata": {},
   "source": [
    "### 1.5.1. Numerical Attributes\n"
   ]
  },
  {
   "cell_type": "code",
   "execution_count": 23,
   "id": "ec8c6255",
   "metadata": {
    "ExecuteTime": {
     "end_time": "2022-02-04T16:34:44.104227Z",
     "start_time": "2022-02-04T16:34:44.063637Z"
    },
    "scrolled": true
   },
   "outputs": [
    {
     "data": {
      "text/html": [
       "<div>\n",
       "<style scoped>\n",
       "    .dataframe tbody tr th:only-of-type {\n",
       "        vertical-align: middle;\n",
       "    }\n",
       "\n",
       "    .dataframe tbody tr th {\n",
       "        vertical-align: top;\n",
       "    }\n",
       "\n",
       "    .dataframe thead th {\n",
       "        text-align: right;\n",
       "    }\n",
       "</style>\n",
       "<table border=\"1\" class=\"dataframe\">\n",
       "  <thead>\n",
       "    <tr style=\"text-align: right;\">\n",
       "      <th></th>\n",
       "      <th>attributes</th>\n",
       "      <th>min</th>\n",
       "      <th>max</th>\n",
       "      <th>range</th>\n",
       "      <th>mean</th>\n",
       "      <th>median</th>\n",
       "      <th>std</th>\n",
       "      <th>skew</th>\n",
       "      <th>kurtosis</th>\n",
       "      <th>shapiro</th>\n",
       "    </tr>\n",
       "  </thead>\n",
       "  <tbody>\n",
       "    <tr>\n",
       "      <th>0</th>\n",
       "      <td>credit_score</td>\n",
       "      <td>350.0</td>\n",
       "      <td>850.0</td>\n",
       "      <td>500.0</td>\n",
       "      <td>650.529</td>\n",
       "      <td>652.0</td>\n",
       "      <td>96.648</td>\n",
       "      <td>-0.072</td>\n",
       "      <td>-0.426</td>\n",
       "      <td>not normal</td>\n",
       "    </tr>\n",
       "    <tr>\n",
       "      <th>1</th>\n",
       "      <td>age</td>\n",
       "      <td>18.0</td>\n",
       "      <td>92.0</td>\n",
       "      <td>74.0</td>\n",
       "      <td>38.922</td>\n",
       "      <td>37.0</td>\n",
       "      <td>10.487</td>\n",
       "      <td>1.011</td>\n",
       "      <td>1.395</td>\n",
       "      <td>not normal</td>\n",
       "    </tr>\n",
       "    <tr>\n",
       "      <th>2</th>\n",
       "      <td>tenure</td>\n",
       "      <td>0.0</td>\n",
       "      <td>10.0</td>\n",
       "      <td>10.0</td>\n",
       "      <td>5.013</td>\n",
       "      <td>5.0</td>\n",
       "      <td>2.892</td>\n",
       "      <td>0.011</td>\n",
       "      <td>-1.165</td>\n",
       "      <td>not normal</td>\n",
       "    </tr>\n",
       "    <tr>\n",
       "      <th>3</th>\n",
       "      <td>balance</td>\n",
       "      <td>0.0</td>\n",
       "      <td>250898.09</td>\n",
       "      <td>250898.09</td>\n",
       "      <td>76485.889</td>\n",
       "      <td>97198.54</td>\n",
       "      <td>62394.285</td>\n",
       "      <td>-0.141</td>\n",
       "      <td>-1.489</td>\n",
       "      <td>not normal</td>\n",
       "    </tr>\n",
       "    <tr>\n",
       "      <th>4</th>\n",
       "      <td>num_of_products</td>\n",
       "      <td>1.0</td>\n",
       "      <td>4.0</td>\n",
       "      <td>3.0</td>\n",
       "      <td>1.53</td>\n",
       "      <td>1.0</td>\n",
       "      <td>0.582</td>\n",
       "      <td>0.746</td>\n",
       "      <td>0.583</td>\n",
       "      <td>not normal</td>\n",
       "    </tr>\n",
       "    <tr>\n",
       "      <th>5</th>\n",
       "      <td>estimated_salary</td>\n",
       "      <td>11.58</td>\n",
       "      <td>199992.48</td>\n",
       "      <td>199980.9</td>\n",
       "      <td>100090.24</td>\n",
       "      <td>100193.915</td>\n",
       "      <td>57507.617</td>\n",
       "      <td>0.002</td>\n",
       "      <td>-1.182</td>\n",
       "      <td>not normal</td>\n",
       "    </tr>\n",
       "  </tbody>\n",
       "</table>\n",
       "</div>"
      ],
      "text/plain": [
       "         attributes   min       max     range      mean     median       std  \\\n",
       "0      credit_score 350.0     850.0     500.0   650.529      652.0    96.648   \n",
       "1               age  18.0      92.0      74.0    38.922       37.0    10.487   \n",
       "2            tenure   0.0      10.0      10.0     5.013        5.0     2.892   \n",
       "3           balance   0.0 250898.09 250898.09 76485.889   97198.54 62394.285   \n",
       "4   num_of_products   1.0       4.0       3.0      1.53        1.0     0.582   \n",
       "5  estimated_salary 11.58 199992.48  199980.9 100090.24 100193.915 57507.617   \n",
       "\n",
       "    skew kurtosis     shapiro  \n",
       "0 -0.072   -0.426  not normal  \n",
       "1  1.011    1.395  not normal  \n",
       "2  0.011   -1.165  not normal  \n",
       "3 -0.141   -1.489  not normal  \n",
       "4  0.746    0.583  not normal  \n",
       "5  0.002   -1.182  not normal  "
      ]
     },
     "execution_count": 23,
     "metadata": {},
     "output_type": "execute_result"
    }
   ],
   "source": [
    "m = numerical_descriptive_statistical(num_attributes)\n",
    "m"
   ]
  },
  {
   "cell_type": "markdown",
   "id": "fd1d76d7",
   "metadata": {},
   "source": [
    "### 1.5.2. Categorical Attributes\n"
   ]
  },
  {
   "cell_type": "code",
   "execution_count": 24,
   "id": "ae7d024e",
   "metadata": {
    "ExecuteTime": {
     "end_time": "2022-02-04T16:34:44.110126Z",
     "start_time": "2022-02-04T16:34:44.106477Z"
    }
   },
   "outputs": [
    {
     "data": {
      "text/plain": [
       "Index(['geography', 'gender', 'has_cr_card', 'is_active_member', 'exited'], dtype='object')"
      ]
     },
     "execution_count": 24,
     "metadata": {},
     "output_type": "execute_result"
    }
   ],
   "source": [
    "cat_attributes.columns"
   ]
  },
  {
   "cell_type": "code",
   "execution_count": 25,
   "id": "2ddd09d2",
   "metadata": {
    "ExecuteTime": {
     "end_time": "2022-02-04T16:34:44.121305Z",
     "start_time": "2022-02-04T16:34:44.111736Z"
    }
   },
   "outputs": [
    {
     "data": {
      "text/html": [
       "<div>\n",
       "<style scoped>\n",
       "    .dataframe tbody tr th:only-of-type {\n",
       "        vertical-align: middle;\n",
       "    }\n",
       "\n",
       "    .dataframe tbody tr th {\n",
       "        vertical-align: top;\n",
       "    }\n",
       "\n",
       "    .dataframe thead th {\n",
       "        text-align: right;\n",
       "    }\n",
       "</style>\n",
       "<table border=\"1\" class=\"dataframe\">\n",
       "  <thead>\n",
       "    <tr style=\"text-align: right;\">\n",
       "      <th></th>\n",
       "      <th>geography</th>\n",
       "      <th>exited</th>\n",
       "    </tr>\n",
       "  </thead>\n",
       "  <tbody>\n",
       "    <tr>\n",
       "      <th>0</th>\n",
       "      <td>France</td>\n",
       "      <td>5014</td>\n",
       "    </tr>\n",
       "    <tr>\n",
       "      <th>1</th>\n",
       "      <td>Germany</td>\n",
       "      <td>2509</td>\n",
       "    </tr>\n",
       "    <tr>\n",
       "      <th>2</th>\n",
       "      <td>Spain</td>\n",
       "      <td>2477</td>\n",
       "    </tr>\n",
       "  </tbody>\n",
       "</table>\n",
       "</div>"
      ],
      "text/plain": [
       "  geography  exited\n",
       "0    France    5014\n",
       "1   Germany    2509\n",
       "2     Spain    2477"
      ]
     },
     "execution_count": 25,
     "metadata": {},
     "output_type": "execute_result"
    }
   ],
   "source": [
    "x = df1[['geography' , 'exited']].groupby('geography').count().reset_index()\n",
    "x"
   ]
  },
  {
   "cell_type": "code",
   "execution_count": 26,
   "id": "c5ec00bc",
   "metadata": {
    "ExecuteTime": {
     "end_time": "2022-02-04T16:34:44.626532Z",
     "start_time": "2022-02-04T16:34:44.122795Z"
    },
    "scrolled": false
   },
   "outputs": [
    {
     "data": {
      "image/png": "[encoded data removed]",
      "text/plain": [
       "<Figure size 1800x720 with 4 Axes>"
      ]
     },
     "metadata": {},
     "output_type": "display_data"
    }
   ],
   "source": [
    "plot_cat_overview(cat_attributes, list(cat_attributes.columns), 'exited') "
   ]
  },
  {
   "cell_type": "code",
   "execution_count": 27,
   "id": "a3367a3b",
   "metadata": {
    "ExecuteTime": {
     "end_time": "2022-02-04T16:34:44.636527Z",
     "start_time": "2022-02-04T16:34:44.628152Z"
    }
   },
   "outputs": [
    {
     "data": {
      "text/html": [
       "<div>\n",
       "<style scoped>\n",
       "    .dataframe tbody tr th:only-of-type {\n",
       "        vertical-align: middle;\n",
       "    }\n",
       "\n",
       "    .dataframe tbody tr th {\n",
       "        vertical-align: top;\n",
       "    }\n",
       "\n",
       "    .dataframe thead th {\n",
       "        text-align: right;\n",
       "    }\n",
       "</style>\n",
       "<table border=\"1\" class=\"dataframe\">\n",
       "  <thead>\n",
       "    <tr style=\"text-align: right;\">\n",
       "      <th></th>\n",
       "      <th>absolute</th>\n",
       "      <th>percent %</th>\n",
       "    </tr>\n",
       "  </thead>\n",
       "  <tbody>\n",
       "    <tr>\n",
       "      <th>France</th>\n",
       "      <td>5014</td>\n",
       "      <td>50.140</td>\n",
       "    </tr>\n",
       "    <tr>\n",
       "      <th>Germany</th>\n",
       "      <td>2509</td>\n",
       "      <td>25.090</td>\n",
       "    </tr>\n",
       "    <tr>\n",
       "      <th>Spain</th>\n",
       "      <td>2477</td>\n",
       "      <td>24.770</td>\n",
       "    </tr>\n",
       "  </tbody>\n",
       "</table>\n",
       "</div>"
      ],
      "text/plain": [
       "         absolute  percent %\n",
       "France       5014     50.140\n",
       "Germany      2509     25.090\n",
       "Spain        2477     24.770"
      ]
     },
     "execution_count": 27,
     "metadata": {},
     "output_type": "execute_result"
    }
   ],
   "source": [
    "categorical_descriptive_statstical(cat_attributes , 'geography')"
   ]
  },
  {
   "cell_type": "code",
   "execution_count": 28,
   "id": "cff7662c",
   "metadata": {
    "ExecuteTime": {
     "end_time": "2022-02-04T16:34:44.647799Z",
     "start_time": "2022-02-04T16:34:44.637867Z"
    }
   },
   "outputs": [
    {
     "data": {
      "text/html": [
       "<div>\n",
       "<style scoped>\n",
       "    .dataframe tbody tr th:only-of-type {\n",
       "        vertical-align: middle;\n",
       "    }\n",
       "\n",
       "    .dataframe tbody tr th {\n",
       "        vertical-align: top;\n",
       "    }\n",
       "\n",
       "    .dataframe thead th {\n",
       "        text-align: right;\n",
       "    }\n",
       "</style>\n",
       "<table border=\"1\" class=\"dataframe\">\n",
       "  <thead>\n",
       "    <tr style=\"text-align: right;\">\n",
       "      <th></th>\n",
       "      <th>absolute</th>\n",
       "      <th>percent %</th>\n",
       "    </tr>\n",
       "  </thead>\n",
       "  <tbody>\n",
       "    <tr>\n",
       "      <th>Male</th>\n",
       "      <td>5457</td>\n",
       "      <td>54.570</td>\n",
       "    </tr>\n",
       "    <tr>\n",
       "      <th>Female</th>\n",
       "      <td>4543</td>\n",
       "      <td>45.430</td>\n",
       "    </tr>\n",
       "  </tbody>\n",
       "</table>\n",
       "</div>"
      ],
      "text/plain": [
       "        absolute  percent %\n",
       "Male        5457     54.570\n",
       "Female      4543     45.430"
      ]
     },
     "execution_count": 28,
     "metadata": {},
     "output_type": "execute_result"
    }
   ],
   "source": [
    "categorical_descriptive_statstical(cat_attributes , 'gender')"
   ]
  },
  {
   "cell_type": "code",
   "execution_count": 29,
   "id": "34126cd4",
   "metadata": {
    "ExecuteTime": {
     "end_time": "2022-02-04T16:34:44.659302Z",
     "start_time": "2022-02-04T16:34:44.649272Z"
    }
   },
   "outputs": [
    {
     "data": {
      "text/html": [
       "<div>\n",
       "<style scoped>\n",
       "    .dataframe tbody tr th:only-of-type {\n",
       "        vertical-align: middle;\n",
       "    }\n",
       "\n",
       "    .dataframe tbody tr th {\n",
       "        vertical-align: top;\n",
       "    }\n",
       "\n",
       "    .dataframe thead th {\n",
       "        text-align: right;\n",
       "    }\n",
       "</style>\n",
       "<table border=\"1\" class=\"dataframe\">\n",
       "  <thead>\n",
       "    <tr style=\"text-align: right;\">\n",
       "      <th></th>\n",
       "      <th>absolute</th>\n",
       "      <th>percent %</th>\n",
       "    </tr>\n",
       "  </thead>\n",
       "  <tbody>\n",
       "    <tr>\n",
       "      <th>True</th>\n",
       "      <td>7055</td>\n",
       "      <td>70.550</td>\n",
       "    </tr>\n",
       "    <tr>\n",
       "      <th>False</th>\n",
       "      <td>2945</td>\n",
       "      <td>29.450</td>\n",
       "    </tr>\n",
       "  </tbody>\n",
       "</table>\n",
       "</div>"
      ],
      "text/plain": [
       "       absolute  percent %\n",
       "True       7055     70.550\n",
       "False      2945     29.450"
      ]
     },
     "execution_count": 29,
     "metadata": {},
     "output_type": "execute_result"
    }
   ],
   "source": [
    "categorical_descriptive_statstical(cat_attributes , 'has_cr_card')"
   ]
  },
  {
   "cell_type": "code",
   "execution_count": 30,
   "id": "893b0fd4",
   "metadata": {
    "ExecuteTime": {
     "end_time": "2022-02-04T16:34:44.668874Z",
     "start_time": "2022-02-04T16:34:44.660934Z"
    },
    "scrolled": true
   },
   "outputs": [
    {
     "data": {
      "text/html": [
       "<div>\n",
       "<style scoped>\n",
       "    .dataframe tbody tr th:only-of-type {\n",
       "        vertical-align: middle;\n",
       "    }\n",
       "\n",
       "    .dataframe tbody tr th {\n",
       "        vertical-align: top;\n",
       "    }\n",
       "\n",
       "    .dataframe thead th {\n",
       "        text-align: right;\n",
       "    }\n",
       "</style>\n",
       "<table border=\"1\" class=\"dataframe\">\n",
       "  <thead>\n",
       "    <tr style=\"text-align: right;\">\n",
       "      <th></th>\n",
       "      <th>absolute</th>\n",
       "      <th>percent %</th>\n",
       "    </tr>\n",
       "  </thead>\n",
       "  <tbody>\n",
       "    <tr>\n",
       "      <th>True</th>\n",
       "      <td>5151</td>\n",
       "      <td>51.510</td>\n",
       "    </tr>\n",
       "    <tr>\n",
       "      <th>False</th>\n",
       "      <td>4849</td>\n",
       "      <td>48.490</td>\n",
       "    </tr>\n",
       "  </tbody>\n",
       "</table>\n",
       "</div>"
      ],
      "text/plain": [
       "       absolute  percent %\n",
       "True       5151     51.510\n",
       "False      4849     48.490"
      ]
     },
     "execution_count": 30,
     "metadata": {},
     "output_type": "execute_result"
    }
   ],
   "source": [
    "categorical_descriptive_statstical(cat_attributes , 'is_active_member')"
   ]
  },
  {
   "cell_type": "code",
   "execution_count": 31,
   "id": "31a1da5f",
   "metadata": {
    "ExecuteTime": {
     "end_time": "2022-02-04T16:34:44.677912Z",
     "start_time": "2022-02-04T16:34:44.670329Z"
    }
   },
   "outputs": [
    {
     "data": {
      "text/html": [
       "<div>\n",
       "<style scoped>\n",
       "    .dataframe tbody tr th:only-of-type {\n",
       "        vertical-align: middle;\n",
       "    }\n",
       "\n",
       "    .dataframe tbody tr th {\n",
       "        vertical-align: top;\n",
       "    }\n",
       "\n",
       "    .dataframe thead th {\n",
       "        text-align: right;\n",
       "    }\n",
       "</style>\n",
       "<table border=\"1\" class=\"dataframe\">\n",
       "  <thead>\n",
       "    <tr style=\"text-align: right;\">\n",
       "      <th></th>\n",
       "      <th>absolute</th>\n",
       "      <th>percent %</th>\n",
       "    </tr>\n",
       "  </thead>\n",
       "  <tbody>\n",
       "    <tr>\n",
       "      <th>False</th>\n",
       "      <td>7963</td>\n",
       "      <td>79.630</td>\n",
       "    </tr>\n",
       "    <tr>\n",
       "      <th>True</th>\n",
       "      <td>2037</td>\n",
       "      <td>20.370</td>\n",
       "    </tr>\n",
       "  </tbody>\n",
       "</table>\n",
       "</div>"
      ],
      "text/plain": [
       "       absolute  percent %\n",
       "False      7963     79.630\n",
       "True       2037     20.370"
      ]
     },
     "execution_count": 31,
     "metadata": {},
     "output_type": "execute_result"
    }
   ],
   "source": [
    "categorical_descriptive_statstical(cat_attributes , 'exited')"
   ]
  },
  {
   "cell_type": "markdown",
   "id": "ede9b229",
   "metadata": {},
   "source": [
    "### 1.5.3. Multivariate Analysis\n",
    "\n"
   ]
  },
  {
   "cell_type": "code",
   "execution_count": 32,
   "id": "a1caef70",
   "metadata": {
    "ExecuteTime": {
     "end_time": "2022-02-04T16:34:44.995391Z",
     "start_time": "2022-02-04T16:34:44.679398Z"
    }
   },
   "outputs": [
    {
     "data": {
      "text/plain": [
       "<AxesSubplot:>"
      ]
     },
     "execution_count": 32,
     "metadata": {},
     "output_type": "execute_result"
    },
    {
     "data": {
      "image/png": "[encoded data removed]",
      "text/plain": [
       "<Figure size 1800x864 with 2 Axes>"
      ]
     },
     "metadata": {},
     "output_type": "display_data"
    }
   ],
   "source": [
    "correlation_matrix(df1 , 'spearman')"
   ]
  },
  {
   "cell_type": "markdown",
   "id": "8b17a408",
   "metadata": {},
   "source": [
    "### 1.5.4. Outliers Numerical Attributes\n"
   ]
  },
  {
   "cell_type": "code",
   "execution_count": 33,
   "id": "b7d7f0ec",
   "metadata": {
    "ExecuteTime": {
     "end_time": "2022-02-04T16:34:45.000488Z",
     "start_time": "2022-02-04T16:34:44.997385Z"
    }
   },
   "outputs": [],
   "source": [
    "num_cols = num_attributes.columns.tolist()"
   ]
  },
  {
   "cell_type": "code",
   "execution_count": 34,
   "id": "5c026caa",
   "metadata": {
    "ExecuteTime": {
     "end_time": "2022-02-04T16:34:45.631764Z",
     "start_time": "2022-02-04T16:34:45.002279Z"
    },
    "scrolled": false
   },
   "outputs": [
    {
     "data": {
      "image/png": "[encoded data removed]",
      "text/plain": [
       "<Figure size 1800x864 with 6 Axes>"
      ]
     },
     "metadata": {},
     "output_type": "display_data"
    }
   ],
   "source": [
    "i = 1\n",
    "for col in df1[num_cols]:\n",
    "    plt.subplot(2,3,i)\n",
    "    ax = sns.boxplot( data = df1 , x = col)\n",
    "    i += 1\n",
    "    "
   ]
  },
  {
   "cell_type": "markdown",
   "id": "9614126b",
   "metadata": {},
   "source": [
    " **Important informations:**\n",
    " \n",
    "- There are outliers in **credit_score, num_of_products and age**\n",
    "- The **churn ratio is 20.37%**\n",
    "- **70.6%** of the members **has credit card**\n",
    "- More than **50% of the clients** are **from France**"
   ]
  },
  {
   "cell_type": "markdown",
   "id": "032dbd70",
   "metadata": {},
   "source": [
    "# 2.0. Feature Engineering\n"
   ]
  },
  {
   "cell_type": "code",
   "execution_count": 35,
   "id": "2d020bbb",
   "metadata": {
    "ExecuteTime": {
     "end_time": "2022-02-04T16:34:45.636716Z",
     "start_time": "2022-02-04T16:34:45.633442Z"
    }
   },
   "outputs": [],
   "source": [
    "df2 = df1.copy()"
   ]
  },
  {
   "cell_type": "code",
   "execution_count": 36,
   "id": "01467c8e",
   "metadata": {
    "ExecuteTime": {
     "end_time": "2022-02-04T16:34:45.651454Z",
     "start_time": "2022-02-04T16:34:45.638194Z"
    },
    "scrolled": true
   },
   "outputs": [
    {
     "data": {
      "text/html": [
       "<div>\n",
       "<style scoped>\n",
       "    .dataframe tbody tr th:only-of-type {\n",
       "        vertical-align: middle;\n",
       "    }\n",
       "\n",
       "    .dataframe tbody tr th {\n",
       "        vertical-align: top;\n",
       "    }\n",
       "\n",
       "    .dataframe thead th {\n",
       "        text-align: right;\n",
       "    }\n",
       "</style>\n",
       "<table border=\"1\" class=\"dataframe\">\n",
       "  <thead>\n",
       "    <tr style=\"text-align: right;\">\n",
       "      <th></th>\n",
       "      <th>credit_score</th>\n",
       "      <th>geography</th>\n",
       "      <th>gender</th>\n",
       "      <th>age</th>\n",
       "      <th>tenure</th>\n",
       "      <th>balance</th>\n",
       "      <th>num_of_products</th>\n",
       "      <th>has_cr_card</th>\n",
       "      <th>is_active_member</th>\n",
       "      <th>estimated_salary</th>\n",
       "      <th>exited</th>\n",
       "    </tr>\n",
       "  </thead>\n",
       "  <tbody>\n",
       "    <tr>\n",
       "      <th>0</th>\n",
       "      <td>619</td>\n",
       "      <td>France</td>\n",
       "      <td>Female</td>\n",
       "      <td>42</td>\n",
       "      <td>2</td>\n",
       "      <td>0.000</td>\n",
       "      <td>1</td>\n",
       "      <td>True</td>\n",
       "      <td>True</td>\n",
       "      <td>101348.880</td>\n",
       "      <td>True</td>\n",
       "    </tr>\n",
       "    <tr>\n",
       "      <th>1</th>\n",
       "      <td>608</td>\n",
       "      <td>Spain</td>\n",
       "      <td>Female</td>\n",
       "      <td>41</td>\n",
       "      <td>1</td>\n",
       "      <td>83807.860</td>\n",
       "      <td>1</td>\n",
       "      <td>False</td>\n",
       "      <td>True</td>\n",
       "      <td>112542.580</td>\n",
       "      <td>False</td>\n",
       "    </tr>\n",
       "    <tr>\n",
       "      <th>2</th>\n",
       "      <td>502</td>\n",
       "      <td>France</td>\n",
       "      <td>Female</td>\n",
       "      <td>42</td>\n",
       "      <td>8</td>\n",
       "      <td>159660.800</td>\n",
       "      <td>3</td>\n",
       "      <td>True</td>\n",
       "      <td>False</td>\n",
       "      <td>113931.570</td>\n",
       "      <td>True</td>\n",
       "    </tr>\n",
       "    <tr>\n",
       "      <th>3</th>\n",
       "      <td>699</td>\n",
       "      <td>France</td>\n",
       "      <td>Female</td>\n",
       "      <td>39</td>\n",
       "      <td>1</td>\n",
       "      <td>0.000</td>\n",
       "      <td>2</td>\n",
       "      <td>False</td>\n",
       "      <td>False</td>\n",
       "      <td>93826.630</td>\n",
       "      <td>False</td>\n",
       "    </tr>\n",
       "    <tr>\n",
       "      <th>4</th>\n",
       "      <td>850</td>\n",
       "      <td>Spain</td>\n",
       "      <td>Female</td>\n",
       "      <td>43</td>\n",
       "      <td>2</td>\n",
       "      <td>125510.820</td>\n",
       "      <td>1</td>\n",
       "      <td>True</td>\n",
       "      <td>True</td>\n",
       "      <td>79084.100</td>\n",
       "      <td>False</td>\n",
       "    </tr>\n",
       "  </tbody>\n",
       "</table>\n",
       "</div>"
      ],
      "text/plain": [
       "   credit_score geography  gender  age  tenure    balance  num_of_products  \\\n",
       "0           619    France  Female   42       2      0.000                1   \n",
       "1           608     Spain  Female   41       1  83807.860                1   \n",
       "2           502    France  Female   42       8 159660.800                3   \n",
       "3           699    France  Female   39       1      0.000                2   \n",
       "4           850     Spain  Female   43       2 125510.820                1   \n",
       "\n",
       "   has_cr_card  is_active_member  estimated_salary  exited  \n",
       "0         True              True        101348.880    True  \n",
       "1        False              True        112542.580   False  \n",
       "2         True             False        113931.570    True  \n",
       "3        False             False         93826.630   False  \n",
       "4         True              True         79084.100   False  "
      ]
     },
     "execution_count": 36,
     "metadata": {},
     "output_type": "execute_result"
    }
   ],
   "source": [
    "df2.head()"
   ]
  },
  {
   "cell_type": "markdown",
   "id": "697bdef7",
   "metadata": {},
   "source": [
    "## 2.1. Balance_age"
   ]
  },
  {
   "cell_type": "code",
   "execution_count": 37,
   "id": "830063f1",
   "metadata": {
    "ExecuteTime": {
     "end_time": "2022-02-04T16:34:45.665848Z",
     "start_time": "2022-02-04T16:34:45.653805Z"
    }
   },
   "outputs": [],
   "source": [
    "# balance_per_age\n",
    "balance_age = df2[['balance', 'age']].groupby('age').mean().reset_index()\n",
    "balance_age.columns = ['age' , 'balance_age']\n",
    "\n",
    "# merge\n",
    "\n",
    "df2 = pd.merge(df2, balance_age, on = 'age' ,  how = 'left')"
   ]
  },
  {
   "cell_type": "markdown",
   "id": "7b3a04a2",
   "metadata": {},
   "source": [
    "## 2.2. Balance_country\n"
   ]
  },
  {
   "cell_type": "code",
   "execution_count": 38,
   "id": "cd204bd3",
   "metadata": {
    "ExecuteTime": {
     "end_time": "2022-02-04T16:34:45.679379Z",
     "start_time": "2022-02-04T16:34:45.667672Z"
    }
   },
   "outputs": [],
   "source": [
    "balance_country = df2.loc[:, ['geography', 'balance']].groupby('geography').mean().reset_index()\n",
    "balance_country.columns = ['geography', 'balance_per_country']\n",
    "\n",
    "# merge\n",
    "df2 = pd.merge(df2, balance_country, on = 'geography', how = 'left')"
   ]
  },
  {
   "cell_type": "markdown",
   "id": "65a4461b",
   "metadata": {},
   "source": [
    "## 2.3. Balance_tenure\n"
   ]
  },
  {
   "cell_type": "code",
   "execution_count": 39,
   "id": "a63282f8",
   "metadata": {
    "ExecuteTime": {
     "end_time": "2022-02-04T16:34:45.691871Z",
     "start_time": "2022-02-04T16:34:45.681334Z"
    }
   },
   "outputs": [],
   "source": [
    "balance_tenure = df2.loc[:, ['tenure', 'balance']].groupby('tenure').mean().reset_index()\n",
    "balance_tenure.columns = ['tenure', 'LTV']\n",
    "\n",
    "# merge\n",
    "df2 = pd.merge(df2, balance_tenure, on = 'tenure', how = 'left')"
   ]
  },
  {
   "cell_type": "markdown",
   "id": "41540bce",
   "metadata": {},
   "source": [
    "## 2.3. Salary_gender\n"
   ]
  },
  {
   "cell_type": "code",
   "execution_count": 40,
   "id": "43f0898c",
   "metadata": {
    "ExecuteTime": {
     "end_time": "2022-02-04T16:34:45.704157Z",
     "start_time": "2022-02-04T16:34:45.693674Z"
    }
   },
   "outputs": [],
   "source": [
    "estimated_salary_gender = df2.loc[:, ['gender', 'estimated_salary']].groupby('gender').mean().reset_index()\n",
    "estimated_salary_gender.columns = ['gender', 'estimated_salary_per_gender']\n",
    "\n",
    "# merge\n",
    "df2 = pd.merge(df2, estimated_salary_gender, on = 'gender', how = 'left')"
   ]
  },
  {
   "cell_type": "code",
   "execution_count": 41,
   "id": "40c87250",
   "metadata": {
    "ExecuteTime": {
     "end_time": "2022-02-04T16:34:46.206820Z",
     "start_time": "2022-02-04T16:34:45.705545Z"
    }
   },
   "outputs": [
    {
     "data": {
      "text/plain": [
       "<AxesSubplot:>"
      ]
     },
     "execution_count": 41,
     "metadata": {},
     "output_type": "execute_result"
    },
    {
     "data": {
      "image/png": "[encoded data removed]",
      "text/plain": [
       "<Figure size 1800x864 with 2 Axes>"
      ]
     },
     "metadata": {},
     "output_type": "display_data"
    }
   ],
   "source": [
    "correlation_matrix(df2, 'pearson')"
   ]
  },
  {
   "cell_type": "markdown",
   "id": "e33118bd",
   "metadata": {},
   "source": [
    "# 3.0. Data Filtering\n"
   ]
  },
  {
   "cell_type": "code",
   "execution_count": 42,
   "id": "88cb0d1d",
   "metadata": {
    "ExecuteTime": {
     "end_time": "2022-02-04T16:34:46.212300Z",
     "start_time": "2022-02-04T16:34:46.208986Z"
    }
   },
   "outputs": [],
   "source": [
    "df3 = df2.copy()"
   ]
  },
  {
   "cell_type": "code",
   "execution_count": null,
   "id": "0d63d597",
   "metadata": {},
   "outputs": [],
   "source": []
  },
  {
   "cell_type": "markdown",
   "id": "12bb7cce",
   "metadata": {},
   "source": [
    "# 4.0. Exploratoria Data Analysis (EDA)\n"
   ]
  },
  {
   "cell_type": "code",
   "execution_count": 43,
   "id": "f4a27579",
   "metadata": {
    "ExecuteTime": {
     "end_time": "2022-02-04T16:34:46.219280Z",
     "start_time": "2022-02-04T16:34:46.213869Z"
    }
   },
   "outputs": [],
   "source": [
    "df4 = df3.copy()"
   ]
  },
  {
   "cell_type": "code",
   "execution_count": null,
   "id": "52a414a6",
   "metadata": {},
   "outputs": [],
   "source": []
  },
  {
   "cell_type": "markdown",
   "id": "45be06b4",
   "metadata": {},
   "source": [
    "# 5.0. Data Preparation\n"
   ]
  },
  {
   "cell_type": "code",
   "execution_count": 77,
   "id": "4e691ad5",
   "metadata": {
    "ExecuteTime": {
     "end_time": "2022-02-04T18:12:22.238786Z",
     "start_time": "2022-02-04T18:12:22.235481Z"
    }
   },
   "outputs": [],
   "source": [
    "df5 = df4.copy()"
   ]
  },
  {
   "cell_type": "code",
   "execution_count": 78,
   "id": "d3e804dc",
   "metadata": {
    "ExecuteTime": {
     "end_time": "2022-02-04T18:12:23.000241Z",
     "start_time": "2022-02-04T18:12:22.995633Z"
    },
    "scrolled": true
   },
   "outputs": [
    {
     "data": {
      "text/plain": [
       "Index(['credit_score', 'geography', 'gender', 'age', 'tenure', 'balance',\n",
       "       'num_of_products', 'has_cr_card', 'is_active_member',\n",
       "       'estimated_salary', 'exited', 'balance_age', 'balance_per_country',\n",
       "       'LTV', 'estimated_salary_per_gender'],\n",
       "      dtype='object')"
      ]
     },
     "execution_count": 78,
     "metadata": {},
     "output_type": "execute_result"
    }
   ],
   "source": [
    "df5.columns"
   ]
  },
  {
   "cell_type": "code",
   "execution_count": 81,
   "id": "64d2553c",
   "metadata": {
    "ExecuteTime": {
     "end_time": "2022-02-04T18:12:29.764145Z",
     "start_time": "2022-02-04T18:12:29.752137Z"
    }
   },
   "outputs": [
    {
     "data": {
      "text/html": [
       "<div>\n",
       "<style scoped>\n",
       "    .dataframe tbody tr th:only-of-type {\n",
       "        vertical-align: middle;\n",
       "    }\n",
       "\n",
       "    .dataframe tbody tr th {\n",
       "        vertical-align: top;\n",
       "    }\n",
       "\n",
       "    .dataframe thead th {\n",
       "        text-align: right;\n",
       "    }\n",
       "</style>\n",
       "<table border=\"1\" class=\"dataframe\">\n",
       "  <thead>\n",
       "    <tr style=\"text-align: right;\">\n",
       "      <th></th>\n",
       "      <th>credit_score</th>\n",
       "      <th>age</th>\n",
       "      <th>tenure</th>\n",
       "      <th>balance</th>\n",
       "      <th>num_of_products</th>\n",
       "      <th>has_cr_card</th>\n",
       "      <th>is_active_member</th>\n",
       "      <th>estimated_salary</th>\n",
       "      <th>exited</th>\n",
       "      <th>balance_age</th>\n",
       "      <th>balance_per_country</th>\n",
       "      <th>LTV</th>\n",
       "      <th>estimated_salary_per_gender</th>\n",
       "      <th>country_France</th>\n",
       "      <th>country_Germany</th>\n",
       "      <th>country_Spain</th>\n",
       "      <th>gender_0</th>\n",
       "      <th>gender_1</th>\n",
       "    </tr>\n",
       "  </thead>\n",
       "  <tbody>\n",
       "    <tr>\n",
       "      <th>0</th>\n",
       "      <td>619</td>\n",
       "      <td>42</td>\n",
       "      <td>2</td>\n",
       "      <td>-0.761</td>\n",
       "      <td>1</td>\n",
       "      <td>NaN</td>\n",
       "      <td>NaN</td>\n",
       "      <td>0.012</td>\n",
       "      <td>NaN</td>\n",
       "      <td>76785.312</td>\n",
       "      <td>62092.637</td>\n",
       "      <td>0.131</td>\n",
       "      <td>100601.541</td>\n",
       "      <td>1</td>\n",
       "      <td>0</td>\n",
       "      <td>0</td>\n",
       "      <td>0</td>\n",
       "      <td>1</td>\n",
       "    </tr>\n",
       "    <tr>\n",
       "      <th>1</th>\n",
       "      <td>608</td>\n",
       "      <td>41</td>\n",
       "      <td>1</td>\n",
       "      <td>-0.105</td>\n",
       "      <td>1</td>\n",
       "      <td>NaN</td>\n",
       "      <td>NaN</td>\n",
       "      <td>0.126</td>\n",
       "      <td>NaN</td>\n",
       "      <td>75742.975</td>\n",
       "      <td>61818.148</td>\n",
       "      <td>0.942</td>\n",
       "      <td>100601.541</td>\n",
       "      <td>0</td>\n",
       "      <td>0</td>\n",
       "      <td>1</td>\n",
       "      <td>0</td>\n",
       "      <td>1</td>\n",
       "    </tr>\n",
       "    <tr>\n",
       "      <th>2</th>\n",
       "      <td>502</td>\n",
       "      <td>42</td>\n",
       "      <td>8</td>\n",
       "      <td>0.489</td>\n",
       "      <td>3</td>\n",
       "      <td>NaN</td>\n",
       "      <td>NaN</td>\n",
       "      <td>0.140</td>\n",
       "      <td>NaN</td>\n",
       "      <td>76785.312</td>\n",
       "      <td>62092.637</td>\n",
       "      <td>0.649</td>\n",
       "      <td>100601.541</td>\n",
       "      <td>1</td>\n",
       "      <td>0</td>\n",
       "      <td>0</td>\n",
       "      <td>0</td>\n",
       "      <td>1</td>\n",
       "    </tr>\n",
       "    <tr>\n",
       "      <th>3</th>\n",
       "      <td>699</td>\n",
       "      <td>39</td>\n",
       "      <td>1</td>\n",
       "      <td>-0.761</td>\n",
       "      <td>2</td>\n",
       "      <td>NaN</td>\n",
       "      <td>NaN</td>\n",
       "      <td>-0.065</td>\n",
       "      <td>NaN</td>\n",
       "      <td>74285.289</td>\n",
       "      <td>62092.637</td>\n",
       "      <td>0.942</td>\n",
       "      <td>100601.541</td>\n",
       "      <td>1</td>\n",
       "      <td>0</td>\n",
       "      <td>0</td>\n",
       "      <td>0</td>\n",
       "      <td>1</td>\n",
       "    </tr>\n",
       "    <tr>\n",
       "      <th>4</th>\n",
       "      <td>850</td>\n",
       "      <td>43</td>\n",
       "      <td>2</td>\n",
       "      <td>0.222</td>\n",
       "      <td>1</td>\n",
       "      <td>NaN</td>\n",
       "      <td>NaN</td>\n",
       "      <td>-0.215</td>\n",
       "      <td>NaN</td>\n",
       "      <td>81636.038</td>\n",
       "      <td>61818.148</td>\n",
       "      <td>0.131</td>\n",
       "      <td>100601.541</td>\n",
       "      <td>0</td>\n",
       "      <td>0</td>\n",
       "      <td>1</td>\n",
       "      <td>0</td>\n",
       "      <td>1</td>\n",
       "    </tr>\n",
       "  </tbody>\n",
       "</table>\n",
       "</div>"
      ],
      "text/plain": [
       "   credit_score  age  tenure  balance  num_of_products  has_cr_card  \\\n",
       "0           619   42       2   -0.761                1          NaN   \n",
       "1           608   41       1   -0.105                1          NaN   \n",
       "2           502   42       8    0.489                3          NaN   \n",
       "3           699   39       1   -0.761                2          NaN   \n",
       "4           850   43       2    0.222                1          NaN   \n",
       "\n",
       "   is_active_member  estimated_salary  exited  balance_age  \\\n",
       "0               NaN             0.012     NaN    76785.312   \n",
       "1               NaN             0.126     NaN    75742.975   \n",
       "2               NaN             0.140     NaN    76785.312   \n",
       "3               NaN            -0.065     NaN    74285.289   \n",
       "4               NaN            -0.215     NaN    81636.038   \n",
       "\n",
       "   balance_per_country   LTV  estimated_salary_per_gender  country_France  \\\n",
       "0            62092.637 0.131                   100601.541               1   \n",
       "1            61818.148 0.942                   100601.541               0   \n",
       "2            62092.637 0.649                   100601.541               1   \n",
       "3            62092.637 0.942                   100601.541               1   \n",
       "4            61818.148 0.131                   100601.541               0   \n",
       "\n",
       "   country_Germany  country_Spain  gender_0  gender_1  \n",
       "0                0              0         0         1  \n",
       "1                0              1         0         1  \n",
       "2                0              0         0         1  \n",
       "3                0              0         0         1  \n",
       "4                0              1         0         1  "
      ]
     },
     "execution_count": 81,
     "metadata": {},
     "output_type": "execute_result"
    }
   ],
   "source": [
    "df5.head()"
   ]
  },
  {
   "cell_type": "code",
   "execution_count": 80,
   "id": "9df93424",
   "metadata": {
    "ExecuteTime": {
     "end_time": "2022-02-04T18:12:24.805568Z",
     "start_time": "2022-02-04T18:12:24.784077Z"
    }
   },
   "outputs": [],
   "source": [
    "mms = pp.MinMaxScaler()\n",
    "rbs = pp.RobustScaler()\n",
    "\n",
    "\n",
    "\n",
    "#Balance\n",
    "df5['balance'] = rbs.fit_transform(df5[['balance']].values)\n",
    "\n",
    "#EstimatedSalary\n",
    "df5['estimated_salary'] = rbs.fit_transform(df5[['estimated_salary']].values)\n",
    "\n",
    "#LTV\n",
    "df5['LTV'] = rbs.fit_transform(df5[['LTV']].values)\n",
    "\n",
    "#gender - label encoding \n",
    "gender_dict = { 'Male':0 , 'Female':1 }\n",
    "df5['gender'] = df5['gender'].map( gender_dict ) \n",
    "\n",
    "#Geography - One Hot Encoding\n",
    "# one hot encoding encoding \n",
    "df5 = pd.get_dummies(df5, prefix=['country'], columns=['geography'])\n",
    "df5 = pd.get_dummies(df5, prefix=['gender'], columns=['gender'])\n",
    "\n",
    "questions_encoding = {'True': 1,'False': 0}\n",
    "df5['is_active_member'] = df5['is_active_member'].map(questions_encoding ,'is_active_member' )\n",
    "df5['has_cr_card'] = df5['has_cr_card'].map(questions_encoding)\n",
    "df5['exited'] = df5['exited'].map(questions_encoding)\n"
   ]
  },
  {
   "cell_type": "markdown",
   "id": "71284103",
   "metadata": {},
   "source": [
    "# 6.0. Feature Selection\n"
   ]
  },
  {
   "cell_type": "code",
   "execution_count": 69,
   "id": "c6dfbc52",
   "metadata": {
    "ExecuteTime": {
     "end_time": "2022-02-04T18:10:06.073909Z",
     "start_time": "2022-02-04T18:10:06.070730Z"
    }
   },
   "outputs": [],
   "source": [
    "df6 = df5.copy()"
   ]
  },
  {
   "cell_type": "code",
   "execution_count": 70,
   "id": "487008b9",
   "metadata": {
    "ExecuteTime": {
     "end_time": "2022-02-04T18:10:07.104638Z",
     "start_time": "2022-02-04T18:10:07.099843Z"
    }
   },
   "outputs": [],
   "source": [
    "x = df6.drop(['exited'], axis =1)\n",
    "y = df6.exited"
   ]
  },
  {
   "cell_type": "code",
   "execution_count": 71,
   "id": "420df4a5",
   "metadata": {
    "ExecuteTime": {
     "end_time": "2022-02-04T18:10:07.970856Z",
     "start_time": "2022-02-04T18:10:07.966115Z"
    }
   },
   "outputs": [
    {
     "data": {
      "text/plain": [
       "0      NaN\n",
       "1      NaN\n",
       "2      NaN\n",
       "3      NaN\n",
       "4      NaN\n",
       "        ..\n",
       "9995   NaN\n",
       "9996   NaN\n",
       "9997   NaN\n",
       "9998   NaN\n",
       "9999   NaN\n",
       "Name: exited, Length: 10000, dtype: float64"
      ]
     },
     "execution_count": 71,
     "metadata": {},
     "output_type": "execute_result"
    }
   ],
   "source": [
    "y"
   ]
  },
  {
   "cell_type": "markdown",
   "id": "288504f5",
   "metadata": {
    "heading_collapsed": true
   },
   "source": [
    "# 7.0. Machine Learning Modelling\n"
   ]
  },
  {
   "cell_type": "code",
   "execution_count": null,
   "id": "cd892879",
   "metadata": {
    "ExecuteTime": {
     "end_time": "2022-02-04T16:34:46.339591Z",
     "start_time": "2022-02-04T16:34:42.930Z"
    },
    "hidden": true
   },
   "outputs": [],
   "source": [
    "df7 = df6.copy()"
   ]
  },
  {
   "cell_type": "code",
   "execution_count": null,
   "id": "e6c99958",
   "metadata": {
    "hidden": true
   },
   "outputs": [],
   "source": []
  },
  {
   "cell_type": "markdown",
   "id": "b8595003",
   "metadata": {
    "heading_collapsed": true
   },
   "source": [
    "# 8.0. Performance Metrics\n"
   ]
  },
  {
   "cell_type": "code",
   "execution_count": null,
   "id": "3ccc7bf4",
   "metadata": {
    "ExecuteTime": {
     "end_time": "2022-02-04T16:34:46.340310Z",
     "start_time": "2022-02-04T16:34:42.933Z"
    },
    "hidden": true
   },
   "outputs": [],
   "source": [
    "df8 = df7.copy()"
   ]
  },
  {
   "cell_type": "code",
   "execution_count": null,
   "id": "81f4f7f4",
   "metadata": {
    "hidden": true
   },
   "outputs": [],
   "source": []
  },
  {
   "cell_type": "markdown",
   "id": "9bb2b7b0",
   "metadata": {},
   "source": [
    "# 9.0. Deploy to Production\n"
   ]
  },
  {
   "cell_type": "code",
   "execution_count": null,
   "id": "d44abce0",
   "metadata": {
    "ExecuteTime": {
     "end_time": "2022-02-04T16:34:46.340958Z",
     "start_time": "2022-02-04T16:34:42.935Z"
    }
   },
   "outputs": [],
   "source": [
    "df9 = df8.copy()"
   ]
  },
  {
   "cell_type": "code",
   "execution_count": null,
   "id": "8d4047a1",
   "metadata": {},
   "outputs": [],
   "source": []
  }
 ],
 "metadata": {
  "kernelspec": {
   "display_name": "Python 3",
   "language": "python",
   "name": "python3"
  },
  "language_info": {
   "codemirror_mode": {
    "name": "ipython",
    "version": 3
   },
   "file_extension": ".py",
   "mimetype": "text/x-python",
   "name": "python",
   "nbconvert_exporter": "python",
   "pygments_lexer": "ipython3",
   "version": "3.8.12"
  },
  "toc": {
   "base_numbering": 1,
   "nav_menu": {},
   "number_sections": false,
   "sideBar": true,
   "skip_h1_title": false,
   "title_cell": "Table of Contents",
   "title_sidebar": "Contents",
   "toc_cell": false,
   "toc_position": {
    "height": "calc(100% - 180px)",
    "left": "10px",
    "top": "150px",
    "width": "384px"
   },
   "toc_section_display": true,
   "toc_window_display": false
  },
  "varInspector": {
   "cols": {
    "lenName": 16,
    "lenType": 16,
    "lenVar": 40
   },
   "kernels_config": {
    "python": {
     "delete_cmd_postfix": "",
     "delete_cmd_prefix": "del ",
     "library": "var_list.py",
     "varRefreshCmd": "print(var_dic_list())"
    },
    "r": {
     "delete_cmd_postfix": ") ",
     "delete_cmd_prefix": "rm(",
     "library": "var_list.r",
     "varRefreshCmd": "cat(var_dic_list()) "
    }
   },
   "types_to_exclude": [
    "module",
    "function",
    "builtin_function_or_method",
    "instance",
    "_Feature"
   ],
   "window_display": false
  }
 },
 "nbformat": 4,
 "nbformat_minor": 5
}
