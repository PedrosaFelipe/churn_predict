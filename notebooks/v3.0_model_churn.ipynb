{
 "cells": [
  {
   "cell_type": "markdown",
   "id": "c13a238e",
   "metadata": {
    "heading_collapsed": true
   },
   "source": [
    "# PA003: Churn Predict"
   ]
  },
  {
   "cell_type": "markdown",
   "id": "d41931f2",
   "metadata": {},
   "source": [
    "# 0.0 Import"
   ]
  },
  {
   "cell_type": "code",
   "execution_count": 1,
   "id": "49d71406",
   "metadata": {
    "ExecuteTime": {
     "end_time": "2022-02-15T15:16:37.604792Z",
     "start_time": "2022-02-15T15:16:34.108516Z"
    },
    "scrolled": true
   },
   "outputs": [],
   "source": [
    "import pandas as pd\n",
    "import numpy as np\n",
    "import seaborn as sns\n",
    "import matplotlib.pyplot as plt\n",
    "import inflection\n",
    "import math\n",
    "import pickle\n",
    "import inflection\n",
    "\n",
    "from IPython.core.display          import HTML\n",
    "from scipy.stats import shapiro, chi2_contingency\n",
    "\n",
    "from sklearn                       import preprocessing            as pp\n",
    "from scikitplot.metrics import plot_cumulative_gain, plot_lift_curve\n",
    "from BorutaShap import BorutaShap\n",
    "\n",
    "from sklearn.ensemble import RandomForestClassifier\n",
    "from sklearn.svm import SVC\n",
    "from sklearn.tree import DecisionTreeClassifier\n",
    "from sklearn.linear_model import LogisticRegression\n",
    "from sklearn.neighbors import KNeighborsClassifier\n",
    "from sklearn.svm import SVC\n",
    "from sklearn.pipeline        import make_pipeline\n",
    "from sklearn.model_selection import train_test_split\n",
    "from sklearn.model_selection import cross_val_score, GridSearchCV\n",
    "from sklearn.metrics import confusion_matrix, f1_score, recall_score, precision_score, accuracy_score, classification_report\n",
    "from catboost import CatBoostClassifier, metrics, Pool\n",
    "from yellowbrick.classifier import ClassPredictionError, ConfusionMatrix, ClassificationReport, ROCAUC, ClassPredictionError, DiscriminationThreshold\n",
    "\n",
    "\n",
    "from xgboost import XGBClassifier\n",
    "from imblearn.combine import SMOTETomek \n",
    "\n",
    "\n",
    "# from sklearn.preprocessing import StandardScaler, MinMaxScaler , RobustScaler\n",
    "\n",
    "\n",
    "import warnings\n",
    "warnings.filterwarnings(\"ignore\")"
   ]
  },
  {
   "cell_type": "markdown",
   "id": "8f52a5bd",
   "metadata": {},
   "source": [
    "## 0.1.Helper function"
   ]
  },
  {
   "cell_type": "code",
   "execution_count": 2,
   "id": "a340dc5b",
   "metadata": {
    "ExecuteTime": {
     "end_time": "2022-02-15T15:16:37.652880Z",
     "start_time": "2022-02-15T15:16:37.608703Z"
    }
   },
   "outputs": [
    {
     "data": {
      "text/html": [
       "<style>.container{width:100% !important;}</style>"
      ],
      "text/plain": [
       "<IPython.core.display.HTML object>"
      ]
     },
     "metadata": {},
     "output_type": "display_data"
    }
   ],
   "source": [
    "def my_settings():\n",
    "    %matplotlib inline\n",
    "    \n",
    "    # plotly settings\n",
    "    plt.style.use( 'ggplot' )\n",
    "    plt.rcParams['figure.figsize'] = [25, 12]\n",
    "    plt.rcParams['font.size'] = 8\n",
    " \n",
    "    # notebook settings\n",
    "    display(HTML('<style>.container{width:100% !important;}</style>'))\n",
    "    np.set_printoptions(suppress=True)\n",
    "    pd.set_option('display.float_format', '{:.3f}'.format)\n",
    "    \n",
    "    # seaborn settings\n",
    "    sns.set(rc={'figure.figsize':(25,12)})\n",
    "    sns.set_theme(style = 'darkgrid', font_scale = 1)\n",
    "my_settings()"
   ]
  },
  {
   "cell_type": "code",
   "execution_count": 3,
   "id": "510e6cb0",
   "metadata": {
    "ExecuteTime": {
     "end_time": "2022-02-15T15:16:37.673879Z",
     "start_time": "2022-02-15T15:16:37.658790Z"
    }
   },
   "outputs": [],
   "source": [
    " def numerical_descriptive_statistical(num_attributes):\n",
    "        \n",
    "    \"\"\"\n",
    "    Shows the main values  for descriptive statistics in numerical variables.\n",
    "\n",
    "    Args:\n",
    "        data ([float64 and int64]): Insert all numerical attributes in the dataset\n",
    "\n",
    "    Returns:\n",
    "        [dataframe]: A dataframe with mean, median, std deviation, skewness, kurtosis, min, max and range\n",
    "    \"\"\"\n",
    "            \n",
    "    # Central Tendency - Mean, Median\n",
    "    ct1 = pd.DataFrame(num_attributes.apply(np.mean)).T\n",
    "    ct2 = pd.DataFrame(num_attributes.apply(np.median)).T\n",
    "\n",
    "    # Dispersion - std, min, max, range, skew, kurtosis, Shapiro-Wilk Test\n",
    "    d1 = pd.DataFrame(num_attributes.apply(np.std)).T\n",
    "    d2 = pd.DataFrame(num_attributes.apply(min)).T\n",
    "    d3 = pd.DataFrame(num_attributes.apply(max)).T\n",
    "    d4 = pd.DataFrame(num_attributes.apply(lambda x: x.max() - x.min())).T\n",
    "    d5 = pd.DataFrame(num_attributes.apply(lambda x: x.skew())).T\n",
    "    d6 = pd.DataFrame(num_attributes.apply(lambda x: x.kurtosis())).T\n",
    "    d7 = pd.DataFrame(num_attributes.apply(lambda x: 'not normal' if shapiro(x.sample(5000))[1] < 0.05 else 'normal')).T\n",
    "\n",
    "    # concatenate\n",
    "    m = pd.concat([d2, d3, d4, ct1, ct2, d1, d5, d6, d7]).T.reset_index()\n",
    "    m.columns = ['attributes', 'min', 'max', 'range', 'mean', 'median', 'std', 'skew', 'kurtosis', 'shapiro']\n",
    "    return m\n",
    "\n",
    "\n",
    "\n",
    "def categorical_descriptive_statstical(data , col):\n",
    "    \"\"\"\n",
    "    Shows the the absolute and percent values in categorical variables.\n",
    "\n",
    "    Args:\n",
    "        data ([object]): Insert all categorical attributes in the dataset\n",
    "\n",
    "    Returns:\n",
    "        [dataframe]: A dataframe with absolute and percent values\n",
    "    \"\"\"\n",
    "    return pd.DataFrame({'absolute' : data[col].value_counts() , 'percent %': data[col].value_counts(normalize = True) * 100})"
   ]
  },
  {
   "cell_type": "code",
   "execution_count": 4,
   "id": "fa0a40ba",
   "metadata": {
    "ExecuteTime": {
     "end_time": "2022-02-15T15:16:37.694128Z",
     "start_time": "2022-02-15T15:16:37.681099Z"
    }
   },
   "outputs": [],
   "source": [
    "def correlation_matrix(data , method):\n",
    "    \"\"\"Generates a correlation matrix of numerical variables\n",
    "\n",
    "    Args:correlation_matrix\n",
    "        data ([DataFrame]): [The dataframe of the EDA]\n",
    "        method ([string]): [The method used, it can be ‘pearson’, ‘kendall’ or ‘spearman’]\n",
    "\n",
    "    Returns:\n",
    "        [Image]: [The correlation matrix plot made with seaborn]\n",
    "    \"\"\"\n",
    "    \n",
    "    # correlation\n",
    "    num_attributes = data.select_dtypes( include = ['int64' , 'float64'])\n",
    "    correlation = num_attributes.corr( method = method)\n",
    "#     correlation.append('exited')\n",
    "    \n",
    "#     df_corr = data[correlation].reset_index(drop=True)\n",
    "#     df_corr['exited'] = df_corr['exited'].astype('int')\n",
    "    \n",
    "    # mask\n",
    "    mask = np.zeros_like(correlation)\n",
    "    mask = np.triu(np.ones_like(correlation , dtype = np.bool))\n",
    "    \n",
    "    # plot -  mask = mask ,\n",
    "    ax = sns.heatmap(correlation , fmt = '.2f' , vmin = -1 , vmax = 1, annot =  True, cmap = 'YlGnBu' , square = True)\n",
    "    \n",
    "    return ax"
   ]
  },
  {
   "cell_type": "code",
   "execution_count": 5,
   "id": "36d68b82",
   "metadata": {
    "ExecuteTime": {
     "end_time": "2022-02-15T15:16:37.712372Z",
     "start_time": "2022-02-15T15:16:37.699468Z"
    }
   },
   "outputs": [],
   "source": [
    "def without_hue(plot, feature):\n",
    "    total = len(feature)\n",
    "    for p in plot.patches:\n",
    "        percentage = '{:.1f}%'.format(100 * p.get_height()/total)\n",
    "        x = p.get_x() + p.get_width() / 2 - 0.05\n",
    "        y = p.get_y() + p.get_height()\n",
    "        plot.annotate(percentage, (x, y), size = 12)\n",
    "\n",
    "def plot_cat_overview(df, cat_attributes, target):\n",
    "    \n",
    "    cat_attributes.remove(target)\n",
    "\n",
    "    plots_lin = math.ceil(len(cat_attributes)/2)\n",
    "\n",
    "    fig, axs = plt.subplots(plots_lin,2, figsize=(25, 10), facecolor='w', edgecolor='k')\n",
    "    fig.subplots_adjust(hspace = .5, wspace=.20)\n",
    "    axs = axs.ravel()    \n",
    "\n",
    "    for c in range(len(cat_attributes)):\n",
    "        ax1 = sns.countplot(ax=axs[c], x=cat_attributes[c],hue=target, data=df)\n",
    "        without_hue(ax1,df1.exited)"
   ]
  },
  {
   "cell_type": "code",
   "execution_count": 6,
   "id": "2e91f7ca",
   "metadata": {
    "ExecuteTime": {
     "end_time": "2022-02-15T15:16:37.727373Z",
     "start_time": "2022-02-15T15:16:37.716805Z"
    }
   },
   "outputs": [],
   "source": [
    "def sum_of_na (data):\n",
    "    return pd.DataFrame({'Sum of NA' : data.isna().sum(), '% NA': data.isna().sum()/data.shape[0]})"
   ]
  },
  {
   "cell_type": "code",
   "execution_count": 7,
   "id": "58da6afc",
   "metadata": {
    "ExecuteTime": {
     "end_time": "2022-02-15T15:16:37.741791Z",
     "start_time": "2022-02-15T15:16:37.732528Z"
    }
   },
   "outputs": [],
   "source": [
    "def lift_score(y, y_pred, **kwargs):    \n",
    "    df = pd.DataFrame()\n",
    "    df['true'] = y\n",
    "    df['pred'] = y_pred\n",
    "    df.sort_values('pred', ascending=False, inplace=True)\n",
    "    N = len(df)\n",
    "    churn_total = df['true'].sum() / N\n",
    "    n = int(np.ceil(.1 * N)) \n",
    "    data_here = df.iloc[:n, :]\n",
    "    churn_here = data_here['true'].sum() / n\n",
    "    lift = churn_here / churn_total\n",
    "    return lift"
   ]
  },
  {
   "cell_type": "code",
   "execution_count": 8,
   "id": "1c624a68",
   "metadata": {
    "ExecuteTime": {
     "end_time": "2022-02-15T15:16:37.761351Z",
     "start_time": "2022-02-15T15:16:37.748243Z"
    }
   },
   "outputs": [],
   "source": [
    " def knapsack(W, wt, val):\n",
    "    n = len(val)\n",
    "    K = [[0 for x in range(W + 1)] for x in range(n + 1)]\n",
    "    for i in range(n + 1):\n",
    "        for w in range(W + 1):\n",
    "            if i == 0 or w == 0:\n",
    "                K[i][w] = 0\n",
    "            elif wt[i-1] <= w:\n",
    "                K[i][w] = max(val[i-1] + K[i-1][w-wt[i-1]], K[i-1][w])\n",
    "            else:\n",
    "                K[i][w] = K[i-1][w]\n",
    "    max_val = K[n][W]\n",
    "    keep = [False] * n\n",
    "    res = max_val\n",
    "    w = W\n",
    "    for i in range(n, 0, -1):\n",
    "        if res <= 0: break\n",
    "        if res == K[i - 1][w]: continue\n",
    "        else:\n",
    "            keep[i - 1] = True\n",
    "            res = res - val[i - 1]\n",
    "            w = w - wt[i - 1]\n",
    "    del K\n",
    "    return max_val, keep"
   ]
  },
  {
   "cell_type": "code",
   "execution_count": null,
   "id": "45187ded",
   "metadata": {},
   "outputs": [],
   "source": []
  },
  {
   "cell_type": "markdown",
   "id": "8e8922ee",
   "metadata": {},
   "source": [
    "## 0.2. Loading Data"
   ]
  },
  {
   "cell_type": "code",
   "execution_count": 9,
   "id": "d9f5837c",
   "metadata": {
    "ExecuteTime": {
     "end_time": "2022-02-15T15:16:37.811678Z",
     "start_time": "2022-02-15T15:16:37.765394Z"
    }
   },
   "outputs": [],
   "source": [
    "df_raw = pd.read_csv(r'~/repositorio/churn_predict/data/raw/churn.csv')"
   ]
  },
  {
   "cell_type": "code",
   "execution_count": 10,
   "id": "c6612578",
   "metadata": {
    "ExecuteTime": {
     "end_time": "2022-02-15T15:16:37.855451Z",
     "start_time": "2022-02-15T15:16:37.814715Z"
    }
   },
   "outputs": [
    {
     "data": {
      "text/html": [
       "<div>\n",
       "<style scoped>\n",
       "    .dataframe tbody tr th:only-of-type {\n",
       "        vertical-align: middle;\n",
       "    }\n",
       "\n",
       "    .dataframe tbody tr th {\n",
       "        vertical-align: top;\n",
       "    }\n",
       "\n",
       "    .dataframe thead th {\n",
       "        text-align: right;\n",
       "    }\n",
       "</style>\n",
       "<table border=\"1\" class=\"dataframe\">\n",
       "  <thead>\n",
       "    <tr style=\"text-align: right;\">\n",
       "      <th></th>\n",
       "      <th>RowNumber</th>\n",
       "      <th>CustomerId</th>\n",
       "      <th>Surname</th>\n",
       "      <th>CreditScore</th>\n",
       "      <th>Geography</th>\n",
       "      <th>Gender</th>\n",
       "      <th>Age</th>\n",
       "      <th>Tenure</th>\n",
       "      <th>Balance</th>\n",
       "      <th>NumOfProducts</th>\n",
       "      <th>HasCrCard</th>\n",
       "      <th>IsActiveMember</th>\n",
       "      <th>EstimatedSalary</th>\n",
       "      <th>Exited</th>\n",
       "    </tr>\n",
       "  </thead>\n",
       "  <tbody>\n",
       "    <tr>\n",
       "      <th>0</th>\n",
       "      <td>1</td>\n",
       "      <td>15634602</td>\n",
       "      <td>Hargrave</td>\n",
       "      <td>619</td>\n",
       "      <td>France</td>\n",
       "      <td>Female</td>\n",
       "      <td>42</td>\n",
       "      <td>2</td>\n",
       "      <td>0.000</td>\n",
       "      <td>1</td>\n",
       "      <td>1</td>\n",
       "      <td>1</td>\n",
       "      <td>101348.880</td>\n",
       "      <td>1</td>\n",
       "    </tr>\n",
       "    <tr>\n",
       "      <th>1</th>\n",
       "      <td>2</td>\n",
       "      <td>15647311</td>\n",
       "      <td>Hill</td>\n",
       "      <td>608</td>\n",
       "      <td>Spain</td>\n",
       "      <td>Female</td>\n",
       "      <td>41</td>\n",
       "      <td>1</td>\n",
       "      <td>83807.860</td>\n",
       "      <td>1</td>\n",
       "      <td>0</td>\n",
       "      <td>1</td>\n",
       "      <td>112542.580</td>\n",
       "      <td>0</td>\n",
       "    </tr>\n",
       "    <tr>\n",
       "      <th>2</th>\n",
       "      <td>3</td>\n",
       "      <td>15619304</td>\n",
       "      <td>Onio</td>\n",
       "      <td>502</td>\n",
       "      <td>France</td>\n",
       "      <td>Female</td>\n",
       "      <td>42</td>\n",
       "      <td>8</td>\n",
       "      <td>159660.800</td>\n",
       "      <td>3</td>\n",
       "      <td>1</td>\n",
       "      <td>0</td>\n",
       "      <td>113931.570</td>\n",
       "      <td>1</td>\n",
       "    </tr>\n",
       "    <tr>\n",
       "      <th>3</th>\n",
       "      <td>4</td>\n",
       "      <td>15701354</td>\n",
       "      <td>Boni</td>\n",
       "      <td>699</td>\n",
       "      <td>France</td>\n",
       "      <td>Female</td>\n",
       "      <td>39</td>\n",
       "      <td>1</td>\n",
       "      <td>0.000</td>\n",
       "      <td>2</td>\n",
       "      <td>0</td>\n",
       "      <td>0</td>\n",
       "      <td>93826.630</td>\n",
       "      <td>0</td>\n",
       "    </tr>\n",
       "    <tr>\n",
       "      <th>4</th>\n",
       "      <td>5</td>\n",
       "      <td>15737888</td>\n",
       "      <td>Mitchell</td>\n",
       "      <td>850</td>\n",
       "      <td>Spain</td>\n",
       "      <td>Female</td>\n",
       "      <td>43</td>\n",
       "      <td>2</td>\n",
       "      <td>125510.820</td>\n",
       "      <td>1</td>\n",
       "      <td>1</td>\n",
       "      <td>1</td>\n",
       "      <td>79084.100</td>\n",
       "      <td>0</td>\n",
       "    </tr>\n",
       "  </tbody>\n",
       "</table>\n",
       "</div>"
      ],
      "text/plain": [
       "   RowNumber  CustomerId   Surname  CreditScore Geography  Gender  Age  \\\n",
       "0          1    15634602  Hargrave          619    France  Female   42   \n",
       "1          2    15647311      Hill          608     Spain  Female   41   \n",
       "2          3    15619304      Onio          502    France  Female   42   \n",
       "3          4    15701354      Boni          699    France  Female   39   \n",
       "4          5    15737888  Mitchell          850     Spain  Female   43   \n",
       "\n",
       "   Tenure    Balance  NumOfProducts  HasCrCard  IsActiveMember  \\\n",
       "0       2      0.000              1          1               1   \n",
       "1       1  83807.860              1          0               1   \n",
       "2       8 159660.800              3          1               0   \n",
       "3       1      0.000              2          0               0   \n",
       "4       2 125510.820              1          1               1   \n",
       "\n",
       "   EstimatedSalary  Exited  \n",
       "0       101348.880       1  \n",
       "1       112542.580       0  \n",
       "2       113931.570       1  \n",
       "3        93826.630       0  \n",
       "4        79084.100       0  "
      ]
     },
     "execution_count": 10,
     "metadata": {},
     "output_type": "execute_result"
    }
   ],
   "source": [
    "df_raw.head()"
   ]
  },
  {
   "cell_type": "markdown",
   "id": "ef7f405a",
   "metadata": {},
   "source": [
    "# 1.0. Data Description\n"
   ]
  },
  {
   "cell_type": "markdown",
   "id": "91d7d070",
   "metadata": {},
   "source": [
    " - **RowNumber**      : O número da coluna.\n",
    " - **CustomerID**     : Identificador único do cliente.\n",
    " - **Surname**        : Sobrenome do cliente.\n",
    " - **CreditScore**    : A pontuação de Crédito do cliente para o mercado de consumo.\n",
    " - **Geography**      : O país onde o cliente reside.\n",
    " - **Gender**         : O gênero do cliente.\n",
    " - **Age**            : A idade do cliente.\n",
    " - **Tenure**         : Número de anos que o cliente permaneceu ativo.\n",
    " - **Balance**        : Valor monetário que o cliente tem em sua conta bancária.\n",
    " - **NumOfProducts**  : O número de produtos comprado pelo cliente no banco.\n",
    " - **HasCrCard**      : Indica se o cliente possui ou não cartão de crédito.\n",
    " - **IsActiveMember** : Indica se o cliente fez pelo menos uma movimentação na conta bancário dentro de 12 meses.\n",
    " - **EstimateSalary** : Estimativa do salário mensal do cliente.\n",
    " - **Exited**         : Indica se o cliente está ou não em Churn."
   ]
  },
  {
   "cell_type": "code",
   "execution_count": 11,
   "id": "cce6a145",
   "metadata": {
    "ExecuteTime": {
     "end_time": "2022-02-15T15:16:37.866548Z",
     "start_time": "2022-02-15T15:16:37.860646Z"
    }
   },
   "outputs": [],
   "source": [
    "df1 = df_raw.copy()"
   ]
  },
  {
   "cell_type": "code",
   "execution_count": 12,
   "id": "21fe53fc",
   "metadata": {
    "ExecuteTime": {
     "end_time": "2022-02-15T15:16:37.879904Z",
     "start_time": "2022-02-15T15:16:37.869795Z"
    },
    "scrolled": true
   },
   "outputs": [
    {
     "data": {
      "text/plain": [
       "Index(['RowNumber', 'CustomerId', 'Surname', 'CreditScore', 'Geography',\n",
       "       'Gender', 'Age', 'Tenure', 'Balance', 'NumOfProducts', 'HasCrCard',\n",
       "       'IsActiveMember', 'EstimatedSalary', 'Exited'],\n",
       "      dtype='object')"
      ]
     },
     "execution_count": 12,
     "metadata": {},
     "output_type": "execute_result"
    }
   ],
   "source": [
    "df1.columns"
   ]
  },
  {
   "cell_type": "code",
   "execution_count": 13,
   "id": "1343dd3f",
   "metadata": {
    "ExecuteTime": {
     "end_time": "2022-02-15T15:16:37.897063Z",
     "start_time": "2022-02-15T15:16:37.882740Z"
    }
   },
   "outputs": [
    {
     "data": {
      "text/plain": [
       "0"
      ]
     },
     "execution_count": 13,
     "metadata": {},
     "output_type": "execute_result"
    }
   ],
   "source": [
    "df1.duplicated('CustomerId').sum() "
   ]
  },
  {
   "cell_type": "code",
   "execution_count": 14,
   "id": "ac6ab1fc",
   "metadata": {
    "ExecuteTime": {
     "end_time": "2022-02-15T15:16:37.926491Z",
     "start_time": "2022-02-15T15:16:37.899947Z"
    }
   },
   "outputs": [
    {
     "name": "stdout",
     "output_type": "stream",
     "text": [
      "<class 'pandas.core.frame.DataFrame'>\n",
      "RangeIndex: 10000 entries, 0 to 9999\n",
      "Data columns (total 14 columns):\n",
      " #   Column           Non-Null Count  Dtype  \n",
      "---  ------           --------------  -----  \n",
      " 0   RowNumber        10000 non-null  int64  \n",
      " 1   CustomerId       10000 non-null  int64  \n",
      " 2   Surname          10000 non-null  object \n",
      " 3   CreditScore      10000 non-null  int64  \n",
      " 4   Geography        10000 non-null  object \n",
      " 5   Gender           10000 non-null  object \n",
      " 6   Age              10000 non-null  int64  \n",
      " 7   Tenure           10000 non-null  int64  \n",
      " 8   Balance          10000 non-null  float64\n",
      " 9   NumOfProducts    10000 non-null  int64  \n",
      " 10  HasCrCard        10000 non-null  int64  \n",
      " 11  IsActiveMember   10000 non-null  int64  \n",
      " 12  EstimatedSalary  10000 non-null  float64\n",
      " 13  Exited           10000 non-null  int64  \n",
      "dtypes: float64(2), int64(9), object(3)\n",
      "memory usage: 1.1+ MB\n"
     ]
    }
   ],
   "source": [
    "df1.info()"
   ]
  },
  {
   "cell_type": "markdown",
   "id": "f7de1102",
   "metadata": {},
   "source": [
    "## 1.1 Rename Columns"
   ]
  },
  {
   "cell_type": "code",
   "execution_count": 15,
   "id": "7b34e5d7",
   "metadata": {
    "ExecuteTime": {
     "end_time": "2022-02-15T15:16:37.935115Z",
     "start_time": "2022-02-15T15:16:37.929495Z"
    }
   },
   "outputs": [],
   "source": [
    "old_columns=list(df1.columns)\n",
    "\n",
    "snakecase = lambda x : inflection.underscore(x)\n",
    "new_columns = map(snakecase , old_columns)\n",
    "\n",
    "# rename columns\n",
    "df1.columns = new_columns\n"
   ]
  },
  {
   "cell_type": "markdown",
   "id": "2ba5317e",
   "metadata": {},
   "source": [
    "## 1.2. Data Dimensions"
   ]
  },
  {
   "cell_type": "code",
   "execution_count": 16,
   "id": "fad81153",
   "metadata": {
    "ExecuteTime": {
     "end_time": "2022-02-15T15:16:37.950075Z",
     "start_time": "2022-02-15T15:16:37.938731Z"
    }
   },
   "outputs": [
    {
     "name": "stdout",
     "output_type": "stream",
     "text": [
      "Numbers of rows: 10000\n",
      "Numbers of cols: 14\n"
     ]
    }
   ],
   "source": [
    "print('Numbers of rows: {}'.format(df1.shape[0]))\n",
    "print('Numbers of cols: {}'.format(df1.shape[1]))"
   ]
  },
  {
   "cell_type": "markdown",
   "id": "88488ce3",
   "metadata": {},
   "source": [
    "## 1.3. Data Types"
   ]
  },
  {
   "cell_type": "code",
   "execution_count": 17,
   "id": "ee593d24",
   "metadata": {
    "ExecuteTime": {
     "end_time": "2022-02-15T15:16:37.979953Z",
     "start_time": "2022-02-15T15:16:37.953778Z"
    }
   },
   "outputs": [
    {
     "data": {
      "text/html": [
       "<div>\n",
       "<style scoped>\n",
       "    .dataframe tbody tr th:only-of-type {\n",
       "        vertical-align: middle;\n",
       "    }\n",
       "\n",
       "    .dataframe tbody tr th {\n",
       "        vertical-align: top;\n",
       "    }\n",
       "\n",
       "    .dataframe thead th {\n",
       "        text-align: right;\n",
       "    }\n",
       "</style>\n",
       "<table border=\"1\" class=\"dataframe\">\n",
       "  <thead>\n",
       "    <tr style=\"text-align: right;\">\n",
       "      <th></th>\n",
       "      <th>row_number</th>\n",
       "      <th>customer_id</th>\n",
       "      <th>surname</th>\n",
       "      <th>credit_score</th>\n",
       "      <th>geography</th>\n",
       "      <th>gender</th>\n",
       "      <th>age</th>\n",
       "      <th>tenure</th>\n",
       "      <th>balance</th>\n",
       "      <th>num_of_products</th>\n",
       "      <th>has_cr_card</th>\n",
       "      <th>is_active_member</th>\n",
       "      <th>estimated_salary</th>\n",
       "      <th>exited</th>\n",
       "    </tr>\n",
       "  </thead>\n",
       "  <tbody>\n",
       "    <tr>\n",
       "      <th>0</th>\n",
       "      <td>1</td>\n",
       "      <td>15634602</td>\n",
       "      <td>Hargrave</td>\n",
       "      <td>619</td>\n",
       "      <td>France</td>\n",
       "      <td>Female</td>\n",
       "      <td>42</td>\n",
       "      <td>2</td>\n",
       "      <td>0.000</td>\n",
       "      <td>1</td>\n",
       "      <td>1</td>\n",
       "      <td>1</td>\n",
       "      <td>101348.880</td>\n",
       "      <td>1</td>\n",
       "    </tr>\n",
       "    <tr>\n",
       "      <th>1</th>\n",
       "      <td>2</td>\n",
       "      <td>15647311</td>\n",
       "      <td>Hill</td>\n",
       "      <td>608</td>\n",
       "      <td>Spain</td>\n",
       "      <td>Female</td>\n",
       "      <td>41</td>\n",
       "      <td>1</td>\n",
       "      <td>83807.860</td>\n",
       "      <td>1</td>\n",
       "      <td>0</td>\n",
       "      <td>1</td>\n",
       "      <td>112542.580</td>\n",
       "      <td>0</td>\n",
       "    </tr>\n",
       "    <tr>\n",
       "      <th>2</th>\n",
       "      <td>3</td>\n",
       "      <td>15619304</td>\n",
       "      <td>Onio</td>\n",
       "      <td>502</td>\n",
       "      <td>France</td>\n",
       "      <td>Female</td>\n",
       "      <td>42</td>\n",
       "      <td>8</td>\n",
       "      <td>159660.800</td>\n",
       "      <td>3</td>\n",
       "      <td>1</td>\n",
       "      <td>0</td>\n",
       "      <td>113931.570</td>\n",
       "      <td>1</td>\n",
       "    </tr>\n",
       "    <tr>\n",
       "      <th>3</th>\n",
       "      <td>4</td>\n",
       "      <td>15701354</td>\n",
       "      <td>Boni</td>\n",
       "      <td>699</td>\n",
       "      <td>France</td>\n",
       "      <td>Female</td>\n",
       "      <td>39</td>\n",
       "      <td>1</td>\n",
       "      <td>0.000</td>\n",
       "      <td>2</td>\n",
       "      <td>0</td>\n",
       "      <td>0</td>\n",
       "      <td>93826.630</td>\n",
       "      <td>0</td>\n",
       "    </tr>\n",
       "    <tr>\n",
       "      <th>4</th>\n",
       "      <td>5</td>\n",
       "      <td>15737888</td>\n",
       "      <td>Mitchell</td>\n",
       "      <td>850</td>\n",
       "      <td>Spain</td>\n",
       "      <td>Female</td>\n",
       "      <td>43</td>\n",
       "      <td>2</td>\n",
       "      <td>125510.820</td>\n",
       "      <td>1</td>\n",
       "      <td>1</td>\n",
       "      <td>1</td>\n",
       "      <td>79084.100</td>\n",
       "      <td>0</td>\n",
       "    </tr>\n",
       "  </tbody>\n",
       "</table>\n",
       "</div>"
      ],
      "text/plain": [
       "   row_number  customer_id   surname  credit_score geography  gender  age  \\\n",
       "0           1     15634602  Hargrave           619    France  Female   42   \n",
       "1           2     15647311      Hill           608     Spain  Female   41   \n",
       "2           3     15619304      Onio           502    France  Female   42   \n",
       "3           4     15701354      Boni           699    France  Female   39   \n",
       "4           5     15737888  Mitchell           850     Spain  Female   43   \n",
       "\n",
       "   tenure    balance  num_of_products  has_cr_card  is_active_member  \\\n",
       "0       2      0.000                1            1                 1   \n",
       "1       1  83807.860                1            0                 1   \n",
       "2       8 159660.800                3            1                 0   \n",
       "3       1      0.000                2            0                 0   \n",
       "4       2 125510.820                1            1                 1   \n",
       "\n",
       "   estimated_salary  exited  \n",
       "0        101348.880       1  \n",
       "1        112542.580       0  \n",
       "2        113931.570       1  \n",
       "3         93826.630       0  \n",
       "4         79084.100       0  "
      ]
     },
     "execution_count": 17,
     "metadata": {},
     "output_type": "execute_result"
    }
   ],
   "source": [
    "df1.head()"
   ]
  },
  {
   "cell_type": "code",
   "execution_count": 18,
   "id": "7b6af794",
   "metadata": {
    "ExecuteTime": {
     "end_time": "2022-02-15T15:16:37.997520Z",
     "start_time": "2022-02-15T15:16:37.982696Z"
    },
    "scrolled": true
   },
   "outputs": [
    {
     "data": {
      "text/plain": [
       "row_number            int64\n",
       "customer_id           int64\n",
       "surname              object\n",
       "credit_score          int64\n",
       "geography            object\n",
       "gender               object\n",
       "age                   int64\n",
       "tenure                int64\n",
       "balance             float64\n",
       "num_of_products       int64\n",
       "has_cr_card           int64\n",
       "is_active_member      int64\n",
       "estimated_salary    float64\n",
       "exited                int64\n",
       "dtype: object"
      ]
     },
     "execution_count": 18,
     "metadata": {},
     "output_type": "execute_result"
    }
   ],
   "source": [
    "df1.dtypes"
   ]
  },
  {
   "cell_type": "markdown",
   "id": "e94a54d8",
   "metadata": {},
   "source": [
    "### 1.3.1. Change Data Types"
   ]
  },
  {
   "cell_type": "code",
   "execution_count": 19,
   "id": "62dc781a",
   "metadata": {
    "ExecuteTime": {
     "end_time": "2022-02-15T15:16:38.015135Z",
     "start_time": "2022-02-15T15:16:38.003104Z"
    }
   },
   "outputs": [],
   "source": [
    "df1.exited = df1.exited.astype('bool')\n",
    "df1.has_cr_card = df1.has_cr_card.astype('bool')\n",
    "df1.is_active_member= df1.is_active_member.astype('bool')"
   ]
  },
  {
   "cell_type": "markdown",
   "id": "263b23b4",
   "metadata": {},
   "source": [
    "### 1.3.2. Check unique values"
   ]
  },
  {
   "cell_type": "code",
   "execution_count": 20,
   "id": "30e6e662",
   "metadata": {
    "ExecuteTime": {
     "end_time": "2022-02-15T15:16:38.047898Z",
     "start_time": "2022-02-15T15:16:38.018198Z"
    },
    "scrolled": true
   },
   "outputs": [
    {
     "data": {
      "text/plain": [
       "row_number          10000\n",
       "customer_id         10000\n",
       "surname              2932\n",
       "credit_score          460\n",
       "geography               3\n",
       "gender                  2\n",
       "age                    70\n",
       "tenure                 11\n",
       "balance              6382\n",
       "num_of_products         4\n",
       "has_cr_card             2\n",
       "is_active_member        2\n",
       "estimated_salary     9999\n",
       "exited                  2\n",
       "dtype: int64"
      ]
     },
     "execution_count": 20,
     "metadata": {},
     "output_type": "execute_result"
    }
   ],
   "source": [
    "df1.nunique()"
   ]
  },
  {
   "cell_type": "markdown",
   "id": "5c4c1d0b",
   "metadata": {},
   "source": [
    "### 1.3.3. Remove Variables"
   ]
  },
  {
   "cell_type": "code",
   "execution_count": 21,
   "id": "bacb70d3",
   "metadata": {
    "ExecuteTime": {
     "end_time": "2022-02-15T15:16:38.062994Z",
     "start_time": "2022-02-15T15:16:38.050992Z"
    }
   },
   "outputs": [],
   "source": [
    "cols_drop = ['row_number', 'surname', 'customer_id']\n",
    "df1 = df1.drop(cols_drop , axis = 1)"
   ]
  },
  {
   "cell_type": "markdown",
   "id": "f383f436",
   "metadata": {},
   "source": [
    "## 1.4. Check NA"
   ]
  },
  {
   "cell_type": "code",
   "execution_count": 22,
   "id": "5623c870",
   "metadata": {
    "ExecuteTime": {
     "end_time": "2022-02-15T15:16:38.090341Z",
     "start_time": "2022-02-15T15:16:38.066413Z"
    },
    "scrolled": true
   },
   "outputs": [
    {
     "data": {
      "text/plain": [
       "credit_score        0\n",
       "geography           0\n",
       "gender              0\n",
       "age                 0\n",
       "tenure              0\n",
       "balance             0\n",
       "num_of_products     0\n",
       "has_cr_card         0\n",
       "is_active_member    0\n",
       "estimated_salary    0\n",
       "exited              0\n",
       "dtype: int64"
      ]
     },
     "execution_count": 22,
     "metadata": {},
     "output_type": "execute_result"
    }
   ],
   "source": [
    "df1.isna().sum()"
   ]
  },
  {
   "cell_type": "markdown",
   "id": "a7859bed",
   "metadata": {},
   "source": [
    "## 1.5. Data Descriptive"
   ]
  },
  {
   "cell_type": "code",
   "execution_count": 23,
   "id": "c2889fbb",
   "metadata": {
    "ExecuteTime": {
     "end_time": "2022-02-15T15:16:38.110432Z",
     "start_time": "2022-02-15T15:16:38.098864Z"
    }
   },
   "outputs": [],
   "source": [
    "num_attributes = df1.select_dtypes(include=['int64', 'float64'])\n",
    "cat_attributes = df1.select_dtypes(exclude=['int64', 'float64'])"
   ]
  },
  {
   "cell_type": "markdown",
   "id": "8895244f",
   "metadata": {},
   "source": [
    "### 1.5.1. Numerical Attributes\n"
   ]
  },
  {
   "cell_type": "code",
   "execution_count": 24,
   "id": "ec8c6255",
   "metadata": {
    "ExecuteTime": {
     "end_time": "2022-02-15T15:16:38.213860Z",
     "start_time": "2022-02-15T15:16:38.116376Z"
    },
    "scrolled": true
   },
   "outputs": [
    {
     "data": {
      "text/html": [
       "<div>\n",
       "<style scoped>\n",
       "    .dataframe tbody tr th:only-of-type {\n",
       "        vertical-align: middle;\n",
       "    }\n",
       "\n",
       "    .dataframe tbody tr th {\n",
       "        vertical-align: top;\n",
       "    }\n",
       "\n",
       "    .dataframe thead th {\n",
       "        text-align: right;\n",
       "    }\n",
       "</style>\n",
       "<table border=\"1\" class=\"dataframe\">\n",
       "  <thead>\n",
       "    <tr style=\"text-align: right;\">\n",
       "      <th></th>\n",
       "      <th>attributes</th>\n",
       "      <th>min</th>\n",
       "      <th>max</th>\n",
       "      <th>range</th>\n",
       "      <th>mean</th>\n",
       "      <th>median</th>\n",
       "      <th>std</th>\n",
       "      <th>skew</th>\n",
       "      <th>kurtosis</th>\n",
       "      <th>shapiro</th>\n",
       "    </tr>\n",
       "  </thead>\n",
       "  <tbody>\n",
       "    <tr>\n",
       "      <th>0</th>\n",
       "      <td>credit_score</td>\n",
       "      <td>350.0</td>\n",
       "      <td>850.0</td>\n",
       "      <td>500.0</td>\n",
       "      <td>650.529</td>\n",
       "      <td>652.0</td>\n",
       "      <td>96.648</td>\n",
       "      <td>-0.072</td>\n",
       "      <td>-0.426</td>\n",
       "      <td>not normal</td>\n",
       "    </tr>\n",
       "    <tr>\n",
       "      <th>1</th>\n",
       "      <td>age</td>\n",
       "      <td>18.0</td>\n",
       "      <td>92.0</td>\n",
       "      <td>74.0</td>\n",
       "      <td>38.922</td>\n",
       "      <td>37.0</td>\n",
       "      <td>10.487</td>\n",
       "      <td>1.011</td>\n",
       "      <td>1.395</td>\n",
       "      <td>not normal</td>\n",
       "    </tr>\n",
       "    <tr>\n",
       "      <th>2</th>\n",
       "      <td>tenure</td>\n",
       "      <td>0.0</td>\n",
       "      <td>10.0</td>\n",
       "      <td>10.0</td>\n",
       "      <td>5.013</td>\n",
       "      <td>5.0</td>\n",
       "      <td>2.892</td>\n",
       "      <td>0.011</td>\n",
       "      <td>-1.165</td>\n",
       "      <td>not normal</td>\n",
       "    </tr>\n",
       "    <tr>\n",
       "      <th>3</th>\n",
       "      <td>balance</td>\n",
       "      <td>0.0</td>\n",
       "      <td>250898.09</td>\n",
       "      <td>250898.09</td>\n",
       "      <td>76485.889</td>\n",
       "      <td>97198.54</td>\n",
       "      <td>62394.285</td>\n",
       "      <td>-0.141</td>\n",
       "      <td>-1.489</td>\n",
       "      <td>not normal</td>\n",
       "    </tr>\n",
       "    <tr>\n",
       "      <th>4</th>\n",
       "      <td>num_of_products</td>\n",
       "      <td>1.0</td>\n",
       "      <td>4.0</td>\n",
       "      <td>3.0</td>\n",
       "      <td>1.53</td>\n",
       "      <td>1.0</td>\n",
       "      <td>0.582</td>\n",
       "      <td>0.746</td>\n",
       "      <td>0.583</td>\n",
       "      <td>not normal</td>\n",
       "    </tr>\n",
       "    <tr>\n",
       "      <th>5</th>\n",
       "      <td>estimated_salary</td>\n",
       "      <td>11.58</td>\n",
       "      <td>199992.48</td>\n",
       "      <td>199980.9</td>\n",
       "      <td>100090.24</td>\n",
       "      <td>100193.915</td>\n",
       "      <td>57507.617</td>\n",
       "      <td>0.002</td>\n",
       "      <td>-1.182</td>\n",
       "      <td>not normal</td>\n",
       "    </tr>\n",
       "  </tbody>\n",
       "</table>\n",
       "</div>"
      ],
      "text/plain": [
       "         attributes   min       max     range      mean     median       std  \\\n",
       "0      credit_score 350.0     850.0     500.0   650.529      652.0    96.648   \n",
       "1               age  18.0      92.0      74.0    38.922       37.0    10.487   \n",
       "2            tenure   0.0      10.0      10.0     5.013        5.0     2.892   \n",
       "3           balance   0.0 250898.09 250898.09 76485.889   97198.54 62394.285   \n",
       "4   num_of_products   1.0       4.0       3.0      1.53        1.0     0.582   \n",
       "5  estimated_salary 11.58 199992.48  199980.9 100090.24 100193.915 57507.617   \n",
       "\n",
       "    skew kurtosis     shapiro  \n",
       "0 -0.072   -0.426  not normal  \n",
       "1  1.011    1.395  not normal  \n",
       "2  0.011   -1.165  not normal  \n",
       "3 -0.141   -1.489  not normal  \n",
       "4  0.746    0.583  not normal  \n",
       "5  0.002   -1.182  not normal  "
      ]
     },
     "execution_count": 24,
     "metadata": {},
     "output_type": "execute_result"
    }
   ],
   "source": [
    "m = numerical_descriptive_statistical(num_attributes)\n",
    "m"
   ]
  },
  {
   "cell_type": "markdown",
   "id": "fd1d76d7",
   "metadata": {},
   "source": [
    "### 1.5.2. Categorical Attributes\n"
   ]
  },
  {
   "cell_type": "code",
   "execution_count": 25,
   "id": "ae7d024e",
   "metadata": {
    "ExecuteTime": {
     "end_time": "2022-02-15T15:16:38.224726Z",
     "start_time": "2022-02-15T15:16:38.216790Z"
    }
   },
   "outputs": [
    {
     "data": {
      "text/plain": [
       "Index(['geography', 'gender', 'has_cr_card', 'is_active_member', 'exited'], dtype='object')"
      ]
     },
     "execution_count": 25,
     "metadata": {},
     "output_type": "execute_result"
    }
   ],
   "source": [
    "cat_attributes.columns"
   ]
  },
  {
   "cell_type": "code",
   "execution_count": 26,
   "id": "2ddd09d2",
   "metadata": {
    "ExecuteTime": {
     "end_time": "2022-02-15T15:16:38.263515Z",
     "start_time": "2022-02-15T15:16:38.229794Z"
    }
   },
   "outputs": [
    {
     "data": {
      "text/html": [
       "<div>\n",
       "<style scoped>\n",
       "    .dataframe tbody tr th:only-of-type {\n",
       "        vertical-align: middle;\n",
       "    }\n",
       "\n",
       "    .dataframe tbody tr th {\n",
       "        vertical-align: top;\n",
       "    }\n",
       "\n",
       "    .dataframe thead th {\n",
       "        text-align: right;\n",
       "    }\n",
       "</style>\n",
       "<table border=\"1\" class=\"dataframe\">\n",
       "  <thead>\n",
       "    <tr style=\"text-align: right;\">\n",
       "      <th></th>\n",
       "      <th>geography</th>\n",
       "      <th>exited</th>\n",
       "    </tr>\n",
       "  </thead>\n",
       "  <tbody>\n",
       "    <tr>\n",
       "      <th>0</th>\n",
       "      <td>France</td>\n",
       "      <td>5014</td>\n",
       "    </tr>\n",
       "    <tr>\n",
       "      <th>1</th>\n",
       "      <td>Germany</td>\n",
       "      <td>2509</td>\n",
       "    </tr>\n",
       "    <tr>\n",
       "      <th>2</th>\n",
       "      <td>Spain</td>\n",
       "      <td>2477</td>\n",
       "    </tr>\n",
       "  </tbody>\n",
       "</table>\n",
       "</div>"
      ],
      "text/plain": [
       "  geography  exited\n",
       "0    France    5014\n",
       "1   Germany    2509\n",
       "2     Spain    2477"
      ]
     },
     "execution_count": 26,
     "metadata": {},
     "output_type": "execute_result"
    }
   ],
   "source": [
    "x = df1[['geography' , 'exited']].groupby('geography').count().reset_index()\n",
    "x"
   ]
  },
  {
   "cell_type": "code",
   "execution_count": 27,
   "id": "c5ec00bc",
   "metadata": {
    "ExecuteTime": {
     "end_time": "2022-02-15T15:16:39.632680Z",
     "start_time": "2022-02-15T15:16:38.266359Z"
    },
    "scrolled": false
   },
   "outputs": [
    {
     "data": {
      "image/png": "[encoded data removed]",
      "text/plain": [
       "<Figure size 1800x720 with 4 Axes>"
      ]
     },
     "metadata": {},
     "output_type": "display_data"
    }
   ],
   "source": [
    "plot_cat_overview(cat_attributes, list(cat_attributes.columns), 'exited') "
   ]
  },
  {
   "cell_type": "code",
   "execution_count": 28,
   "id": "a3367a3b",
   "metadata": {
    "ExecuteTime": {
     "end_time": "2022-02-15T15:16:39.657459Z",
     "start_time": "2022-02-15T15:16:39.635811Z"
    }
   },
   "outputs": [
    {
     "data": {
      "text/html": [
       "<div>\n",
       "<style scoped>\n",
       "    .dataframe tbody tr th:only-of-type {\n",
       "        vertical-align: middle;\n",
       "    }\n",
       "\n",
       "    .dataframe tbody tr th {\n",
       "        vertical-align: top;\n",
       "    }\n",
       "\n",
       "    .dataframe thead th {\n",
       "        text-align: right;\n",
       "    }\n",
       "</style>\n",
       "<table border=\"1\" class=\"dataframe\">\n",
       "  <thead>\n",
       "    <tr style=\"text-align: right;\">\n",
       "      <th></th>\n",
       "      <th>absolute</th>\n",
       "      <th>percent %</th>\n",
       "    </tr>\n",
       "  </thead>\n",
       "  <tbody>\n",
       "    <tr>\n",
       "      <th>France</th>\n",
       "      <td>5014</td>\n",
       "      <td>50.140</td>\n",
       "    </tr>\n",
       "    <tr>\n",
       "      <th>Germany</th>\n",
       "      <td>2509</td>\n",
       "      <td>25.090</td>\n",
       "    </tr>\n",
       "    <tr>\n",
       "      <th>Spain</th>\n",
       "      <td>2477</td>\n",
       "      <td>24.770</td>\n",
       "    </tr>\n",
       "  </tbody>\n",
       "</table>\n",
       "</div>"
      ],
      "text/plain": [
       "         absolute  percent %\n",
       "France       5014     50.140\n",
       "Germany      2509     25.090\n",
       "Spain        2477     24.770"
      ]
     },
     "execution_count": 28,
     "metadata": {},
     "output_type": "execute_result"
    }
   ],
   "source": [
    "categorical_descriptive_statstical(cat_attributes , 'geography')"
   ]
  },
  {
   "cell_type": "code",
   "execution_count": 29,
   "id": "cff7662c",
   "metadata": {
    "ExecuteTime": {
     "end_time": "2022-02-15T15:16:39.682033Z",
     "start_time": "2022-02-15T15:16:39.662530Z"
    }
   },
   "outputs": [
    {
     "data": {
      "text/html": [
       "<div>\n",
       "<style scoped>\n",
       "    .dataframe tbody tr th:only-of-type {\n",
       "        vertical-align: middle;\n",
       "    }\n",
       "\n",
       "    .dataframe tbody tr th {\n",
       "        vertical-align: top;\n",
       "    }\n",
       "\n",
       "    .dataframe thead th {\n",
       "        text-align: right;\n",
       "    }\n",
       "</style>\n",
       "<table border=\"1\" class=\"dataframe\">\n",
       "  <thead>\n",
       "    <tr style=\"text-align: right;\">\n",
       "      <th></th>\n",
       "      <th>absolute</th>\n",
       "      <th>percent %</th>\n",
       "    </tr>\n",
       "  </thead>\n",
       "  <tbody>\n",
       "    <tr>\n",
       "      <th>Male</th>\n",
       "      <td>5457</td>\n",
       "      <td>54.570</td>\n",
       "    </tr>\n",
       "    <tr>\n",
       "      <th>Female</th>\n",
       "      <td>4543</td>\n",
       "      <td>45.430</td>\n",
       "    </tr>\n",
       "  </tbody>\n",
       "</table>\n",
       "</div>"
      ],
      "text/plain": [
       "        absolute  percent %\n",
       "Male        5457     54.570\n",
       "Female      4543     45.430"
      ]
     },
     "execution_count": 29,
     "metadata": {},
     "output_type": "execute_result"
    }
   ],
   "source": [
    "categorical_descriptive_statstical(cat_attributes , 'gender')"
   ]
  },
  {
   "cell_type": "code",
   "execution_count": 30,
   "id": "34126cd4",
   "metadata": {
    "ExecuteTime": {
     "end_time": "2022-02-15T15:16:39.703261Z",
     "start_time": "2022-02-15T15:16:39.685422Z"
    }
   },
   "outputs": [
    {
     "data": {
      "text/html": [
       "<div>\n",
       "<style scoped>\n",
       "    .dataframe tbody tr th:only-of-type {\n",
       "        vertical-align: middle;\n",
       "    }\n",
       "\n",
       "    .dataframe tbody tr th {\n",
       "        vertical-align: top;\n",
       "    }\n",
       "\n",
       "    .dataframe thead th {\n",
       "        text-align: right;\n",
       "    }\n",
       "</style>\n",
       "<table border=\"1\" class=\"dataframe\">\n",
       "  <thead>\n",
       "    <tr style=\"text-align: right;\">\n",
       "      <th></th>\n",
       "      <th>absolute</th>\n",
       "      <th>percent %</th>\n",
       "    </tr>\n",
       "  </thead>\n",
       "  <tbody>\n",
       "    <tr>\n",
       "      <th>True</th>\n",
       "      <td>7055</td>\n",
       "      <td>70.550</td>\n",
       "    </tr>\n",
       "    <tr>\n",
       "      <th>False</th>\n",
       "      <td>2945</td>\n",
       "      <td>29.450</td>\n",
       "    </tr>\n",
       "  </tbody>\n",
       "</table>\n",
       "</div>"
      ],
      "text/plain": [
       "       absolute  percent %\n",
       "True       7055     70.550\n",
       "False      2945     29.450"
      ]
     },
     "execution_count": 30,
     "metadata": {},
     "output_type": "execute_result"
    }
   ],
   "source": [
    "categorical_descriptive_statstical(cat_attributes , 'has_cr_card')"
   ]
  },
  {
   "cell_type": "code",
   "execution_count": 31,
   "id": "893b0fd4",
   "metadata": {
    "ExecuteTime": {
     "end_time": "2022-02-15T15:16:39.721761Z",
     "start_time": "2022-02-15T15:16:39.706800Z"
    },
    "scrolled": true
   },
   "outputs": [
    {
     "data": {
      "text/html": [
       "<div>\n",
       "<style scoped>\n",
       "    .dataframe tbody tr th:only-of-type {\n",
       "        vertical-align: middle;\n",
       "    }\n",
       "\n",
       "    .dataframe tbody tr th {\n",
       "        vertical-align: top;\n",
       "    }\n",
       "\n",
       "    .dataframe thead th {\n",
       "        text-align: right;\n",
       "    }\n",
       "</style>\n",
       "<table border=\"1\" class=\"dataframe\">\n",
       "  <thead>\n",
       "    <tr style=\"text-align: right;\">\n",
       "      <th></th>\n",
       "      <th>absolute</th>\n",
       "      <th>percent %</th>\n",
       "    </tr>\n",
       "  </thead>\n",
       "  <tbody>\n",
       "    <tr>\n",
       "      <th>True</th>\n",
       "      <td>5151</td>\n",
       "      <td>51.510</td>\n",
       "    </tr>\n",
       "    <tr>\n",
       "      <th>False</th>\n",
       "      <td>4849</td>\n",
       "      <td>48.490</td>\n",
       "    </tr>\n",
       "  </tbody>\n",
       "</table>\n",
       "</div>"
      ],
      "text/plain": [
       "       absolute  percent %\n",
       "True       5151     51.510\n",
       "False      4849     48.490"
      ]
     },
     "execution_count": 31,
     "metadata": {},
     "output_type": "execute_result"
    }
   ],
   "source": [
    "categorical_descriptive_statstical(cat_attributes , 'is_active_member')"
   ]
  },
  {
   "cell_type": "code",
   "execution_count": 32,
   "id": "31a1da5f",
   "metadata": {
    "ExecuteTime": {
     "end_time": "2022-02-15T15:16:39.738235Z",
     "start_time": "2022-02-15T15:16:39.725280Z"
    }
   },
   "outputs": [
    {
     "data": {
      "text/html": [
       "<div>\n",
       "<style scoped>\n",
       "    .dataframe tbody tr th:only-of-type {\n",
       "        vertical-align: middle;\n",
       "    }\n",
       "\n",
       "    .dataframe tbody tr th {\n",
       "        vertical-align: top;\n",
       "    }\n",
       "\n",
       "    .dataframe thead th {\n",
       "        text-align: right;\n",
       "    }\n",
       "</style>\n",
       "<table border=\"1\" class=\"dataframe\">\n",
       "  <thead>\n",
       "    <tr style=\"text-align: right;\">\n",
       "      <th></th>\n",
       "      <th>absolute</th>\n",
       "      <th>percent %</th>\n",
       "    </tr>\n",
       "  </thead>\n",
       "  <tbody>\n",
       "    <tr>\n",
       "      <th>False</th>\n",
       "      <td>7963</td>\n",
       "      <td>79.630</td>\n",
       "    </tr>\n",
       "    <tr>\n",
       "      <th>True</th>\n",
       "      <td>2037</td>\n",
       "      <td>20.370</td>\n",
       "    </tr>\n",
       "  </tbody>\n",
       "</table>\n",
       "</div>"
      ],
      "text/plain": [
       "       absolute  percent %\n",
       "False      7963     79.630\n",
       "True       2037     20.370"
      ]
     },
     "execution_count": 32,
     "metadata": {},
     "output_type": "execute_result"
    }
   ],
   "source": [
    "categorical_descriptive_statstical(cat_attributes , 'exited')"
   ]
  },
  {
   "cell_type": "markdown",
   "id": "ede9b229",
   "metadata": {},
   "source": [
    "### 1.5.3. Multivariate Analysis\n",
    "\n"
   ]
  },
  {
   "cell_type": "code",
   "execution_count": 33,
   "id": "a1caef70",
   "metadata": {
    "ExecuteTime": {
     "end_time": "2022-02-15T15:16:40.559071Z",
     "start_time": "2022-02-15T15:16:39.742206Z"
    }
   },
   "outputs": [
    {
     "data": {
      "text/plain": [
       "<AxesSubplot:>"
      ]
     },
     "execution_count": 33,
     "metadata": {},
     "output_type": "execute_result"
    },
    {
     "data": {
      "image/png": "[encoded data removed]",
      "text/plain": [
       "<Figure size 1800x864 with 2 Axes>"
      ]
     },
     "metadata": {},
     "output_type": "display_data"
    }
   ],
   "source": [
    "correlation_matrix(df1 , 'spearman')"
   ]
  },
  {
   "cell_type": "markdown",
   "id": "8b17a408",
   "metadata": {},
   "source": [
    "### 1.5.4. Outliers Numerical Attributes\n"
   ]
  },
  {
   "cell_type": "code",
   "execution_count": 34,
   "id": "b7d7f0ec",
   "metadata": {
    "ExecuteTime": {
     "end_time": "2022-02-15T15:16:40.567627Z",
     "start_time": "2022-02-15T15:16:40.563409Z"
    }
   },
   "outputs": [],
   "source": [
    "num_cols = num_attributes.columns.tolist()"
   ]
  },
  {
   "cell_type": "code",
   "execution_count": 35,
   "id": "5c026caa",
   "metadata": {
    "ExecuteTime": {
     "end_time": "2022-02-15T15:16:42.110709Z",
     "start_time": "2022-02-15T15:16:40.571201Z"
    },
    "scrolled": false
   },
   "outputs": [
    {
     "data": {
      "image/png": "[encoded data removed]",
      "text/plain": [
       "<Figure size 1800x864 with 6 Axes>"
      ]
     },
     "metadata": {},
     "output_type": "display_data"
    }
   ],
   "source": [
    "i = 1\n",
    "for col in df1[num_cols]:\n",
    "    plt.subplot(2,3,i)\n",
    "    ax = sns.boxplot( data = df1 , x = col)\n",
    "    i += 1\n",
    "    "
   ]
  },
  {
   "cell_type": "markdown",
   "id": "9614126b",
   "metadata": {},
   "source": [
    " **Important informations:**\n",
    " \n",
    "- There are outliers in **credit_score, num_of_products and age**\n",
    "- The **churn ratio is 20.37%**\n",
    "- **70.6%** of the members **has credit card**\n",
    "- More than **50% of the clients** are **from France**"
   ]
  },
  {
   "cell_type": "markdown",
   "id": "032dbd70",
   "metadata": {},
   "source": [
    "# 2.0. Feature Engineering\n"
   ]
  },
  {
   "cell_type": "code",
   "execution_count": 36,
   "id": "2d020bbb",
   "metadata": {
    "ExecuteTime": {
     "end_time": "2022-02-15T15:16:42.120082Z",
     "start_time": "2022-02-15T15:16:42.114531Z"
    }
   },
   "outputs": [],
   "source": [
    "df2 = df1.copy()"
   ]
  },
  {
   "cell_type": "code",
   "execution_count": 37,
   "id": "01467c8e",
   "metadata": {
    "ExecuteTime": {
     "end_time": "2022-02-15T15:16:42.145155Z",
     "start_time": "2022-02-15T15:16:42.124066Z"
    },
    "scrolled": true
   },
   "outputs": [
    {
     "data": {
      "text/html": [
       "<div>\n",
       "<style scoped>\n",
       "    .dataframe tbody tr th:only-of-type {\n",
       "        vertical-align: middle;\n",
       "    }\n",
       "\n",
       "    .dataframe tbody tr th {\n",
       "        vertical-align: top;\n",
       "    }\n",
       "\n",
       "    .dataframe thead th {\n",
       "        text-align: right;\n",
       "    }\n",
       "</style>\n",
       "<table border=\"1\" class=\"dataframe\">\n",
       "  <thead>\n",
       "    <tr style=\"text-align: right;\">\n",
       "      <th></th>\n",
       "      <th>credit_score</th>\n",
       "      <th>geography</th>\n",
       "      <th>gender</th>\n",
       "      <th>age</th>\n",
       "      <th>tenure</th>\n",
       "      <th>balance</th>\n",
       "      <th>num_of_products</th>\n",
       "      <th>has_cr_card</th>\n",
       "      <th>is_active_member</th>\n",
       "      <th>estimated_salary</th>\n",
       "      <th>exited</th>\n",
       "    </tr>\n",
       "  </thead>\n",
       "  <tbody>\n",
       "    <tr>\n",
       "      <th>0</th>\n",
       "      <td>619</td>\n",
       "      <td>France</td>\n",
       "      <td>Female</td>\n",
       "      <td>42</td>\n",
       "      <td>2</td>\n",
       "      <td>0.000</td>\n",
       "      <td>1</td>\n",
       "      <td>True</td>\n",
       "      <td>True</td>\n",
       "      <td>101348.880</td>\n",
       "      <td>True</td>\n",
       "    </tr>\n",
       "    <tr>\n",
       "      <th>1</th>\n",
       "      <td>608</td>\n",
       "      <td>Spain</td>\n",
       "      <td>Female</td>\n",
       "      <td>41</td>\n",
       "      <td>1</td>\n",
       "      <td>83807.860</td>\n",
       "      <td>1</td>\n",
       "      <td>False</td>\n",
       "      <td>True</td>\n",
       "      <td>112542.580</td>\n",
       "      <td>False</td>\n",
       "    </tr>\n",
       "    <tr>\n",
       "      <th>2</th>\n",
       "      <td>502</td>\n",
       "      <td>France</td>\n",
       "      <td>Female</td>\n",
       "      <td>42</td>\n",
       "      <td>8</td>\n",
       "      <td>159660.800</td>\n",
       "      <td>3</td>\n",
       "      <td>True</td>\n",
       "      <td>False</td>\n",
       "      <td>113931.570</td>\n",
       "      <td>True</td>\n",
       "    </tr>\n",
       "    <tr>\n",
       "      <th>3</th>\n",
       "      <td>699</td>\n",
       "      <td>France</td>\n",
       "      <td>Female</td>\n",
       "      <td>39</td>\n",
       "      <td>1</td>\n",
       "      <td>0.000</td>\n",
       "      <td>2</td>\n",
       "      <td>False</td>\n",
       "      <td>False</td>\n",
       "      <td>93826.630</td>\n",
       "      <td>False</td>\n",
       "    </tr>\n",
       "    <tr>\n",
       "      <th>4</th>\n",
       "      <td>850</td>\n",
       "      <td>Spain</td>\n",
       "      <td>Female</td>\n",
       "      <td>43</td>\n",
       "      <td>2</td>\n",
       "      <td>125510.820</td>\n",
       "      <td>1</td>\n",
       "      <td>True</td>\n",
       "      <td>True</td>\n",
       "      <td>79084.100</td>\n",
       "      <td>False</td>\n",
       "    </tr>\n",
       "  </tbody>\n",
       "</table>\n",
       "</div>"
      ],
      "text/plain": [
       "   credit_score geography  gender  age  tenure    balance  num_of_products  \\\n",
       "0           619    France  Female   42       2      0.000                1   \n",
       "1           608     Spain  Female   41       1  83807.860                1   \n",
       "2           502    France  Female   42       8 159660.800                3   \n",
       "3           699    France  Female   39       1      0.000                2   \n",
       "4           850     Spain  Female   43       2 125510.820                1   \n",
       "\n",
       "   has_cr_card  is_active_member  estimated_salary  exited  \n",
       "0         True              True        101348.880    True  \n",
       "1        False              True        112542.580   False  \n",
       "2         True             False        113931.570    True  \n",
       "3        False             False         93826.630   False  \n",
       "4         True              True         79084.100   False  "
      ]
     },
     "execution_count": 37,
     "metadata": {},
     "output_type": "execute_result"
    }
   ],
   "source": [
    "df2.head()"
   ]
  },
  {
   "cell_type": "markdown",
   "id": "697bdef7",
   "metadata": {},
   "source": [
    "## 2.1. Balance_age"
   ]
  },
  {
   "cell_type": "code",
   "execution_count": 38,
   "id": "830063f1",
   "metadata": {
    "ExecuteTime": {
     "end_time": "2022-02-15T15:16:42.176998Z",
     "start_time": "2022-02-15T15:16:42.148884Z"
    }
   },
   "outputs": [],
   "source": [
    "# balance_per_age\n",
    "balance_age = df2[['balance', 'age']].groupby('age').mean().reset_index()\n",
    "balance_age.columns = ['age' , 'balance_age']\n",
    "\n",
    "# merge\n",
    "\n",
    "df2 = pd.merge(df2, balance_age, on = 'age' ,  how = 'left')"
   ]
  },
  {
   "cell_type": "markdown",
   "id": "7b3a04a2",
   "metadata": {},
   "source": [
    "## 2.2. Balance_country\n"
   ]
  },
  {
   "cell_type": "code",
   "execution_count": 39,
   "id": "cd204bd3",
   "metadata": {
    "ExecuteTime": {
     "end_time": "2022-02-15T15:16:42.207713Z",
     "start_time": "2022-02-15T15:16:42.180949Z"
    }
   },
   "outputs": [],
   "source": [
    "balance_country = df2.loc[:, ['geography', 'balance']].groupby('geography').mean().reset_index()\n",
    "balance_country.columns = ['geography', 'balance_per_country']\n",
    "\n",
    "# merge\n",
    "df2 = pd.merge(df2, balance_country, on = 'geography', how = 'left')"
   ]
  },
  {
   "cell_type": "markdown",
   "id": "65a4461b",
   "metadata": {},
   "source": [
    "## 2.3. Balance_tenure\n"
   ]
  },
  {
   "cell_type": "code",
   "execution_count": 40,
   "id": "a63282f8",
   "metadata": {
    "ExecuteTime": {
     "end_time": "2022-02-15T15:16:42.234516Z",
     "start_time": "2022-02-15T15:16:42.212652Z"
    }
   },
   "outputs": [],
   "source": [
    "balance_tenure = df2.loc[:, ['tenure', 'balance']].groupby('tenure').mean().reset_index()\n",
    "balance_tenure.columns = ['tenure', 'LTV']\n",
    "\n",
    "# merge\n",
    "df2 = pd.merge(df2, balance_tenure, on = 'tenure', how = 'left')"
   ]
  },
  {
   "cell_type": "markdown",
   "id": "41540bce",
   "metadata": {},
   "source": [
    "## 2.3. Salary_gender\n"
   ]
  },
  {
   "cell_type": "code",
   "execution_count": 41,
   "id": "43f0898c",
   "metadata": {
    "ExecuteTime": {
     "end_time": "2022-02-15T15:16:42.265193Z",
     "start_time": "2022-02-15T15:16:42.237694Z"
    }
   },
   "outputs": [],
   "source": [
    "estimated_salary_gender = df2.loc[:, ['gender', 'estimated_salary']].groupby('gender').mean().reset_index()\n",
    "estimated_salary_gender.columns = ['gender', 'estimated_salary_per_gender']\n",
    "\n",
    "# merge\n",
    "df2 = pd.merge(df2, estimated_salary_gender, on = 'gender', how = 'left')"
   ]
  },
  {
   "cell_type": "code",
   "execution_count": 42,
   "id": "40c87250",
   "metadata": {
    "ExecuteTime": {
     "end_time": "2022-02-15T15:16:43.422111Z",
     "start_time": "2022-02-15T15:16:42.268189Z"
    }
   },
   "outputs": [
    {
     "data": {
      "text/plain": [
       "<AxesSubplot:>"
      ]
     },
     "execution_count": 42,
     "metadata": {},
     "output_type": "execute_result"
    },
    {
     "data": {
      "image/png": "[encoded data removed]",
      "text/plain": [
       "<Figure size 1800x864 with 2 Axes>"
      ]
     },
     "metadata": {},
     "output_type": "display_data"
    }
   ],
   "source": [
    "correlation_matrix(df2, 'pearson')"
   ]
  },
  {
   "cell_type": "markdown",
   "id": "e33118bd",
   "metadata": {},
   "source": [
    "# 3.0. Data Filtering\n"
   ]
  },
  {
   "cell_type": "code",
   "execution_count": 43,
   "id": "88cb0d1d",
   "metadata": {
    "ExecuteTime": {
     "end_time": "2022-02-15T15:16:43.432528Z",
     "start_time": "2022-02-15T15:16:43.425802Z"
    }
   },
   "outputs": [],
   "source": [
    "df3 = df2.copy()"
   ]
  },
  {
   "cell_type": "markdown",
   "id": "12bb7cce",
   "metadata": {},
   "source": [
    "# 4.0. Exploratoria Data Analysis (EDA)\n"
   ]
  },
  {
   "cell_type": "code",
   "execution_count": 44,
   "id": "f4a27579",
   "metadata": {
    "ExecuteTime": {
     "end_time": "2022-02-15T15:16:43.444985Z",
     "start_time": "2022-02-15T15:16:43.435421Z"
    }
   },
   "outputs": [],
   "source": [
    "df4 = df3.copy()"
   ]
  },
  {
   "cell_type": "code",
   "execution_count": null,
   "id": "52a414a6",
   "metadata": {},
   "outputs": [],
   "source": []
  },
  {
   "cell_type": "markdown",
   "id": "45be06b4",
   "metadata": {},
   "source": [
    "# 5.0. Data Preparation\n"
   ]
  },
  {
   "cell_type": "code",
   "execution_count": 45,
   "id": "4e691ad5",
   "metadata": {
    "ExecuteTime": {
     "end_time": "2022-02-15T15:16:43.458159Z",
     "start_time": "2022-02-15T15:16:43.449257Z"
    }
   },
   "outputs": [],
   "source": [
    "df5 = df4.copy()"
   ]
  },
  {
   "cell_type": "code",
   "execution_count": 46,
   "id": "d3e804dc",
   "metadata": {
    "ExecuteTime": {
     "end_time": "2022-02-15T15:16:43.474092Z",
     "start_time": "2022-02-15T15:16:43.463076Z"
    },
    "scrolled": true
   },
   "outputs": [
    {
     "data": {
      "text/plain": [
       "Index(['credit_score', 'geography', 'gender', 'age', 'tenure', 'balance',\n",
       "       'num_of_products', 'has_cr_card', 'is_active_member',\n",
       "       'estimated_salary', 'exited', 'balance_age', 'balance_per_country',\n",
       "       'LTV', 'estimated_salary_per_gender'],\n",
       "      dtype='object')"
      ]
     },
     "execution_count": 46,
     "metadata": {},
     "output_type": "execute_result"
    }
   ],
   "source": [
    "df5.columns"
   ]
  },
  {
   "cell_type": "code",
   "execution_count": 47,
   "id": "64d2553c",
   "metadata": {
    "ExecuteTime": {
     "end_time": "2022-02-15T15:16:43.510675Z",
     "start_time": "2022-02-15T15:16:43.478111Z"
    }
   },
   "outputs": [
    {
     "data": {
      "text/html": [
       "<div>\n",
       "<style scoped>\n",
       "    .dataframe tbody tr th:only-of-type {\n",
       "        vertical-align: middle;\n",
       "    }\n",
       "\n",
       "    .dataframe tbody tr th {\n",
       "        vertical-align: top;\n",
       "    }\n",
       "\n",
       "    .dataframe thead th {\n",
       "        text-align: right;\n",
       "    }\n",
       "</style>\n",
       "<table border=\"1\" class=\"dataframe\">\n",
       "  <thead>\n",
       "    <tr style=\"text-align: right;\">\n",
       "      <th></th>\n",
       "      <th>credit_score</th>\n",
       "      <th>geography</th>\n",
       "      <th>gender</th>\n",
       "      <th>age</th>\n",
       "      <th>tenure</th>\n",
       "      <th>balance</th>\n",
       "      <th>num_of_products</th>\n",
       "      <th>has_cr_card</th>\n",
       "      <th>is_active_member</th>\n",
       "      <th>estimated_salary</th>\n",
       "      <th>exited</th>\n",
       "      <th>balance_age</th>\n",
       "      <th>balance_per_country</th>\n",
       "      <th>LTV</th>\n",
       "      <th>estimated_salary_per_gender</th>\n",
       "    </tr>\n",
       "  </thead>\n",
       "  <tbody>\n",
       "    <tr>\n",
       "      <th>0</th>\n",
       "      <td>619</td>\n",
       "      <td>France</td>\n",
       "      <td>Female</td>\n",
       "      <td>42</td>\n",
       "      <td>2</td>\n",
       "      <td>0.000</td>\n",
       "      <td>1</td>\n",
       "      <td>True</td>\n",
       "      <td>True</td>\n",
       "      <td>101348.880</td>\n",
       "      <td>True</td>\n",
       "      <td>76785.312</td>\n",
       "      <td>62092.637</td>\n",
       "      <td>76839.626</td>\n",
       "      <td>100601.541</td>\n",
       "    </tr>\n",
       "    <tr>\n",
       "      <th>1</th>\n",
       "      <td>608</td>\n",
       "      <td>Spain</td>\n",
       "      <td>Female</td>\n",
       "      <td>41</td>\n",
       "      <td>1</td>\n",
       "      <td>83807.860</td>\n",
       "      <td>1</td>\n",
       "      <td>False</td>\n",
       "      <td>True</td>\n",
       "      <td>112542.580</td>\n",
       "      <td>False</td>\n",
       "      <td>75742.975</td>\n",
       "      <td>61818.148</td>\n",
       "      <td>78555.384</td>\n",
       "      <td>100601.541</td>\n",
       "    </tr>\n",
       "    <tr>\n",
       "      <th>2</th>\n",
       "      <td>502</td>\n",
       "      <td>France</td>\n",
       "      <td>Female</td>\n",
       "      <td>42</td>\n",
       "      <td>8</td>\n",
       "      <td>159660.800</td>\n",
       "      <td>3</td>\n",
       "      <td>True</td>\n",
       "      <td>False</td>\n",
       "      <td>113931.570</td>\n",
       "      <td>True</td>\n",
       "      <td>76785.312</td>\n",
       "      <td>62092.637</td>\n",
       "      <td>77936.598</td>\n",
       "      <td>100601.541</td>\n",
       "    </tr>\n",
       "    <tr>\n",
       "      <th>3</th>\n",
       "      <td>699</td>\n",
       "      <td>France</td>\n",
       "      <td>Female</td>\n",
       "      <td>39</td>\n",
       "      <td>1</td>\n",
       "      <td>0.000</td>\n",
       "      <td>2</td>\n",
       "      <td>False</td>\n",
       "      <td>False</td>\n",
       "      <td>93826.630</td>\n",
       "      <td>False</td>\n",
       "      <td>74285.289</td>\n",
       "      <td>62092.637</td>\n",
       "      <td>78555.384</td>\n",
       "      <td>100601.541</td>\n",
       "    </tr>\n",
       "    <tr>\n",
       "      <th>4</th>\n",
       "      <td>850</td>\n",
       "      <td>Spain</td>\n",
       "      <td>Female</td>\n",
       "      <td>43</td>\n",
       "      <td>2</td>\n",
       "      <td>125510.820</td>\n",
       "      <td>1</td>\n",
       "      <td>True</td>\n",
       "      <td>True</td>\n",
       "      <td>79084.100</td>\n",
       "      <td>False</td>\n",
       "      <td>81636.038</td>\n",
       "      <td>61818.148</td>\n",
       "      <td>76839.626</td>\n",
       "      <td>100601.541</td>\n",
       "    </tr>\n",
       "  </tbody>\n",
       "</table>\n",
       "</div>"
      ],
      "text/plain": [
       "   credit_score geography  gender  age  tenure    balance  num_of_products  \\\n",
       "0           619    France  Female   42       2      0.000                1   \n",
       "1           608     Spain  Female   41       1  83807.860                1   \n",
       "2           502    France  Female   42       8 159660.800                3   \n",
       "3           699    France  Female   39       1      0.000                2   \n",
       "4           850     Spain  Female   43       2 125510.820                1   \n",
       "\n",
       "   has_cr_card  is_active_member  estimated_salary  exited  balance_age  \\\n",
       "0         True              True        101348.880    True    76785.312   \n",
       "1        False              True        112542.580   False    75742.975   \n",
       "2         True             False        113931.570    True    76785.312   \n",
       "3        False             False         93826.630   False    74285.289   \n",
       "4         True              True         79084.100   False    81636.038   \n",
       "\n",
       "   balance_per_country       LTV  estimated_salary_per_gender  \n",
       "0            62092.637 76839.626                   100601.541  \n",
       "1            61818.148 78555.384                   100601.541  \n",
       "2            62092.637 77936.598                   100601.541  \n",
       "3            62092.637 78555.384                   100601.541  \n",
       "4            61818.148 76839.626                   100601.541  "
      ]
     },
     "execution_count": 47,
     "metadata": {},
     "output_type": "execute_result"
    }
   ],
   "source": [
    "df5.head()"
   ]
  },
  {
   "cell_type": "code",
   "execution_count": 48,
   "id": "be5f8dd2",
   "metadata": {
    "ExecuteTime": {
     "end_time": "2022-02-15T15:16:43.525568Z",
     "start_time": "2022-02-15T15:16:43.514705Z"
    }
   },
   "outputs": [],
   "source": [
    "\n",
    "df5.exited = df1.exited.astype('int64')\n",
    "df5.has_cr_card = df1.has_cr_card.astype('int64')\n",
    "df5.is_active_member= df1.is_active_member.astype('int64')"
   ]
  },
  {
   "cell_type": "markdown",
   "id": "1e329df5",
   "metadata": {},
   "source": [
    "## 5.1. Rescaling"
   ]
  },
  {
   "cell_type": "code",
   "execution_count": 49,
   "id": "9df93424",
   "metadata": {
    "ExecuteTime": {
     "end_time": "2022-02-15T15:16:43.566801Z",
     "start_time": "2022-02-15T15:16:43.529278Z"
    }
   },
   "outputs": [],
   "source": [
    "mms = pp.MinMaxScaler()\n",
    "rbs = pp.RobustScaler()\n",
    "\n",
    "cols_rob =['age']\n",
    "cols_mms = ['credit_score', 'tenure', 'salary']\n",
    "\n",
    "\n",
    "df5['age'] = rbs.fit_transform(df5[['age']].values)\n",
    "\n",
    "#Balance\n",
    "df5['balance'] = mms.fit_transform(df5[['balance']].values)\n",
    "df5['tenure'] = mms.fit_transform(df5[['tenure']].values)\n",
    "\n",
    "\n",
    "df5['balance_age'] = mms.fit_transform(df5[['balance_age']].values)\n",
    "df5['balance_per_country'] = mms.fit_transform(df5[['balance_per_country']].values)\n",
    "df5['LTV'] = mms.fit_transform(df5[['LTV']].values)\n",
    "df5['estimated_salary_per_gender'] = mms.fit_transform(df5[['estimated_salary_per_gender']].values)\n",
    "\n",
    "\n",
    "#EstimatedSalary\n",
    "df5['estimated_salary'] = mms.fit_transform(df5[['estimated_salary']].values)\n",
    "\n",
    "#LTV\n",
    "df5['LTV'] = mms.fit_transform(df5[['LTV']].values)\n",
    "\n",
    "\n"
   ]
  },
  {
   "cell_type": "markdown",
   "id": "305921f7",
   "metadata": {},
   "source": [
    "## 5.2. Encoding"
   ]
  },
  {
   "cell_type": "code",
   "execution_count": 50,
   "id": "c50cbe02",
   "metadata": {
    "ExecuteTime": {
     "end_time": "2022-02-15T15:16:43.595685Z",
     "start_time": "2022-02-15T15:16:43.569903Z"
    }
   },
   "outputs": [],
   "source": [
    "# #gender - label encoding \n",
    "# gender_dict = { 'Male':0 , 'Female':1 }\n",
    "# df5['gender'] = df5['gender'].map( gender_dict ) \n",
    "\n",
    "# #Geography - One Hot Encoding\n",
    "# # one hot encoding encoding \n",
    "df5 = pd.get_dummies(df5, prefix=['country'], columns=['geography'])\n",
    "df5 = pd.get_dummies(df5, prefix=['gender'], columns=['gender'])\n",
    "\n",
    "# questions_encoding = {'False': 0,'True': 1}\n",
    "\n",
    "# df5['is_active_member'] = df5['is_active_member'].map(questions_encoding )\n",
    "# df5['has_cr_card'] = df5['has_cr_card'].map(questions_encoding)\n",
    "# df5['exited'] = df5['exited'].map(questions_encoding)"
   ]
  },
  {
   "cell_type": "markdown",
   "id": "7200a1c4",
   "metadata": {},
   "source": [
    "## 5.3. Balanicing Data Set"
   ]
  },
  {
   "cell_type": "code",
   "execution_count": 51,
   "id": "8f2cebb3",
   "metadata": {
    "ExecuteTime": {
     "end_time": "2022-02-15T15:16:43.620869Z",
     "start_time": "2022-02-15T15:16:43.599180Z"
    }
   },
   "outputs": [],
   "source": [
    "x = df5.drop('exited', axis = 1)\n",
    "y = df5.exited\n",
    "\n",
    "x_train, x_test,y_train, y_test = train_test_split(x , y , test_size=0.33 , random_state = 42, stratify = y)"
   ]
  },
  {
   "cell_type": "code",
   "execution_count": 52,
   "id": "812d8a58",
   "metadata": {
    "ExecuteTime": {
     "end_time": "2022-02-15T15:16:48.689051Z",
     "start_time": "2022-02-15T15:16:43.624666Z"
    }
   },
   "outputs": [],
   "source": [
    "# balance dataset\n",
    "up_sampler = SMOTETomek(random_state=42 , n_jobs = -1)\n",
    "\n",
    "x_train_res , y_train_res = up_sampler.fit_resample(x_train , y_train)"
   ]
  },
  {
   "cell_type": "code",
   "execution_count": 53,
   "id": "987c2ce4",
   "metadata": {
    "ExecuteTime": {
     "end_time": "2022-02-15T15:16:49.051177Z",
     "start_time": "2022-02-15T15:16:48.692624Z"
    }
   },
   "outputs": [
    {
     "data": {
      "image/png": "[encoded data removed]",
      "text/plain": [
       "<Figure size 1800x360 with 2 Axes>"
      ]
     },
     "metadata": {},
     "output_type": "display_data"
    }
   ],
   "source": [
    "fig , axes = plt.subplots(1,2, figsize = (25,5))\n",
    "\n",
    "fig.suptitle('Comparation before x After Smote Tomek')\n",
    "\n",
    "axes[0].set_title('Before Up sample')\n",
    "ax1 = sns.countplot(ax = axes[0] , x=y_train)\n",
    "\n",
    "axes[1].set_title('After Up sample')\n",
    "ax1 = sns.countplot(ax = axes[1] , x=y_train_res)"
   ]
  },
  {
   "cell_type": "markdown",
   "id": "71284103",
   "metadata": {},
   "source": [
    "# 6.0. Feature Selection\n"
   ]
  },
  {
   "cell_type": "code",
   "execution_count": 54,
   "id": "f432e17b",
   "metadata": {
    "ExecuteTime": {
     "end_time": "2022-02-15T15:16:49.059478Z",
     "start_time": "2022-02-15T15:16:49.053849Z"
    }
   },
   "outputs": [],
   "source": [
    "df6 = df5.copy()"
   ]
  },
  {
   "cell_type": "code",
   "execution_count": 55,
   "id": "9fe6b895",
   "metadata": {
    "ExecuteTime": {
     "end_time": "2022-02-15T15:16:49.085567Z",
     "start_time": "2022-02-15T15:16:49.063049Z"
    }
   },
   "outputs": [
    {
     "data": {
      "text/html": [
       "<div>\n",
       "<style scoped>\n",
       "    .dataframe tbody tr th:only-of-type {\n",
       "        vertical-align: middle;\n",
       "    }\n",
       "\n",
       "    .dataframe tbody tr th {\n",
       "        vertical-align: top;\n",
       "    }\n",
       "\n",
       "    .dataframe thead th {\n",
       "        text-align: right;\n",
       "    }\n",
       "</style>\n",
       "<table border=\"1\" class=\"dataframe\">\n",
       "  <thead>\n",
       "    <tr style=\"text-align: right;\">\n",
       "      <th></th>\n",
       "      <th>credit_score</th>\n",
       "      <th>age</th>\n",
       "      <th>tenure</th>\n",
       "      <th>balance</th>\n",
       "      <th>num_of_products</th>\n",
       "      <th>has_cr_card</th>\n",
       "      <th>is_active_member</th>\n",
       "      <th>estimated_salary</th>\n",
       "      <th>exited</th>\n",
       "      <th>balance_age</th>\n",
       "      <th>balance_per_country</th>\n",
       "      <th>LTV</th>\n",
       "      <th>estimated_salary_per_gender</th>\n",
       "      <th>country_France</th>\n",
       "      <th>country_Germany</th>\n",
       "      <th>country_Spain</th>\n",
       "      <th>gender_Female</th>\n",
       "      <th>gender_Male</th>\n",
       "    </tr>\n",
       "  </thead>\n",
       "  <tbody>\n",
       "    <tr>\n",
       "      <th>0</th>\n",
       "      <td>619</td>\n",
       "      <td>0.417</td>\n",
       "      <td>0.200</td>\n",
       "      <td>0.000</td>\n",
       "      <td>1</td>\n",
       "      <td>1</td>\n",
       "      <td>1</td>\n",
       "      <td>0.507</td>\n",
       "      <td>1</td>\n",
       "      <td>0.620</td>\n",
       "      <td>0.005</td>\n",
       "      <td>0.489</td>\n",
       "      <td>1.000</td>\n",
       "      <td>1</td>\n",
       "      <td>0</td>\n",
       "      <td>0</td>\n",
       "      <td>1</td>\n",
       "      <td>0</td>\n",
       "    </tr>\n",
       "    <tr>\n",
       "      <th>1</th>\n",
       "      <td>608</td>\n",
       "      <td>0.333</td>\n",
       "      <td>0.100</td>\n",
       "      <td>0.334</td>\n",
       "      <td>1</td>\n",
       "      <td>0</td>\n",
       "      <td>1</td>\n",
       "      <td>0.563</td>\n",
       "      <td>0</td>\n",
       "      <td>0.612</td>\n",
       "      <td>0.000</td>\n",
       "      <td>0.778</td>\n",
       "      <td>1.000</td>\n",
       "      <td>0</td>\n",
       "      <td>0</td>\n",
       "      <td>1</td>\n",
       "      <td>1</td>\n",
       "      <td>0</td>\n",
       "    </tr>\n",
       "    <tr>\n",
       "      <th>2</th>\n",
       "      <td>502</td>\n",
       "      <td>0.417</td>\n",
       "      <td>0.800</td>\n",
       "      <td>0.636</td>\n",
       "      <td>3</td>\n",
       "      <td>1</td>\n",
       "      <td>0</td>\n",
       "      <td>0.570</td>\n",
       "      <td>1</td>\n",
       "      <td>0.620</td>\n",
       "      <td>0.005</td>\n",
       "      <td>0.674</td>\n",
       "      <td>1.000</td>\n",
       "      <td>1</td>\n",
       "      <td>0</td>\n",
       "      <td>0</td>\n",
       "      <td>1</td>\n",
       "      <td>0</td>\n",
       "    </tr>\n",
       "    <tr>\n",
       "      <th>3</th>\n",
       "      <td>699</td>\n",
       "      <td>0.167</td>\n",
       "      <td>0.100</td>\n",
       "      <td>0.000</td>\n",
       "      <td>2</td>\n",
       "      <td>0</td>\n",
       "      <td>0</td>\n",
       "      <td>0.469</td>\n",
       "      <td>0</td>\n",
       "      <td>0.600</td>\n",
       "      <td>0.005</td>\n",
       "      <td>0.778</td>\n",
       "      <td>1.000</td>\n",
       "      <td>1</td>\n",
       "      <td>0</td>\n",
       "      <td>0</td>\n",
       "      <td>1</td>\n",
       "      <td>0</td>\n",
       "    </tr>\n",
       "    <tr>\n",
       "      <th>4</th>\n",
       "      <td>850</td>\n",
       "      <td>0.500</td>\n",
       "      <td>0.200</td>\n",
       "      <td>0.500</td>\n",
       "      <td>1</td>\n",
       "      <td>1</td>\n",
       "      <td>1</td>\n",
       "      <td>0.395</td>\n",
       "      <td>0</td>\n",
       "      <td>0.659</td>\n",
       "      <td>0.000</td>\n",
       "      <td>0.489</td>\n",
       "      <td>1.000</td>\n",
       "      <td>0</td>\n",
       "      <td>0</td>\n",
       "      <td>1</td>\n",
       "      <td>1</td>\n",
       "      <td>0</td>\n",
       "    </tr>\n",
       "  </tbody>\n",
       "</table>\n",
       "</div>"
      ],
      "text/plain": [
       "   credit_score   age  tenure  balance  num_of_products  has_cr_card  \\\n",
       "0           619 0.417   0.200    0.000                1            1   \n",
       "1           608 0.333   0.100    0.334                1            0   \n",
       "2           502 0.417   0.800    0.636                3            1   \n",
       "3           699 0.167   0.100    0.000                2            0   \n",
       "4           850 0.500   0.200    0.500                1            1   \n",
       "\n",
       "   is_active_member  estimated_salary  exited  balance_age  \\\n",
       "0                 1             0.507       1        0.620   \n",
       "1                 1             0.563       0        0.612   \n",
       "2                 0             0.570       1        0.620   \n",
       "3                 0             0.469       0        0.600   \n",
       "4                 1             0.395       0        0.659   \n",
       "\n",
       "   balance_per_country   LTV  estimated_salary_per_gender  country_France  \\\n",
       "0                0.005 0.489                        1.000               1   \n",
       "1                0.000 0.778                        1.000               0   \n",
       "2                0.005 0.674                        1.000               1   \n",
       "3                0.005 0.778                        1.000               1   \n",
       "4                0.000 0.489                        1.000               0   \n",
       "\n",
       "   country_Germany  country_Spain  gender_Female  gender_Male  \n",
       "0                0              0              1            0  \n",
       "1                0              1              1            0  \n",
       "2                0              0              1            0  \n",
       "3                0              0              1            0  \n",
       "4                0              1              1            0  "
      ]
     },
     "execution_count": 55,
     "metadata": {},
     "output_type": "execute_result"
    }
   ],
   "source": [
    "df6.head()"
   ]
  },
  {
   "cell_type": "code",
   "execution_count": 56,
   "id": "71d875b7",
   "metadata": {
    "ExecuteTime": {
     "end_time": "2022-02-15T15:16:49.093749Z",
     "start_time": "2022-02-15T15:16:49.089037Z"
    }
   },
   "outputs": [],
   "source": [
    "# no model selected default is Random Forest, we will use a CatBoostClassifier. If classification is True it is a Classification problem.\n",
    "\n",
    "#cat_boruta = CatBoostClassifier(random_state=42)\n",
    "# rf = RandomForestClassifier(n_jobs=-1 )\n",
    "\n",
    "\n",
    "# Feature_Selector_rf = BorutaShap(model = rf,\n",
    "#                               importance_measure='shap',\n",
    "#                               classification=True)\n",
    "\n",
    "# Feature_Selector_rf.fit(X=x_train_res, y=y_train_res, n_trials=100, verbose=True, train_or_test = 'train', random_state=42)"
   ]
  },
  {
   "cell_type": "code",
   "execution_count": 57,
   "id": "b47128ba",
   "metadata": {
    "ExecuteTime": {
     "end_time": "2022-02-15T15:35:14.491289Z",
     "start_time": "2022-02-15T15:16:49.096315Z"
    }
   },
   "outputs": [
    {
     "data": {
      "application/vnd.jupyter.widget-view+json": {
       "model_id": "c86236f7276a4d86a4c9223cc9f298a0",
       "version_major": 2,
       "version_minor": 0
      },
      "text/plain": [
       "  0%|          | 0/100 [00:00<?, ?it/s]"
      ]
     },
     "metadata": {},
     "output_type": "display_data"
    },
    {
     "name": "stdout",
     "output_type": "stream",
     "text": [
      "[12:16:49] WARNING: ../src/learner.cc:1115: Starting in XGBoost 1.3.0, the default evaluation metric used with the objective 'binary:logistic' was changed from 'error' to 'logloss'. Explicitly set eval_metric if you'd like to restore the old behavior.\n",
      "[12:17:02] WARNING: ../src/learner.cc:1115: Starting in XGBoost 1.3.0, the default evaluation metric used with the objective 'binary:logistic' was changed from 'error' to 'logloss'. Explicitly set eval_metric if you'd like to restore the old behavior.\n",
      "[12:17:07] WARNING: ../src/learner.cc:1115: Starting in XGBoost 1.3.0, the default evaluation metric used with the objective 'binary:logistic' was changed from 'error' to 'logloss'. Explicitly set eval_metric if you'd like to restore the old behavior.\n",
      "[12:17:13] WARNING: ../src/learner.cc:1115: Starting in XGBoost 1.3.0, the default evaluation metric used with the objective 'binary:logistic' was changed from 'error' to 'logloss'. Explicitly set eval_metric if you'd like to restore the old behavior.\n",
      "[12:17:17] WARNING: ../src/learner.cc:1115: Starting in XGBoost 1.3.0, the default evaluation metric used with the objective 'binary:logistic' was changed from 'error' to 'logloss'. Explicitly set eval_metric if you'd like to restore the old behavior.\n",
      "[12:17:21] WARNING: ../src/learner.cc:1115: Starting in XGBoost 1.3.0, the default evaluation metric used with the objective 'binary:logistic' was changed from 'error' to 'logloss'. Explicitly set eval_metric if you'd like to restore the old behavior.\n",
      "[12:17:25] WARNING: ../src/learner.cc:1115: Starting in XGBoost 1.3.0, the default evaluation metric used with the objective 'binary:logistic' was changed from 'error' to 'logloss'. Explicitly set eval_metric if you'd like to restore the old behavior.\n",
      "[12:17:29] WARNING: ../src/learner.cc:1115: Starting in XGBoost 1.3.0, the default evaluation metric used with the objective 'binary:logistic' was changed from 'error' to 'logloss'. Explicitly set eval_metric if you'd like to restore the old behavior.\n",
      "[12:17:34] WARNING: ../src/learner.cc:1115: Starting in XGBoost 1.3.0, the default evaluation metric used with the objective 'binary:logistic' was changed from 'error' to 'logloss'. Explicitly set eval_metric if you'd like to restore the old behavior.\n",
      "[12:17:38] WARNING: ../src/learner.cc:1115: Starting in XGBoost 1.3.0, the default evaluation metric used with the objective 'binary:logistic' was changed from 'error' to 'logloss'. Explicitly set eval_metric if you'd like to restore the old behavior.\n",
      "[12:17:42] WARNING: ../src/learner.cc:1115: Starting in XGBoost 1.3.0, the default evaluation metric used with the objective 'binary:logistic' was changed from 'error' to 'logloss'. Explicitly set eval_metric if you'd like to restore the old behavior.\n",
      "[12:17:46] WARNING: ../src/learner.cc:1115: Starting in XGBoost 1.3.0, the default evaluation metric used with the objective 'binary:logistic' was changed from 'error' to 'logloss'. Explicitly set eval_metric if you'd like to restore the old behavior.\n",
      "[12:17:50] WARNING: ../src/learner.cc:1115: Starting in XGBoost 1.3.0, the default evaluation metric used with the objective 'binary:logistic' was changed from 'error' to 'logloss'. Explicitly set eval_metric if you'd like to restore the old behavior.\n",
      "[12:17:54] WARNING: ../src/learner.cc:1115: Starting in XGBoost 1.3.0, the default evaluation metric used with the objective 'binary:logistic' was changed from 'error' to 'logloss'. Explicitly set eval_metric if you'd like to restore the old behavior.\n",
      "[12:17:59] WARNING: ../src/learner.cc:1115: Starting in XGBoost 1.3.0, the default evaluation metric used with the objective 'binary:logistic' was changed from 'error' to 'logloss'. Explicitly set eval_metric if you'd like to restore the old behavior.\n",
      "[12:18:05] WARNING: ../src/learner.cc:1115: Starting in XGBoost 1.3.0, the default evaluation metric used with the objective 'binary:logistic' was changed from 'error' to 'logloss'. Explicitly set eval_metric if you'd like to restore the old behavior.\n",
      "[12:18:12] WARNING: ../src/learner.cc:1115: Starting in XGBoost 1.3.0, the default evaluation metric used with the objective 'binary:logistic' was changed from 'error' to 'logloss'. Explicitly set eval_metric if you'd like to restore the old behavior.\n",
      "[12:18:16] WARNING: ../src/learner.cc:1115: Starting in XGBoost 1.3.0, the default evaluation metric used with the objective 'binary:logistic' was changed from 'error' to 'logloss'. Explicitly set eval_metric if you'd like to restore the old behavior.\n",
      "[12:18:20] WARNING: ../src/learner.cc:1115: Starting in XGBoost 1.3.0, the default evaluation metric used with the objective 'binary:logistic' was changed from 'error' to 'logloss'. Explicitly set eval_metric if you'd like to restore the old behavior.\n",
      "[12:18:30] WARNING: ../src/learner.cc:1115: Starting in XGBoost 1.3.0, the default evaluation metric used with the objective 'binary:logistic' was changed from 'error' to 'logloss'. Explicitly set eval_metric if you'd like to restore the old behavior.\n",
      "[12:18:39] WARNING: ../src/learner.cc:1115: Starting in XGBoost 1.3.0, the default evaluation metric used with the objective 'binary:logistic' was changed from 'error' to 'logloss'. Explicitly set eval_metric if you'd like to restore the old behavior.\n",
      "[12:18:44] WARNING: ../src/learner.cc:1115: Starting in XGBoost 1.3.0, the default evaluation metric used with the objective 'binary:logistic' was changed from 'error' to 'logloss'. Explicitly set eval_metric if you'd like to restore the old behavior.\n",
      "[12:18:51] WARNING: ../src/learner.cc:1115: Starting in XGBoost 1.3.0, the default evaluation metric used with the objective 'binary:logistic' was changed from 'error' to 'logloss'. Explicitly set eval_metric if you'd like to restore the old behavior.\n",
      "[12:18:58] WARNING: ../src/learner.cc:1115: Starting in XGBoost 1.3.0, the default evaluation metric used with the objective 'binary:logistic' was changed from 'error' to 'logloss'. Explicitly set eval_metric if you'd like to restore the old behavior.\n",
      "[12:19:11] WARNING: ../src/learner.cc:1115: Starting in XGBoost 1.3.0, the default evaluation metric used with the objective 'binary:logistic' was changed from 'error' to 'logloss'. Explicitly set eval_metric if you'd like to restore the old behavior.\n",
      "[12:19:20] WARNING: ../src/learner.cc:1115: Starting in XGBoost 1.3.0, the default evaluation metric used with the objective 'binary:logistic' was changed from 'error' to 'logloss'. Explicitly set eval_metric if you'd like to restore the old behavior.\n",
      "[12:19:29] WARNING: ../src/learner.cc:1115: Starting in XGBoost 1.3.0, the default evaluation metric used with the objective 'binary:logistic' was changed from 'error' to 'logloss'. Explicitly set eval_metric if you'd like to restore the old behavior.\n",
      "[12:19:39] WARNING: ../src/learner.cc:1115: Starting in XGBoost 1.3.0, the default evaluation metric used with the objective 'binary:logistic' was changed from 'error' to 'logloss'. Explicitly set eval_metric if you'd like to restore the old behavior.\n",
      "[12:19:54] WARNING: ../src/learner.cc:1115: Starting in XGBoost 1.3.0, the default evaluation metric used with the objective 'binary:logistic' was changed from 'error' to 'logloss'. Explicitly set eval_metric if you'd like to restore the old behavior.\n",
      "[12:20:06] WARNING: ../src/learner.cc:1115: Starting in XGBoost 1.3.0, the default evaluation metric used with the objective 'binary:logistic' was changed from 'error' to 'logloss'. Explicitly set eval_metric if you'd like to restore the old behavior.\n",
      "[12:20:15] WARNING: ../src/learner.cc:1115: Starting in XGBoost 1.3.0, the default evaluation metric used with the objective 'binary:logistic' was changed from 'error' to 'logloss'. Explicitly set eval_metric if you'd like to restore the old behavior.\n",
      "[12:20:24] WARNING: ../src/learner.cc:1115: Starting in XGBoost 1.3.0, the default evaluation metric used with the objective 'binary:logistic' was changed from 'error' to 'logloss'. Explicitly set eval_metric if you'd like to restore the old behavior.\n",
      "[12:20:39] WARNING: ../src/learner.cc:1115: Starting in XGBoost 1.3.0, the default evaluation metric used with the objective 'binary:logistic' was changed from 'error' to 'logloss'. Explicitly set eval_metric if you'd like to restore the old behavior.\n"
     ]
    },
    {
     "name": "stdout",
     "output_type": "stream",
     "text": [
      "[12:20:47] WARNING: ../src/learner.cc:1115: Starting in XGBoost 1.3.0, the default evaluation metric used with the objective 'binary:logistic' was changed from 'error' to 'logloss'. Explicitly set eval_metric if you'd like to restore the old behavior.\n",
      "[12:20:53] WARNING: ../src/learner.cc:1115: Starting in XGBoost 1.3.0, the default evaluation metric used with the objective 'binary:logistic' was changed from 'error' to 'logloss'. Explicitly set eval_metric if you'd like to restore the old behavior.\n",
      "[12:21:23] WARNING: ../src/learner.cc:1115: Starting in XGBoost 1.3.0, the default evaluation metric used with the objective 'binary:logistic' was changed from 'error' to 'logloss'. Explicitly set eval_metric if you'd like to restore the old behavior.\n",
      "[12:21:53] WARNING: ../src/learner.cc:1115: Starting in XGBoost 1.3.0, the default evaluation metric used with the objective 'binary:logistic' was changed from 'error' to 'logloss'. Explicitly set eval_metric if you'd like to restore the old behavior.\n",
      "[12:22:10] WARNING: ../src/learner.cc:1115: Starting in XGBoost 1.3.0, the default evaluation metric used with the objective 'binary:logistic' was changed from 'error' to 'logloss'. Explicitly set eval_metric if you'd like to restore the old behavior.\n",
      "[12:22:22] WARNING: ../src/learner.cc:1115: Starting in XGBoost 1.3.0, the default evaluation metric used with the objective 'binary:logistic' was changed from 'error' to 'logloss'. Explicitly set eval_metric if you'd like to restore the old behavior.\n",
      "[12:22:41] WARNING: ../src/learner.cc:1115: Starting in XGBoost 1.3.0, the default evaluation metric used with the objective 'binary:logistic' was changed from 'error' to 'logloss'. Explicitly set eval_metric if you'd like to restore the old behavior.\n",
      "[12:23:02] WARNING: ../src/learner.cc:1115: Starting in XGBoost 1.3.0, the default evaluation metric used with the objective 'binary:logistic' was changed from 'error' to 'logloss'. Explicitly set eval_metric if you'd like to restore the old behavior.\n",
      "[12:23:35] WARNING: ../src/learner.cc:1115: Starting in XGBoost 1.3.0, the default evaluation metric used with the objective 'binary:logistic' was changed from 'error' to 'logloss'. Explicitly set eval_metric if you'd like to restore the old behavior.\n",
      "[12:23:51] WARNING: ../src/learner.cc:1115: Starting in XGBoost 1.3.0, the default evaluation metric used with the objective 'binary:logistic' was changed from 'error' to 'logloss'. Explicitly set eval_metric if you'd like to restore the old behavior.\n",
      "[12:24:07] WARNING: ../src/learner.cc:1115: Starting in XGBoost 1.3.0, the default evaluation metric used with the objective 'binary:logistic' was changed from 'error' to 'logloss'. Explicitly set eval_metric if you'd like to restore the old behavior.\n",
      "[12:24:18] WARNING: ../src/learner.cc:1115: Starting in XGBoost 1.3.0, the default evaluation metric used with the objective 'binary:logistic' was changed from 'error' to 'logloss'. Explicitly set eval_metric if you'd like to restore the old behavior.\n",
      "[12:24:31] WARNING: ../src/learner.cc:1115: Starting in XGBoost 1.3.0, the default evaluation metric used with the objective 'binary:logistic' was changed from 'error' to 'logloss'. Explicitly set eval_metric if you'd like to restore the old behavior.\n",
      "[12:24:42] WARNING: ../src/learner.cc:1115: Starting in XGBoost 1.3.0, the default evaluation metric used with the objective 'binary:logistic' was changed from 'error' to 'logloss'. Explicitly set eval_metric if you'd like to restore the old behavior.\n",
      "[12:24:53] WARNING: ../src/learner.cc:1115: Starting in XGBoost 1.3.0, the default evaluation metric used with the objective 'binary:logistic' was changed from 'error' to 'logloss'. Explicitly set eval_metric if you'd like to restore the old behavior.\n",
      "[12:25:06] WARNING: ../src/learner.cc:1115: Starting in XGBoost 1.3.0, the default evaluation metric used with the objective 'binary:logistic' was changed from 'error' to 'logloss'. Explicitly set eval_metric if you'd like to restore the old behavior.\n",
      "[12:25:17] WARNING: ../src/learner.cc:1115: Starting in XGBoost 1.3.0, the default evaluation metric used with the objective 'binary:logistic' was changed from 'error' to 'logloss'. Explicitly set eval_metric if you'd like to restore the old behavior.\n",
      "[12:25:28] WARNING: ../src/learner.cc:1115: Starting in XGBoost 1.3.0, the default evaluation metric used with the objective 'binary:logistic' was changed from 'error' to 'logloss'. Explicitly set eval_metric if you'd like to restore the old behavior.\n",
      "[12:25:42] WARNING: ../src/learner.cc:1115: Starting in XGBoost 1.3.0, the default evaluation metric used with the objective 'binary:logistic' was changed from 'error' to 'logloss'. Explicitly set eval_metric if you'd like to restore the old behavior.\n",
      "[12:25:56] WARNING: ../src/learner.cc:1115: Starting in XGBoost 1.3.0, the default evaluation metric used with the objective 'binary:logistic' was changed from 'error' to 'logloss'. Explicitly set eval_metric if you'd like to restore the old behavior.\n",
      "[12:26:08] WARNING: ../src/learner.cc:1115: Starting in XGBoost 1.3.0, the default evaluation metric used with the objective 'binary:logistic' was changed from 'error' to 'logloss'. Explicitly set eval_metric if you'd like to restore the old behavior.\n",
      "[12:26:20] WARNING: ../src/learner.cc:1115: Starting in XGBoost 1.3.0, the default evaluation metric used with the objective 'binary:logistic' was changed from 'error' to 'logloss'. Explicitly set eval_metric if you'd like to restore the old behavior.\n",
      "[12:26:30] WARNING: ../src/learner.cc:1115: Starting in XGBoost 1.3.0, the default evaluation metric used with the objective 'binary:logistic' was changed from 'error' to 'logloss'. Explicitly set eval_metric if you'd like to restore the old behavior.\n",
      "[12:26:41] WARNING: ../src/learner.cc:1115: Starting in XGBoost 1.3.0, the default evaluation metric used with the objective 'binary:logistic' was changed from 'error' to 'logloss'. Explicitly set eval_metric if you'd like to restore the old behavior.\n",
      "[12:26:53] WARNING: ../src/learner.cc:1115: Starting in XGBoost 1.3.0, the default evaluation metric used with the objective 'binary:logistic' was changed from 'error' to 'logloss'. Explicitly set eval_metric if you'd like to restore the old behavior.\n",
      "[12:27:15] WARNING: ../src/learner.cc:1115: Starting in XGBoost 1.3.0, the default evaluation metric used with the objective 'binary:logistic' was changed from 'error' to 'logloss'. Explicitly set eval_metric if you'd like to restore the old behavior.\n",
      "[12:27:22] WARNING: ../src/learner.cc:1115: Starting in XGBoost 1.3.0, the default evaluation metric used with the objective 'binary:logistic' was changed from 'error' to 'logloss'. Explicitly set eval_metric if you'd like to restore the old behavior.\n",
      "[12:27:29] WARNING: ../src/learner.cc:1115: Starting in XGBoost 1.3.0, the default evaluation metric used with the objective 'binary:logistic' was changed from 'error' to 'logloss'. Explicitly set eval_metric if you'd like to restore the old behavior.\n",
      "[12:27:35] WARNING: ../src/learner.cc:1115: Starting in XGBoost 1.3.0, the default evaluation metric used with the objective 'binary:logistic' was changed from 'error' to 'logloss'. Explicitly set eval_metric if you'd like to restore the old behavior.\n",
      "[12:27:40] WARNING: ../src/learner.cc:1115: Starting in XGBoost 1.3.0, the default evaluation metric used with the objective 'binary:logistic' was changed from 'error' to 'logloss'. Explicitly set eval_metric if you'd like to restore the old behavior.\n",
      "[12:27:46] WARNING: ../src/learner.cc:1115: Starting in XGBoost 1.3.0, the default evaluation metric used with the objective 'binary:logistic' was changed from 'error' to 'logloss'. Explicitly set eval_metric if you'd like to restore the old behavior.\n",
      "[12:27:53] WARNING: ../src/learner.cc:1115: Starting in XGBoost 1.3.0, the default evaluation metric used with the objective 'binary:logistic' was changed from 'error' to 'logloss'. Explicitly set eval_metric if you'd like to restore the old behavior.\n",
      "[12:28:13] WARNING: ../src/learner.cc:1115: Starting in XGBoost 1.3.0, the default evaluation metric used with the objective 'binary:logistic' was changed from 'error' to 'logloss'. Explicitly set eval_metric if you'd like to restore the old behavior.\n"
     ]
    },
    {
     "name": "stdout",
     "output_type": "stream",
     "text": [
      "[12:28:23] WARNING: ../src/learner.cc:1115: Starting in XGBoost 1.3.0, the default evaluation metric used with the objective 'binary:logistic' was changed from 'error' to 'logloss'. Explicitly set eval_metric if you'd like to restore the old behavior.\n",
      "[12:28:34] WARNING: ../src/learner.cc:1115: Starting in XGBoost 1.3.0, the default evaluation metric used with the objective 'binary:logistic' was changed from 'error' to 'logloss'. Explicitly set eval_metric if you'd like to restore the old behavior.\n",
      "[12:28:48] WARNING: ../src/learner.cc:1115: Starting in XGBoost 1.3.0, the default evaluation metric used with the objective 'binary:logistic' was changed from 'error' to 'logloss'. Explicitly set eval_metric if you'd like to restore the old behavior.\n",
      "[12:29:01] WARNING: ../src/learner.cc:1115: Starting in XGBoost 1.3.0, the default evaluation metric used with the objective 'binary:logistic' was changed from 'error' to 'logloss'. Explicitly set eval_metric if you'd like to restore the old behavior.\n",
      "[12:29:06] WARNING: ../src/learner.cc:1115: Starting in XGBoost 1.3.0, the default evaluation metric used with the objective 'binary:logistic' was changed from 'error' to 'logloss'. Explicitly set eval_metric if you'd like to restore the old behavior.\n",
      "[12:29:11] WARNING: ../src/learner.cc:1115: Starting in XGBoost 1.3.0, the default evaluation metric used with the objective 'binary:logistic' was changed from 'error' to 'logloss'. Explicitly set eval_metric if you'd like to restore the old behavior.\n",
      "[12:29:21] WARNING: ../src/learner.cc:1115: Starting in XGBoost 1.3.0, the default evaluation metric used with the objective 'binary:logistic' was changed from 'error' to 'logloss'. Explicitly set eval_metric if you'd like to restore the old behavior.\n",
      "[12:29:28] WARNING: ../src/learner.cc:1115: Starting in XGBoost 1.3.0, the default evaluation metric used with the objective 'binary:logistic' was changed from 'error' to 'logloss'. Explicitly set eval_metric if you'd like to restore the old behavior.\n",
      "[12:29:33] WARNING: ../src/learner.cc:1115: Starting in XGBoost 1.3.0, the default evaluation metric used with the objective 'binary:logistic' was changed from 'error' to 'logloss'. Explicitly set eval_metric if you'd like to restore the old behavior.\n",
      "[12:29:38] WARNING: ../src/learner.cc:1115: Starting in XGBoost 1.3.0, the default evaluation metric used with the objective 'binary:logistic' was changed from 'error' to 'logloss'. Explicitly set eval_metric if you'd like to restore the old behavior.\n",
      "[12:29:45] WARNING: ../src/learner.cc:1115: Starting in XGBoost 1.3.0, the default evaluation metric used with the objective 'binary:logistic' was changed from 'error' to 'logloss'. Explicitly set eval_metric if you'd like to restore the old behavior.\n",
      "[12:29:53] WARNING: ../src/learner.cc:1115: Starting in XGBoost 1.3.0, the default evaluation metric used with the objective 'binary:logistic' was changed from 'error' to 'logloss'. Explicitly set eval_metric if you'd like to restore the old behavior.\n",
      "[12:30:09] WARNING: ../src/learner.cc:1115: Starting in XGBoost 1.3.0, the default evaluation metric used with the objective 'binary:logistic' was changed from 'error' to 'logloss'. Explicitly set eval_metric if you'd like to restore the old behavior.\n",
      "[12:30:18] WARNING: ../src/learner.cc:1115: Starting in XGBoost 1.3.0, the default evaluation metric used with the objective 'binary:logistic' was changed from 'error' to 'logloss'. Explicitly set eval_metric if you'd like to restore the old behavior.\n",
      "[12:30:22] WARNING: ../src/learner.cc:1115: Starting in XGBoost 1.3.0, the default evaluation metric used with the objective 'binary:logistic' was changed from 'error' to 'logloss'. Explicitly set eval_metric if you'd like to restore the old behavior.\n",
      "[12:30:26] WARNING: ../src/learner.cc:1115: Starting in XGBoost 1.3.0, the default evaluation metric used with the objective 'binary:logistic' was changed from 'error' to 'logloss'. Explicitly set eval_metric if you'd like to restore the old behavior.\n",
      "[12:30:30] WARNING: ../src/learner.cc:1115: Starting in XGBoost 1.3.0, the default evaluation metric used with the objective 'binary:logistic' was changed from 'error' to 'logloss'. Explicitly set eval_metric if you'd like to restore the old behavior.\n",
      "[12:30:35] WARNING: ../src/learner.cc:1115: Starting in XGBoost 1.3.0, the default evaluation metric used with the objective 'binary:logistic' was changed from 'error' to 'logloss'. Explicitly set eval_metric if you'd like to restore the old behavior.\n",
      "[12:30:39] WARNING: ../src/learner.cc:1115: Starting in XGBoost 1.3.0, the default evaluation metric used with the objective 'binary:logistic' was changed from 'error' to 'logloss'. Explicitly set eval_metric if you'd like to restore the old behavior.\n",
      "[12:30:47] WARNING: ../src/learner.cc:1115: Starting in XGBoost 1.3.0, the default evaluation metric used with the objective 'binary:logistic' was changed from 'error' to 'logloss'. Explicitly set eval_metric if you'd like to restore the old behavior.\n",
      "[12:30:51] WARNING: ../src/learner.cc:1115: Starting in XGBoost 1.3.0, the default evaluation metric used with the objective 'binary:logistic' was changed from 'error' to 'logloss'. Explicitly set eval_metric if you'd like to restore the old behavior.\n",
      "[12:31:07] WARNING: ../src/learner.cc:1115: Starting in XGBoost 1.3.0, the default evaluation metric used with the objective 'binary:logistic' was changed from 'error' to 'logloss'. Explicitly set eval_metric if you'd like to restore the old behavior.\n",
      "[12:31:25] WARNING: ../src/learner.cc:1115: Starting in XGBoost 1.3.0, the default evaluation metric used with the objective 'binary:logistic' was changed from 'error' to 'logloss'. Explicitly set eval_metric if you'd like to restore the old behavior.\n",
      "[12:31:29] WARNING: ../src/learner.cc:1115: Starting in XGBoost 1.3.0, the default evaluation metric used with the objective 'binary:logistic' was changed from 'error' to 'logloss'. Explicitly set eval_metric if you'd like to restore the old behavior.\n",
      "[12:31:33] WARNING: ../src/learner.cc:1115: Starting in XGBoost 1.3.0, the default evaluation metric used with the objective 'binary:logistic' was changed from 'error' to 'logloss'. Explicitly set eval_metric if you'd like to restore the old behavior.\n",
      "[12:31:38] WARNING: ../src/learner.cc:1115: Starting in XGBoost 1.3.0, the default evaluation metric used with the objective 'binary:logistic' was changed from 'error' to 'logloss'. Explicitly set eval_metric if you'd like to restore the old behavior.\n",
      "[12:31:48] WARNING: ../src/learner.cc:1115: Starting in XGBoost 1.3.0, the default evaluation metric used with the objective 'binary:logistic' was changed from 'error' to 'logloss'. Explicitly set eval_metric if you'd like to restore the old behavior.\n",
      "[12:31:59] WARNING: ../src/learner.cc:1115: Starting in XGBoost 1.3.0, the default evaluation metric used with the objective 'binary:logistic' was changed from 'error' to 'logloss'. Explicitly set eval_metric if you'd like to restore the old behavior.\n",
      "[12:32:09] WARNING: ../src/learner.cc:1115: Starting in XGBoost 1.3.0, the default evaluation metric used with the objective 'binary:logistic' was changed from 'error' to 'logloss'. Explicitly set eval_metric if you'd like to restore the old behavior.\n",
      "[12:34:11] WARNING: ../src/learner.cc:1115: Starting in XGBoost 1.3.0, the default evaluation metric used with the objective 'binary:logistic' was changed from 'error' to 'logloss'. Explicitly set eval_metric if you'd like to restore the old behavior.\n",
      "[12:34:38] WARNING: ../src/learner.cc:1115: Starting in XGBoost 1.3.0, the default evaluation metric used with the objective 'binary:logistic' was changed from 'error' to 'logloss'. Explicitly set eval_metric if you'd like to restore the old behavior.\n",
      "[12:34:43] WARNING: ../src/learner.cc:1115: Starting in XGBoost 1.3.0, the default evaluation metric used with the objective 'binary:logistic' was changed from 'error' to 'logloss'. Explicitly set eval_metric if you'd like to restore the old behavior.\n",
      "[12:34:47] WARNING: ../src/learner.cc:1115: Starting in XGBoost 1.3.0, the default evaluation metric used with the objective 'binary:logistic' was changed from 'error' to 'logloss'. Explicitly set eval_metric if you'd like to restore the old behavior.\n"
     ]
    },
    {
     "name": "stdout",
     "output_type": "stream",
     "text": [
      "[12:35:02] WARNING: ../src/learner.cc:1115: Starting in XGBoost 1.3.0, the default evaluation metric used with the objective 'binary:logistic' was changed from 'error' to 'logloss'. Explicitly set eval_metric if you'd like to restore the old behavior.\n",
      "12 attributes confirmed important: ['credit_score', 'is_active_member', 'balance_per_country', 'estimated_salary', 'tenure', 'num_of_products', 'LTV', 'country_France', 'estimated_salary_per_gender', 'balance', 'age', 'balance_age']\n",
      "5 attributes confirmed unimportant: ['gender_Female', 'country_Germany', 'country_Spain', 'gender_Male', 'has_cr_card']\n",
      "0 tentative attributes remains: []\n"
     ]
    }
   ],
   "source": [
    "model = XGBClassifier(n_jobs=-1 )\n",
    "\n",
    "\n",
    "Feature_Selector_rf = BorutaShap(model = model,\n",
    "                              importance_measure='shap',\n",
    "                              classification=True)\n",
    "\n",
    "Feature_Selector_rf.fit(X=x_train_res, y=y_train_res, n_trials=100, verbose=True, train_or_test = 'train', random_state=42)"
   ]
  },
  {
   "cell_type": "code",
   "execution_count": 58,
   "id": "d63658ac",
   "metadata": {
    "ExecuteTime": {
     "end_time": "2022-02-15T15:35:15.943316Z",
     "start_time": "2022-02-15T15:35:14.499957Z"
    },
    "scrolled": true
   },
   "outputs": [
    {
     "data": {
      "image/png": "[encoded data removed]",
      "text/plain": [
       "<Figure size 864x576 with 1 Axes>"
      ]
     },
     "metadata": {},
     "output_type": "display_data"
    }
   ],
   "source": [
    " # Returns Boxplot of features\n",
    "Feature_Selector_rf.plot(X_size=12, figsize=(12,8),\n",
    "            y_scale='log', which_features='all')"
   ]
  },
  {
   "cell_type": "code",
   "execution_count": 59,
   "id": "d3a76d5c",
   "metadata": {
    "ExecuteTime": {
     "end_time": "2022-02-15T15:35:15.972648Z",
     "start_time": "2022-02-15T15:35:15.945999Z"
    }
   },
   "outputs": [
    {
     "data": {
      "text/html": [
       "<div>\n",
       "<style scoped>\n",
       "    .dataframe tbody tr th:only-of-type {\n",
       "        vertical-align: middle;\n",
       "    }\n",
       "\n",
       "    .dataframe tbody tr th {\n",
       "        vertical-align: top;\n",
       "    }\n",
       "\n",
       "    .dataframe thead th {\n",
       "        text-align: right;\n",
       "    }\n",
       "</style>\n",
       "<table border=\"1\" class=\"dataframe\">\n",
       "  <thead>\n",
       "    <tr style=\"text-align: right;\">\n",
       "      <th></th>\n",
       "      <th>credit_score</th>\n",
       "      <th>is_active_member</th>\n",
       "      <th>balance_per_country</th>\n",
       "      <th>estimated_salary</th>\n",
       "      <th>tenure</th>\n",
       "      <th>num_of_products</th>\n",
       "      <th>LTV</th>\n",
       "      <th>country_France</th>\n",
       "      <th>estimated_salary_per_gender</th>\n",
       "      <th>balance</th>\n",
       "      <th>age</th>\n",
       "      <th>balance_age</th>\n",
       "    </tr>\n",
       "  </thead>\n",
       "  <tbody>\n",
       "    <tr>\n",
       "      <th>0</th>\n",
       "      <td>644</td>\n",
       "      <td>1</td>\n",
       "      <td>0.005</td>\n",
       "      <td>0.209</td>\n",
       "      <td>0.500</td>\n",
       "      <td>2</td>\n",
       "      <td>0.423</td>\n",
       "      <td>1</td>\n",
       "      <td>0.000</td>\n",
       "      <td>0.000</td>\n",
       "      <td>-0.500</td>\n",
       "      <td>0.610</td>\n",
       "    </tr>\n",
       "    <tr>\n",
       "      <th>1</th>\n",
       "      <td>600</td>\n",
       "      <td>1</td>\n",
       "      <td>0.005</td>\n",
       "      <td>0.510</td>\n",
       "      <td>0.100</td>\n",
       "      <td>1</td>\n",
       "      <td>0.778</td>\n",
       "      <td>1</td>\n",
       "      <td>0.000</td>\n",
       "      <td>0.000</td>\n",
       "      <td>-0.417</td>\n",
       "      <td>0.611</td>\n",
       "    </tr>\n",
       "    <tr>\n",
       "      <th>2</th>\n",
       "      <td>567</td>\n",
       "      <td>0</td>\n",
       "      <td>0.000</td>\n",
       "      <td>0.311</td>\n",
       "      <td>0.100</td>\n",
       "      <td>1</td>\n",
       "      <td>0.778</td>\n",
       "      <td>0</td>\n",
       "      <td>1.000</td>\n",
       "      <td>0.627</td>\n",
       "      <td>0.667</td>\n",
       "      <td>0.645</td>\n",
       "    </tr>\n",
       "    <tr>\n",
       "      <th>3</th>\n",
       "      <td>640</td>\n",
       "      <td>1</td>\n",
       "      <td>1.000</td>\n",
       "      <td>0.035</td>\n",
       "      <td>0.900</td>\n",
       "      <td>4</td>\n",
       "      <td>0.443</td>\n",
       "      <td>0</td>\n",
       "      <td>0.000</td>\n",
       "      <td>0.525</td>\n",
       "      <td>0.167</td>\n",
       "      <td>0.600</td>\n",
       "    </tr>\n",
       "    <tr>\n",
       "      <th>4</th>\n",
       "      <td>611</td>\n",
       "      <td>1</td>\n",
       "      <td>0.005</td>\n",
       "      <td>0.513</td>\n",
       "      <td>0.100</td>\n",
       "      <td>2</td>\n",
       "      <td>0.778</td>\n",
       "      <td>1</td>\n",
       "      <td>0.000</td>\n",
       "      <td>0.000</td>\n",
       "      <td>0.250</td>\n",
       "      <td>0.622</td>\n",
       "    </tr>\n",
       "  </tbody>\n",
       "</table>\n",
       "</div>"
      ],
      "text/plain": [
       "   credit_score  is_active_member  balance_per_country  estimated_salary  \\\n",
       "0           644                 1                0.005             0.209   \n",
       "1           600                 1                0.005             0.510   \n",
       "2           567                 0                0.000             0.311   \n",
       "3           640                 1                1.000             0.035   \n",
       "4           611                 1                0.005             0.513   \n",
       "\n",
       "   tenure  num_of_products   LTV  country_France  estimated_salary_per_gender  \\\n",
       "0   0.500                2 0.423               1                        0.000   \n",
       "1   0.100                1 0.778               1                        0.000   \n",
       "2   0.100                1 0.778               0                        1.000   \n",
       "3   0.900                4 0.443               0                        0.000   \n",
       "4   0.100                2 0.778               1                        0.000   \n",
       "\n",
       "   balance    age  balance_age  \n",
       "0    0.000 -0.500        0.610  \n",
       "1    0.000 -0.417        0.611  \n",
       "2    0.627  0.667        0.645  \n",
       "3    0.525  0.167        0.600  \n",
       "4    0.000  0.250        0.622  "
      ]
     },
     "execution_count": 59,
     "metadata": {},
     "output_type": "execute_result"
    }
   ],
   "source": [
    "subset = Feature_Selector_rf.Subset()\n",
    "subset.head()"
   ]
  },
  {
   "cell_type": "markdown",
   "id": "288504f5",
   "metadata": {},
   "source": [
    "# 7.0. Machine Learning Modelling\n"
   ]
  },
  {
   "cell_type": "code",
   "execution_count": 60,
   "id": "cd892879",
   "metadata": {
    "ExecuteTime": {
     "end_time": "2022-02-15T15:35:15.984466Z",
     "start_time": "2022-02-15T15:35:15.975507Z"
    }
   },
   "outputs": [],
   "source": [
    "df7 = df6.copy()"
   ]
  },
  {
   "cell_type": "markdown",
   "id": "215aae5c",
   "metadata": {},
   "source": [
    "## 7.1. Logistic Regression"
   ]
  },
  {
   "cell_type": "code",
   "execution_count": 61,
   "id": "e6c99958",
   "metadata": {
    "ExecuteTime": {
     "end_time": "2022-02-15T15:35:17.375718Z",
     "start_time": "2022-02-15T15:35:15.986747Z"
    }
   },
   "outputs": [
    {
     "data": {
      "text/plain": [
       "LogisticRegression(n_jobs=-1, random_state=42)"
      ]
     },
     "execution_count": 61,
     "metadata": {},
     "output_type": "execute_result"
    }
   ],
   "source": [
    "lr = LogisticRegression(penalty='l2', dual=False, tol=0.0001, C=1.0, fit_intercept=True, intercept_scaling=1,\n",
    "                        class_weight=None, random_state=42, solver='lbfgs', max_iter=100, multi_class='auto',\n",
    "                        verbose=0, warm_start=False, n_jobs=-1, l1_ratio=None)\n",
    "lr.fit(x_train_res, y_train_res)"
   ]
  },
  {
   "cell_type": "markdown",
   "id": "5627aa4b",
   "metadata": {},
   "source": [
    "## 7.2. Random Forest"
   ]
  },
  {
   "cell_type": "code",
   "execution_count": 62,
   "id": "825ae1e0",
   "metadata": {
    "ExecuteTime": {
     "end_time": "2022-02-15T15:35:17.951722Z",
     "start_time": "2022-02-15T15:35:17.379730Z"
    }
   },
   "outputs": [
    {
     "data": {
      "text/plain": [
       "RandomForestClassifier(n_jobs=-1, random_state=42)"
      ]
     },
     "execution_count": 62,
     "metadata": {},
     "output_type": "execute_result"
    }
   ],
   "source": [
    "rf = RandomForestClassifier(n_estimators=100, criterion='gini', max_depth=None,\n",
    "                            min_samples_split=2, min_samples_leaf=1, min_weight_fraction_leaf=0.0,\n",
    "                            max_features='auto', max_leaf_nodes=None, min_impurity_decrease=0.0,\n",
    "                            bootstrap=True, oob_score=False, n_jobs=-1,\n",
    "                            random_state=42, verbose=0, warm_start=False, class_weight=None,\n",
    "                            ccp_alpha=0.0, max_samples=None)\n",
    "rf.fit(x_train_res, y_train_res)"
   ]
  },
  {
   "cell_type": "markdown",
   "id": "121b8033",
   "metadata": {},
   "source": [
    "## 7.3. Support Vector Machine - SVM"
   ]
  },
  {
   "cell_type": "code",
   "execution_count": 63,
   "id": "522628f4",
   "metadata": {
    "ExecuteTime": {
     "end_time": "2022-02-15T15:35:46.181791Z",
     "start_time": "2022-02-15T15:35:17.954077Z"
    }
   },
   "outputs": [
    {
     "data": {
      "text/plain": [
       "SVC(probability=True, random_state=42)"
      ]
     },
     "execution_count": 63,
     "metadata": {},
     "output_type": "execute_result"
    }
   ],
   "source": [
    "svm = SVC(random_state=42, probability=True)\n",
    "svm.fit(x_train_res, y_train_res)"
   ]
  },
  {
   "cell_type": "markdown",
   "id": "c05fbee6",
   "metadata": {},
   "source": [
    "## 7.4. XGBoost"
   ]
  },
  {
   "cell_type": "code",
   "execution_count": 64,
   "id": "c3a8e89b",
   "metadata": {
    "ExecuteTime": {
     "end_time": "2022-02-15T15:35:50.308817Z",
     "start_time": "2022-02-15T15:35:46.184672Z"
    },
    "scrolled": false
   },
   "outputs": [
    {
     "name": "stdout",
     "output_type": "stream",
     "text": [
      "[0]\tvalidation_0-logloss:0.55751\n",
      "[1]\tvalidation_0-logloss:0.48080\n",
      "[2]\tvalidation_0-logloss:0.42816\n",
      "[3]\tvalidation_0-logloss:0.38887\n",
      "[4]\tvalidation_0-logloss:0.35955\n",
      "[5]\tvalidation_0-logloss:0.33780\n",
      "[6]\tvalidation_0-logloss:0.32128\n",
      "[7]\tvalidation_0-logloss:0.30707\n",
      "[8]\tvalidation_0-logloss:0.29475\n",
      "[9]\tvalidation_0-logloss:0.28003\n",
      "[10]\tvalidation_0-logloss:0.26946\n",
      "[11]\tvalidation_0-logloss:0.26360\n",
      "[12]\tvalidation_0-logloss:0.25650\n",
      "[13]\tvalidation_0-logloss:0.24718\n",
      "[14]\tvalidation_0-logloss:0.23738\n",
      "[15]\tvalidation_0-logloss:0.22781\n",
      "[16]\tvalidation_0-logloss:0.22461\n",
      "[17]\tvalidation_0-logloss:0.21807\n",
      "[18]\tvalidation_0-logloss:0.21149\n",
      "[19]\tvalidation_0-logloss:0.20902\n",
      "[20]\tvalidation_0-logloss:0.20705\n",
      "[21]\tvalidation_0-logloss:0.20426\n",
      "[22]\tvalidation_0-logloss:0.20181\n",
      "[23]\tvalidation_0-logloss:0.19980\n",
      "[24]\tvalidation_0-logloss:0.19647\n",
      "[25]\tvalidation_0-logloss:0.19447\n",
      "[26]\tvalidation_0-logloss:0.19274\n",
      "[27]\tvalidation_0-logloss:0.19046\n",
      "[28]\tvalidation_0-logloss:0.18706\n",
      "[29]\tvalidation_0-logloss:0.18553\n",
      "[30]\tvalidation_0-logloss:0.18400\n",
      "[31]\tvalidation_0-logloss:0.18223\n",
      "[32]\tvalidation_0-logloss:0.18084\n",
      "[33]\tvalidation_0-logloss:0.17698\n",
      "[34]\tvalidation_0-logloss:0.17536\n",
      "[35]\tvalidation_0-logloss:0.17367\n",
      "[36]\tvalidation_0-logloss:0.17032\n",
      "[37]\tvalidation_0-logloss:0.16844\n",
      "[38]\tvalidation_0-logloss:0.16732\n",
      "[39]\tvalidation_0-logloss:0.16640\n",
      "[40]\tvalidation_0-logloss:0.16595\n",
      "[41]\tvalidation_0-logloss:0.16238\n",
      "[42]\tvalidation_0-logloss:0.16163\n",
      "[43]\tvalidation_0-logloss:0.15811\n",
      "[44]\tvalidation_0-logloss:0.15663\n",
      "[45]\tvalidation_0-logloss:0.15431\n",
      "[46]\tvalidation_0-logloss:0.15282\n",
      "[47]\tvalidation_0-logloss:0.15141\n",
      "[48]\tvalidation_0-logloss:0.14962\n",
      "[49]\tvalidation_0-logloss:0.14686\n",
      "[50]\tvalidation_0-logloss:0.14580\n",
      "[51]\tvalidation_0-logloss:0.14518\n",
      "[52]\tvalidation_0-logloss:0.14413\n",
      "[53]\tvalidation_0-logloss:0.14236\n",
      "[54]\tvalidation_0-logloss:0.14019\n",
      "[55]\tvalidation_0-logloss:0.13951\n",
      "[56]\tvalidation_0-logloss:0.13861\n",
      "[57]\tvalidation_0-logloss:0.13760\n",
      "[58]\tvalidation_0-logloss:0.13671\n",
      "[59]\tvalidation_0-logloss:0.13479\n",
      "[60]\tvalidation_0-logloss:0.13387\n",
      "[61]\tvalidation_0-logloss:0.13250\n",
      "[62]\tvalidation_0-logloss:0.13080\n",
      "[63]\tvalidation_0-logloss:0.12936\n",
      "[64]\tvalidation_0-logloss:0.12784\n",
      "[65]\tvalidation_0-logloss:0.12670\n",
      "[66]\tvalidation_0-logloss:0.12645\n",
      "[67]\tvalidation_0-logloss:0.12592\n",
      "[68]\tvalidation_0-logloss:0.12483\n",
      "[69]\tvalidation_0-logloss:0.12371\n",
      "[70]\tvalidation_0-logloss:0.12230\n",
      "[71]\tvalidation_0-logloss:0.12133\n",
      "[72]\tvalidation_0-logloss:0.12045\n",
      "[73]\tvalidation_0-logloss:0.11905\n",
      "[74]\tvalidation_0-logloss:0.11746\n",
      "[75]\tvalidation_0-logloss:0.11560\n",
      "[76]\tvalidation_0-logloss:0.11470\n",
      "[77]\tvalidation_0-logloss:0.11343\n",
      "[78]\tvalidation_0-logloss:0.11221\n",
      "[79]\tvalidation_0-logloss:0.11164\n",
      "[80]\tvalidation_0-logloss:0.11123\n",
      "[81]\tvalidation_0-logloss:0.11095\n",
      "[82]\tvalidation_0-logloss:0.11012\n",
      "[83]\tvalidation_0-logloss:0.10980\n",
      "[84]\tvalidation_0-logloss:0.10829\n",
      "[85]\tvalidation_0-logloss:0.10640\n",
      "[86]\tvalidation_0-logloss:0.10513\n",
      "[87]\tvalidation_0-logloss:0.10361\n",
      "[88]\tvalidation_0-logloss:0.10330\n",
      "[89]\tvalidation_0-logloss:0.10237\n",
      "[90]\tvalidation_0-logloss:0.10032\n",
      "[91]\tvalidation_0-logloss:0.09896\n",
      "[92]\tvalidation_0-logloss:0.09770\n",
      "[93]\tvalidation_0-logloss:0.09675\n",
      "[94]\tvalidation_0-logloss:0.09562\n",
      "[95]\tvalidation_0-logloss:0.09468\n",
      "[96]\tvalidation_0-logloss:0.09382\n",
      "[97]\tvalidation_0-logloss:0.09353\n",
      "[98]\tvalidation_0-logloss:0.09295\n",
      "[99]\tvalidation_0-logloss:0.09173\n"
     ]
    },
    {
     "data": {
      "text/plain": [
       "XGBClassifier(base_score=0.5, booster='gbtree', colsample_bylevel=1,\n",
       "              colsample_bynode=1, colsample_bytree=1, enable_categorical=False,\n",
       "              gamma=0, gpu_id=-1, importance_type=None,\n",
       "              interaction_constraints='', learning_rate=0.300000012,\n",
       "              max_delta_step=0, max_depth=6, min_child_weight=1, missing=nan,\n",
       "              monotone_constraints='()', n_estimators=100, n_jobs=12,\n",
       "              num_parallel_tree=1, predictor='auto', random_state=42,\n",
       "              reg_alpha=0, reg_lambda=1, scale_pos_weight=1, subsample=1,\n",
       "              tree_method='exact', validate_parameters=1, verbosity=None)"
      ]
     },
     "execution_count": 64,
     "metadata": {},
     "output_type": "execute_result"
    }
   ],
   "source": [
    "xgb = XGBClassifier(random_state=42)\n",
    "xgb.fit(x_train_res,y_train_res,\n",
    "        eval_metric='logloss',\n",
    "        early_stopping_rounds=10,\n",
    "        eval_set=[(x_train_res, y_train_res)],\n",
    "       )"
   ]
  },
  {
   "cell_type": "code",
   "execution_count": 65,
   "id": "ce236096",
   "metadata": {
    "ExecuteTime": {
     "end_time": "2022-02-15T15:35:50.498755Z",
     "start_time": "2022-02-15T15:35:50.310365Z"
    }
   },
   "outputs": [
    {
     "ename": "NameError",
     "evalue": "name 'models_name' is not defined",
     "output_type": "error",
     "traceback": [
      "\u001b[0;31m---------------------------------------------------------------------------\u001b[0m",
      "\u001b[0;31mNameError\u001b[0m                                 Traceback (most recent call last)",
      "\u001b[0;32m<ipython-input-65-54111657ed5b>\u001b[0m in \u001b[0;36m<module>\u001b[0;34m\u001b[0m\n\u001b[1;32m      5\u001b[0m \u001b[0mmeans\u001b[0m\u001b[0;34m=\u001b[0m\u001b[0;34m[\u001b[0m\u001b[0;34m]\u001b[0m\u001b[0;34m\u001b[0m\u001b[0;34m\u001b[0m\u001b[0m\n\u001b[1;32m      6\u001b[0m \u001b[0mstds\u001b[0m\u001b[0;34m=\u001b[0m\u001b[0;34m[\u001b[0m\u001b[0;34m]\u001b[0m\u001b[0;34m\u001b[0m\u001b[0;34m\u001b[0m\u001b[0m\n\u001b[0;32m----> 7\u001b[0;31m \u001b[0;32mfor\u001b[0m \u001b[0mmodel\u001b[0m\u001b[0;34m,\u001b[0m \u001b[0mname\u001b[0m \u001b[0;32min\u001b[0m \u001b[0mzip\u001b[0m\u001b[0;34m(\u001b[0m\u001b[0mmodels\u001b[0m\u001b[0;34m,\u001b[0m \u001b[0mmodels_name\u001b[0m\u001b[0;34m)\u001b[0m\u001b[0;34m:\u001b[0m\u001b[0;34m\u001b[0m\u001b[0;34m\u001b[0m\u001b[0m\n\u001b[0m\u001b[1;32m      8\u001b[0m     \u001b[0mpipe\u001b[0m \u001b[0;34m=\u001b[0m \u001b[0mmake_pipeline\u001b[0m\u001b[0;34m(\u001b[0m\u001b[0;34m)\u001b[0m\u001b[0;34m\u001b[0m\u001b[0;34m\u001b[0m\u001b[0m\n\u001b[1;32m      9\u001b[0m \u001b[0;34m\u001b[0m\u001b[0m\n",
      "\u001b[0;31mNameError\u001b[0m: name 'models_name' is not defined"
     ]
    }
   ],
   "source": [
    "models  = [lr,rf,svm,xgb]\n",
    "models_names = ['logistic Regression',' Random Forest', 'SVM' , 'XGBoost']\n",
    "scoring = 'recall'\n",
    "\n",
    "means=[]\n",
    "stds=[]\n",
    "for model, name in zip(models, models_name):\n",
    "    pipe = make_pipeline()\n",
    "    "
   ]
  },
  {
   "cell_type": "markdown",
   "id": "b8595003",
   "metadata": {},
   "source": [
    "# 8.0. Performance Metrics\n"
   ]
  },
  {
   "cell_type": "code",
   "execution_count": 66,
   "id": "3ccc7bf4",
   "metadata": {
    "ExecuteTime": {
     "end_time": "2022-02-15T15:36:17.881427Z",
     "start_time": "2022-02-15T15:36:17.877518Z"
    }
   },
   "outputs": [],
   "source": [
    "df8 = df7.copy()"
   ]
  },
  {
   "cell_type": "markdown",
   "id": "59d7e035",
   "metadata": {},
   "source": [
    "## 8.1. Confusion Matrix"
   ]
  },
  {
   "cell_type": "code",
   "execution_count": 67,
   "id": "81f4f7f4",
   "metadata": {
    "ExecuteTime": {
     "end_time": "2022-02-15T15:36:22.421011Z",
     "start_time": "2022-02-15T15:36:18.911032Z"
    },
    "scrolled": true
   },
   "outputs": [
    {
     "data": {
      "image/png": "[encoded data removed]",
      "text/plain": [
       "<Figure size 1080x720 with 4 Axes>"
      ]
     },
     "metadata": {},
     "output_type": "display_data"
    }
   ],
   "source": [
    "fig, axes = plt.subplots(2, 2, figsize=(15,10))\n",
    "\n",
    "fig.suptitle('Model Comparasion')\n",
    "\n",
    "cm_viz = ConfusionMatrix(lr,  classes=['not churn', 'churn'], support=True, cmap='YlGnBu', ax=axes[0][0])\n",
    "cm_viz.fit(x_train_res, x_train_res)  \n",
    "cm_viz.score(x_test, y_test)\n",
    "cm_viz.finalize()\n",
    "\n",
    "cm_viz = ConfusionMatrix(svm,  classes=['not churn', 'churn'], support=True, cmap='YlGnBu', ax=axes[0][1])\n",
    "cm_viz.fit(x_train_res, x_train_res)  \n",
    "cm_viz.score(x_test, y_test)\n",
    "cm_viz.finalize()\n",
    "\n",
    "cm_viz = ConfusionMatrix(rf,  classes=['not churn', 'churn'], support=True, cmap='YlGnBu', ax=axes[1][0])\n",
    "cm_viz.fit(x_train_res, x_train_res)  \n",
    "cm_viz.score(x_test, y_test)\n",
    "cm_viz.finalize()\n",
    "\n",
    "cm_viz = ConfusionMatrix(xgb,  classes=['not churn', 'churn'], support=True, cmap='YlGnBu', ax=axes[1][1])\n",
    "cm_viz.fit(x_train_res, x_train_res)  \n",
    "cm_viz.score(x_test, y_test)\n",
    "cm_viz.finalize()\n",
    "\n"
   ]
  },
  {
   "cell_type": "markdown",
   "id": "5e0927ee",
   "metadata": {},
   "source": [
    "## 8.2. Lift curve"
   ]
  },
  {
   "cell_type": "code",
   "execution_count": null,
   "id": "43e75ea8",
   "metadata": {},
   "outputs": [],
   "source": []
  },
  {
   "cell_type": "code",
   "execution_count": null,
   "id": "d9642901",
   "metadata": {},
   "outputs": [],
   "source": []
  },
  {
   "cell_type": "code",
   "execution_count": null,
   "id": "edc9ea95",
   "metadata": {},
   "outputs": [],
   "source": []
  },
  {
   "cell_type": "code",
   "execution_count": null,
   "id": "2250dbec",
   "metadata": {},
   "outputs": [],
   "source": []
  },
  {
   "cell_type": "code",
   "execution_count": null,
   "id": "cde84d7f",
   "metadata": {},
   "outputs": [],
   "source": []
  },
  {
   "cell_type": "markdown",
   "id": "2b75aab4",
   "metadata": {},
   "source": [
    "## 8.3. Acumulative curve"
   ]
  },
  {
   "cell_type": "code",
   "execution_count": null,
   "id": "a0fb9e45",
   "metadata": {},
   "outputs": [],
   "source": []
  },
  {
   "cell_type": "code",
   "execution_count": null,
   "id": "a3ae70c5",
   "metadata": {},
   "outputs": [],
   "source": []
  },
  {
   "cell_type": "code",
   "execution_count": null,
   "id": "aa287bc6",
   "metadata": {},
   "outputs": [],
   "source": []
  },
  {
   "cell_type": "code",
   "execution_count": null,
   "id": "3645fce6",
   "metadata": {},
   "outputs": [],
   "source": []
  }
 ],
 "metadata": {
  "kernelspec": {
   "display_name": "Python 3",
   "language": "python",
   "name": "python3"
  },
  "language_info": {
   "codemirror_mode": {
    "name": "ipython",
    "version": 3
   },
   "file_extension": ".py",
   "mimetype": "text/x-python",
   "name": "python",
   "nbconvert_exporter": "python",
   "pygments_lexer": "ipython3",
   "version": "3.8.12"
  },
  "toc": {
   "base_numbering": 1,
   "nav_menu": {},
   "number_sections": false,
   "sideBar": true,
   "skip_h1_title": false,
   "title_cell": "Table of Contents",
   "title_sidebar": "Contents",
   "toc_cell": false,
   "toc_position": {
    "height": "calc(100% - 180px)",
    "left": "10px",
    "top": "150px",
    "width": "384px"
   },
   "toc_section_display": true,
   "toc_window_display": false
  },
  "varInspector": {
   "cols": {
    "lenName": 16,
    "lenType": 16,
    "lenVar": 40
   },
   "kernels_config": {
    "python": {
     "delete_cmd_postfix": "",
     "delete_cmd_prefix": "del ",
     "library": "var_list.py",
     "varRefreshCmd": "print(var_dic_list())"
    },
    "r": {
     "delete_cmd_postfix": ") ",
     "delete_cmd_prefix": "rm(",
     "library": "var_list.r",
     "varRefreshCmd": "cat(var_dic_list()) "
    }
   },
   "types_to_exclude": [
    "module",
    "function",
    "builtin_function_or_method",
    "instance",
    "_Feature"
   ],
   "window_display": false
  }
 },
 "nbformat": 4,
 "nbformat_minor": 5
}
