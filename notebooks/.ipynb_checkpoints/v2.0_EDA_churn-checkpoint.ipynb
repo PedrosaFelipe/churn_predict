{
 "cells": [
  {
   "cell_type": "markdown",
   "id": "c13a238e",
   "metadata": {
    "heading_collapsed": true
   },
   "source": [
    "# PA003: Churn Predict"
   ]
  },
  {
   "cell_type": "markdown",
   "id": "d41931f2",
   "metadata": {
    "heading_collapsed": true
   },
   "source": [
    "# 0.0 Import"
   ]
  },
  {
   "cell_type": "code",
   "execution_count": 55,
   "id": "49d71406",
   "metadata": {
    "ExecuteTime": {
     "end_time": "2022-02-02T00:11:39.355390Z",
     "start_time": "2022-02-02T00:11:39.349592Z"
    },
    "hidden": true
   },
   "outputs": [],
   "source": [
    "import pandas as pd\n",
    "import numpy as np\n",
    "import seaborn as sns\n",
    "import matplotlib.pyplot as plt\n",
    "import inflection\n",
    "\n",
    "from IPython.core.display          import HTML\n",
    "from scipy.stats import shapiro, chi2_contingency\n",
    "\n",
    "\n",
    "\n",
    "import warnings\n",
    "\n",
    "warnings.filterwarnings(\"ignore\")"
   ]
  },
  {
   "cell_type": "markdown",
   "id": "8f52a5bd",
   "metadata": {
    "hidden": true
   },
   "source": [
    "## 0.1.Helper function"
   ]
  },
  {
   "cell_type": "code",
   "execution_count": 56,
   "id": "a340dc5b",
   "metadata": {
    "ExecuteTime": {
     "end_time": "2022-02-02T00:11:39.372017Z",
     "start_time": "2022-02-02T00:11:39.357512Z"
    },
    "hidden": true
   },
   "outputs": [
    {
     "data": {
      "text/html": [
       "<style>.container{width:100% !important;}</style>"
      ],
      "text/plain": [
       "<IPython.core.display.HTML object>"
      ]
     },
     "metadata": {},
     "output_type": "display_data"
    }
   ],
   "source": [
    "def my_settings():\n",
    "    %matplotlib inline\n",
    "    \n",
    "    # plotly settings\n",
    "    plt.style.use( 'ggplot' )\n",
    "    plt.rcParams['figure.figsize'] = [25, 12]\n",
    "    plt.rcParams['font.size'] = 8\n",
    " \n",
    "    # notebook settings\n",
    "    display(HTML('<style>.container{width:100% !important;}</style>'))\n",
    "    np.set_printoptions(suppress=True)\n",
    "    pd.set_option('display.float_format', '{:.8f}'.format)\n",
    "    \n",
    "    # seaborn settings\n",
    "    sns.set(rc={'figure.figsize':(25,12)})\n",
    "    sns.set_theme(style = 'darkgrid', font_scale = 1)\n",
    "my_settings()"
   ]
  },
  {
   "cell_type": "code",
   "execution_count": 57,
   "id": "510e6cb0",
   "metadata": {
    "ExecuteTime": {
     "end_time": "2022-02-02T00:11:39.379385Z",
     "start_time": "2022-02-02T00:11:39.374160Z"
    },
    "hidden": true
   },
   "outputs": [],
   "source": [
    " def numerical_descriptive_statistical(num_attributes):\n",
    "    # Central Tendency - Mean, Median\n",
    "    ct1 = pd.DataFrame(num_attributes.apply(np.mean)).T\n",
    "    ct2 = pd.DataFrame(num_attributes.apply(np.median)).T\n",
    "\n",
    "    # Dispersion - std, min, max, range, skew, kurtosis, Shapiro-Wilk Test\n",
    "    d1 = pd.DataFrame(num_attributes.apply(np.std)).T\n",
    "    d2 = pd.DataFrame(num_attributes.apply(min)).T\n",
    "    d3 = pd.DataFrame(num_attributes.apply(max)).T\n",
    "    d4 = pd.DataFrame(num_attributes.apply(lambda x: x.max() - x.min())).T\n",
    "    d5 = pd.DataFrame(num_attributes.apply(lambda x: x.skew())).T\n",
    "    d6 = pd.DataFrame(num_attributes.apply(lambda x: x.kurtosis())).T\n",
    "    d7 = pd.DataFrame(num_attributes.apply(lambda x: 'not normal' if shapiro(x.sample(5000))[1] < 0.05 else 'normal')).T\n",
    "\n",
    "    # concatenate\n",
    "    m = pd.concat([d2, d3, d4, ct1, ct2, d1, d5, d6, d7]).T.reset_index()\n",
    "    m.columns = ['attributes', 'min', 'max', 'range', 'mean', 'median', 'std', 'skew', 'kurtosis', 'shapiro']\n",
    "    return m"
   ]
  },
  {
   "cell_type": "markdown",
   "id": "8e8922ee",
   "metadata": {
    "hidden": true
   },
   "source": [
    "## 0.2. Loading Data"
   ]
  },
  {
   "cell_type": "code",
   "execution_count": 58,
   "id": "d9f5837c",
   "metadata": {
    "ExecuteTime": {
     "end_time": "2022-02-02T00:11:39.432915Z",
     "start_time": "2022-02-02T00:11:39.381117Z"
    },
    "hidden": true
   },
   "outputs": [],
   "source": [
    "df_raw = pd.read_csv(r'~/repositorio/churn_predict/data/raw/churn.csv')"
   ]
  },
  {
   "cell_type": "code",
   "execution_count": 59,
   "id": "c6612578",
   "metadata": {
    "ExecuteTime": {
     "end_time": "2022-02-02T00:11:39.450387Z",
     "start_time": "2022-02-02T00:11:39.434953Z"
    },
    "hidden": true
   },
   "outputs": [
    {
     "data": {
      "text/html": [
       "<div>\n",
       "<style scoped>\n",
       "    .dataframe tbody tr th:only-of-type {\n",
       "        vertical-align: middle;\n",
       "    }\n",
       "\n",
       "    .dataframe tbody tr th {\n",
       "        vertical-align: top;\n",
       "    }\n",
       "\n",
       "    .dataframe thead th {\n",
       "        text-align: right;\n",
       "    }\n",
       "</style>\n",
       "<table border=\"1\" class=\"dataframe\">\n",
       "  <thead>\n",
       "    <tr style=\"text-align: right;\">\n",
       "      <th></th>\n",
       "      <th>RowNumber</th>\n",
       "      <th>CustomerId</th>\n",
       "      <th>Surname</th>\n",
       "      <th>CreditScore</th>\n",
       "      <th>Geography</th>\n",
       "      <th>Gender</th>\n",
       "      <th>Age</th>\n",
       "      <th>Tenure</th>\n",
       "      <th>Balance</th>\n",
       "      <th>NumOfProducts</th>\n",
       "      <th>HasCrCard</th>\n",
       "      <th>IsActiveMember</th>\n",
       "      <th>EstimatedSalary</th>\n",
       "      <th>Exited</th>\n",
       "    </tr>\n",
       "  </thead>\n",
       "  <tbody>\n",
       "    <tr>\n",
       "      <th>0</th>\n",
       "      <td>1</td>\n",
       "      <td>15634602</td>\n",
       "      <td>Hargrave</td>\n",
       "      <td>619</td>\n",
       "      <td>France</td>\n",
       "      <td>Female</td>\n",
       "      <td>42</td>\n",
       "      <td>2</td>\n",
       "      <td>0.00000000</td>\n",
       "      <td>1</td>\n",
       "      <td>1</td>\n",
       "      <td>1</td>\n",
       "      <td>101348.88000000</td>\n",
       "      <td>1</td>\n",
       "    </tr>\n",
       "    <tr>\n",
       "      <th>1</th>\n",
       "      <td>2</td>\n",
       "      <td>15647311</td>\n",
       "      <td>Hill</td>\n",
       "      <td>608</td>\n",
       "      <td>Spain</td>\n",
       "      <td>Female</td>\n",
       "      <td>41</td>\n",
       "      <td>1</td>\n",
       "      <td>83807.86000000</td>\n",
       "      <td>1</td>\n",
       "      <td>0</td>\n",
       "      <td>1</td>\n",
       "      <td>112542.58000000</td>\n",
       "      <td>0</td>\n",
       "    </tr>\n",
       "    <tr>\n",
       "      <th>2</th>\n",
       "      <td>3</td>\n",
       "      <td>15619304</td>\n",
       "      <td>Onio</td>\n",
       "      <td>502</td>\n",
       "      <td>France</td>\n",
       "      <td>Female</td>\n",
       "      <td>42</td>\n",
       "      <td>8</td>\n",
       "      <td>159660.80000000</td>\n",
       "      <td>3</td>\n",
       "      <td>1</td>\n",
       "      <td>0</td>\n",
       "      <td>113931.57000000</td>\n",
       "      <td>1</td>\n",
       "    </tr>\n",
       "    <tr>\n",
       "      <th>3</th>\n",
       "      <td>4</td>\n",
       "      <td>15701354</td>\n",
       "      <td>Boni</td>\n",
       "      <td>699</td>\n",
       "      <td>France</td>\n",
       "      <td>Female</td>\n",
       "      <td>39</td>\n",
       "      <td>1</td>\n",
       "      <td>0.00000000</td>\n",
       "      <td>2</td>\n",
       "      <td>0</td>\n",
       "      <td>0</td>\n",
       "      <td>93826.63000000</td>\n",
       "      <td>0</td>\n",
       "    </tr>\n",
       "    <tr>\n",
       "      <th>4</th>\n",
       "      <td>5</td>\n",
       "      <td>15737888</td>\n",
       "      <td>Mitchell</td>\n",
       "      <td>850</td>\n",
       "      <td>Spain</td>\n",
       "      <td>Female</td>\n",
       "      <td>43</td>\n",
       "      <td>2</td>\n",
       "      <td>125510.82000000</td>\n",
       "      <td>1</td>\n",
       "      <td>1</td>\n",
       "      <td>1</td>\n",
       "      <td>79084.10000000</td>\n",
       "      <td>0</td>\n",
       "    </tr>\n",
       "  </tbody>\n",
       "</table>\n",
       "</div>"
      ],
      "text/plain": [
       "   RowNumber  CustomerId   Surname  CreditScore Geography  Gender  Age  \\\n",
       "0          1    15634602  Hargrave          619    France  Female   42   \n",
       "1          2    15647311      Hill          608     Spain  Female   41   \n",
       "2          3    15619304      Onio          502    France  Female   42   \n",
       "3          4    15701354      Boni          699    France  Female   39   \n",
       "4          5    15737888  Mitchell          850     Spain  Female   43   \n",
       "\n",
       "   Tenure         Balance  NumOfProducts  HasCrCard  IsActiveMember  \\\n",
       "0       2      0.00000000              1          1               1   \n",
       "1       1  83807.86000000              1          0               1   \n",
       "2       8 159660.80000000              3          1               0   \n",
       "3       1      0.00000000              2          0               0   \n",
       "4       2 125510.82000000              1          1               1   \n",
       "\n",
       "   EstimatedSalary  Exited  \n",
       "0  101348.88000000       1  \n",
       "1  112542.58000000       0  \n",
       "2  113931.57000000       1  \n",
       "3   93826.63000000       0  \n",
       "4   79084.10000000       0  "
      ]
     },
     "execution_count": 59,
     "metadata": {},
     "output_type": "execute_result"
    }
   ],
   "source": [
    "df_raw.head()"
   ]
  },
  {
   "cell_type": "markdown",
   "id": "ef7f405a",
   "metadata": {},
   "source": [
    "# 1.0. Data Description\n"
   ]
  },
  {
   "cell_type": "code",
   "execution_count": 60,
   "id": "cce6a145",
   "metadata": {
    "ExecuteTime": {
     "end_time": "2022-02-02T00:11:39.459711Z",
     "start_time": "2022-02-02T00:11:39.451987Z"
    }
   },
   "outputs": [],
   "source": [
    "df1 = df_raw.copy()"
   ]
  },
  {
   "cell_type": "code",
   "execution_count": 61,
   "id": "21fe53fc",
   "metadata": {
    "ExecuteTime": {
     "end_time": "2022-02-02T00:11:39.470647Z",
     "start_time": "2022-02-02T00:11:39.461240Z"
    },
    "scrolled": true
   },
   "outputs": [
    {
     "data": {
      "text/plain": [
       "Index(['RowNumber', 'CustomerId', 'Surname', 'CreditScore', 'Geography',\n",
       "       'Gender', 'Age', 'Tenure', 'Balance', 'NumOfProducts', 'HasCrCard',\n",
       "       'IsActiveMember', 'EstimatedSalary', 'Exited'],\n",
       "      dtype='object')"
      ]
     },
     "execution_count": 61,
     "metadata": {},
     "output_type": "execute_result"
    }
   ],
   "source": [
    "df1.columns"
   ]
  },
  {
   "cell_type": "markdown",
   "id": "f7de1102",
   "metadata": {},
   "source": [
    "## 1.1 Rename Columns"
   ]
  },
  {
   "cell_type": "code",
   "execution_count": 62,
   "id": "7b34e5d7",
   "metadata": {
    "ExecuteTime": {
     "end_time": "2022-02-02T00:11:39.478936Z",
     "start_time": "2022-02-02T00:11:39.473814Z"
    }
   },
   "outputs": [],
   "source": [
    "old_columns=list(df1.columns)\n",
    "\n",
    "snakecase = lambda x : inflection.underscore(x)\n",
    "new_columns = map(snakecase , old_columns)\n",
    "\n",
    "# rename columns\n",
    "df1.columns = new_columns\n"
   ]
  },
  {
   "cell_type": "markdown",
   "id": "2ba5317e",
   "metadata": {},
   "source": [
    "## 1.2. Data Dimensions"
   ]
  },
  {
   "cell_type": "code",
   "execution_count": 63,
   "id": "fad81153",
   "metadata": {
    "ExecuteTime": {
     "end_time": "2022-02-02T00:11:39.490261Z",
     "start_time": "2022-02-02T00:11:39.480645Z"
    }
   },
   "outputs": [
    {
     "name": "stdout",
     "output_type": "stream",
     "text": [
      "Numbers of rows: 10000\n",
      "Numbers of cols: 14\n"
     ]
    }
   ],
   "source": [
    "print('Numbers of rows: {}'.format(df1.shape[0]))\n",
    "print('Numbers of cols: {}'.format(df1.shape[1]))"
   ]
  },
  {
   "cell_type": "markdown",
   "id": "88488ce3",
   "metadata": {},
   "source": [
    "## 1.3. Data Types"
   ]
  },
  {
   "cell_type": "code",
   "execution_count": 64,
   "id": "7b6af794",
   "metadata": {
    "ExecuteTime": {
     "end_time": "2022-02-02T00:11:39.506684Z",
     "start_time": "2022-02-02T00:11:39.491920Z"
    },
    "scrolled": true
   },
   "outputs": [
    {
     "data": {
      "text/plain": [
       "row_number            int64\n",
       "customer_id           int64\n",
       "surname              object\n",
       "credit_score          int64\n",
       "geography            object\n",
       "gender               object\n",
       "age                   int64\n",
       "tenure                int64\n",
       "balance             float64\n",
       "num_of_products       int64\n",
       "has_cr_card           int64\n",
       "is_active_member      int64\n",
       "estimated_salary    float64\n",
       "exited                int64\n",
       "dtype: object"
      ]
     },
     "execution_count": 64,
     "metadata": {},
     "output_type": "execute_result"
    }
   ],
   "source": [
    "df1.dtypes"
   ]
  },
  {
   "cell_type": "markdown",
   "id": "e94a54d8",
   "metadata": {},
   "source": [
    "### 1.3.1. Change Data Types"
   ]
  },
  {
   "cell_type": "code",
   "execution_count": 65,
   "id": "62dc781a",
   "metadata": {
    "ExecuteTime": {
     "end_time": "2022-02-02T00:11:39.518842Z",
     "start_time": "2022-02-02T00:11:39.508975Z"
    }
   },
   "outputs": [],
   "source": [
    "# df1.exited = df1.exited.astype('bool')\n",
    "df1.has_cr_card = df1.has_cr_card.astype('bool')\n",
    "df1.is_active_member= df1.is_active_member.astype('bool')"
   ]
  },
  {
   "cell_type": "markdown",
   "id": "263b23b4",
   "metadata": {},
   "source": [
    "### 1.3.2. Check unique values"
   ]
  },
  {
   "cell_type": "code",
   "execution_count": 66,
   "id": "30e6e662",
   "metadata": {
    "ExecuteTime": {
     "end_time": "2022-02-02T00:11:39.538742Z",
     "start_time": "2022-02-02T00:11:39.520338Z"
    },
    "scrolled": true
   },
   "outputs": [
    {
     "data": {
      "text/plain": [
       "row_number          10000\n",
       "customer_id         10000\n",
       "surname              2932\n",
       "credit_score          460\n",
       "geography               3\n",
       "gender                  2\n",
       "age                    70\n",
       "tenure                 11\n",
       "balance              6382\n",
       "num_of_products         4\n",
       "has_cr_card             2\n",
       "is_active_member        2\n",
       "estimated_salary     9999\n",
       "exited                  2\n",
       "dtype: int64"
      ]
     },
     "execution_count": 66,
     "metadata": {},
     "output_type": "execute_result"
    }
   ],
   "source": [
    "df1.nunique()"
   ]
  },
  {
   "cell_type": "markdown",
   "id": "5c4c1d0b",
   "metadata": {},
   "source": [
    "### 1.3.3. Remove Variables"
   ]
  },
  {
   "cell_type": "code",
   "execution_count": 67,
   "id": "bacb70d3",
   "metadata": {
    "ExecuteTime": {
     "end_time": "2022-02-02T00:11:39.544778Z",
     "start_time": "2022-02-02T00:11:39.540232Z"
    }
   },
   "outputs": [],
   "source": [
    "cols_drop = ['row_number', 'surname', 'customer_id']\n",
    "df1 = df1.drop(cols_drop , axis = 1)"
   ]
  },
  {
   "cell_type": "markdown",
   "id": "f383f436",
   "metadata": {},
   "source": [
    "## 1.4. Check NA"
   ]
  },
  {
   "cell_type": "code",
   "execution_count": 68,
   "id": "5623c870",
   "metadata": {
    "ExecuteTime": {
     "end_time": "2022-02-02T00:11:39.555796Z",
     "start_time": "2022-02-02T00:11:39.546273Z"
    },
    "scrolled": true
   },
   "outputs": [
    {
     "data": {
      "text/plain": [
       "credit_score        0\n",
       "geography           0\n",
       "gender              0\n",
       "age                 0\n",
       "tenure              0\n",
       "balance             0\n",
       "num_of_products     0\n",
       "has_cr_card         0\n",
       "is_active_member    0\n",
       "estimated_salary    0\n",
       "exited              0\n",
       "dtype: int64"
      ]
     },
     "execution_count": 68,
     "metadata": {},
     "output_type": "execute_result"
    }
   ],
   "source": [
    "df1.isna().sum()"
   ]
  },
  {
   "cell_type": "markdown",
   "id": "a7859bed",
   "metadata": {},
   "source": [
    "## 1.5. Data Descriptive"
   ]
  },
  {
   "cell_type": "code",
   "execution_count": 69,
   "id": "c2889fbb",
   "metadata": {
    "ExecuteTime": {
     "end_time": "2022-02-02T00:11:39.563873Z",
     "start_time": "2022-02-02T00:11:39.557168Z"
    }
   },
   "outputs": [],
   "source": [
    "num_attributes = df1.select_dtypes(include=['int64', 'float64'])\n",
    "cat_attributes = df1.select_dtypes(exclude=['int64', 'float64','bool'])"
   ]
  },
  {
   "cell_type": "markdown",
   "id": "8895244f",
   "metadata": {},
   "source": [
    "### 1.5.1 Numerical Attributes\n"
   ]
  },
  {
   "cell_type": "code",
   "execution_count": 70,
   "id": "ec8c6255",
   "metadata": {
    "ExecuteTime": {
     "end_time": "2022-02-02T00:11:39.610603Z",
     "start_time": "2022-02-02T00:11:39.565497Z"
    }
   },
   "outputs": [
    {
     "data": {
      "text/html": [
       "<div>\n",
       "<style scoped>\n",
       "    .dataframe tbody tr th:only-of-type {\n",
       "        vertical-align: middle;\n",
       "    }\n",
       "\n",
       "    .dataframe tbody tr th {\n",
       "        vertical-align: top;\n",
       "    }\n",
       "\n",
       "    .dataframe thead th {\n",
       "        text-align: right;\n",
       "    }\n",
       "</style>\n",
       "<table border=\"1\" class=\"dataframe\">\n",
       "  <thead>\n",
       "    <tr style=\"text-align: right;\">\n",
       "      <th></th>\n",
       "      <th>attributes</th>\n",
       "      <th>min</th>\n",
       "      <th>max</th>\n",
       "      <th>range</th>\n",
       "      <th>mean</th>\n",
       "      <th>median</th>\n",
       "      <th>std</th>\n",
       "      <th>skew</th>\n",
       "      <th>kurtosis</th>\n",
       "      <th>shapiro</th>\n",
       "    </tr>\n",
       "  </thead>\n",
       "  <tbody>\n",
       "    <tr>\n",
       "      <th>0</th>\n",
       "      <td>credit_score</td>\n",
       "      <td>350.0</td>\n",
       "      <td>850.0</td>\n",
       "      <td>500.0</td>\n",
       "      <td>650.5288</td>\n",
       "      <td>652.0</td>\n",
       "      <td>96.64846595</td>\n",
       "      <td>-0.07160661</td>\n",
       "      <td>-0.42572568</td>\n",
       "      <td>not normal</td>\n",
       "    </tr>\n",
       "    <tr>\n",
       "      <th>1</th>\n",
       "      <td>age</td>\n",
       "      <td>18.0</td>\n",
       "      <td>92.0</td>\n",
       "      <td>74.0</td>\n",
       "      <td>38.9218</td>\n",
       "      <td>37.0</td>\n",
       "      <td>10.48728205</td>\n",
       "      <td>1.01132026</td>\n",
       "      <td>1.39534706</td>\n",
       "      <td>not normal</td>\n",
       "    </tr>\n",
       "    <tr>\n",
       "      <th>2</th>\n",
       "      <td>tenure</td>\n",
       "      <td>0.0</td>\n",
       "      <td>10.0</td>\n",
       "      <td>10.0</td>\n",
       "      <td>5.0128</td>\n",
       "      <td>5.0</td>\n",
       "      <td>2.89202976</td>\n",
       "      <td>0.01099146</td>\n",
       "      <td>-1.16522523</td>\n",
       "      <td>not normal</td>\n",
       "    </tr>\n",
       "    <tr>\n",
       "      <th>3</th>\n",
       "      <td>balance</td>\n",
       "      <td>0.0</td>\n",
       "      <td>250898.09</td>\n",
       "      <td>250898.09</td>\n",
       "      <td>76485.889288</td>\n",
       "      <td>97198.54</td>\n",
       "      <td>62394.28525413</td>\n",
       "      <td>-0.14110871</td>\n",
       "      <td>-1.48941177</td>\n",
       "      <td>not normal</td>\n",
       "    </tr>\n",
       "    <tr>\n",
       "      <th>4</th>\n",
       "      <td>num_of_products</td>\n",
       "      <td>1.0</td>\n",
       "      <td>4.0</td>\n",
       "      <td>3.0</td>\n",
       "      <td>1.5302</td>\n",
       "      <td>1.0</td>\n",
       "      <td>0.58162527</td>\n",
       "      <td>0.74556789</td>\n",
       "      <td>0.58298076</td>\n",
       "      <td>not normal</td>\n",
       "    </tr>\n",
       "    <tr>\n",
       "      <th>5</th>\n",
       "      <td>estimated_salary</td>\n",
       "      <td>11.58</td>\n",
       "      <td>199992.48</td>\n",
       "      <td>199980.9</td>\n",
       "      <td>100090.239881</td>\n",
       "      <td>100193.915</td>\n",
       "      <td>57507.61722117</td>\n",
       "      <td>0.00208536</td>\n",
       "      <td>-1.18151845</td>\n",
       "      <td>not normal</td>\n",
       "    </tr>\n",
       "    <tr>\n",
       "      <th>6</th>\n",
       "      <td>exited</td>\n",
       "      <td>0.0</td>\n",
       "      <td>1.0</td>\n",
       "      <td>1.0</td>\n",
       "      <td>0.2037</td>\n",
       "      <td>0.0</td>\n",
       "      <td>0.40274845</td>\n",
       "      <td>1.47161066</td>\n",
       "      <td>0.16567104</td>\n",
       "      <td>not normal</td>\n",
       "    </tr>\n",
       "  </tbody>\n",
       "</table>\n",
       "</div>"
      ],
      "text/plain": [
       "         attributes   min       max     range          mean     median  \\\n",
       "0      credit_score 350.0     850.0     500.0      650.5288      652.0   \n",
       "1               age  18.0      92.0      74.0       38.9218       37.0   \n",
       "2            tenure   0.0      10.0      10.0        5.0128        5.0   \n",
       "3           balance   0.0 250898.09 250898.09  76485.889288   97198.54   \n",
       "4   num_of_products   1.0       4.0       3.0        1.5302        1.0   \n",
       "5  estimated_salary 11.58 199992.48  199980.9 100090.239881 100193.915   \n",
       "6            exited   0.0       1.0       1.0        0.2037        0.0   \n",
       "\n",
       "             std        skew    kurtosis     shapiro  \n",
       "0    96.64846595 -0.07160661 -0.42572568  not normal  \n",
       "1    10.48728205  1.01132026  1.39534706  not normal  \n",
       "2     2.89202976  0.01099146 -1.16522523  not normal  \n",
       "3 62394.28525413 -0.14110871 -1.48941177  not normal  \n",
       "4     0.58162527  0.74556789  0.58298076  not normal  \n",
       "5 57507.61722117  0.00208536 -1.18151845  not normal  \n",
       "6     0.40274845  1.47161066  0.16567104  not normal  "
      ]
     },
     "execution_count": 70,
     "metadata": {},
     "output_type": "execute_result"
    }
   ],
   "source": [
    "m = numerical_descriptive_statistical(num_attributes)\n",
    "m"
   ]
  },
  {
   "cell_type": "markdown",
   "id": "032dbd70",
   "metadata": {
    "heading_collapsed": true
   },
   "source": [
    "# 2.0. Feature Engineering\n"
   ]
  },
  {
   "cell_type": "code",
   "execution_count": 71,
   "id": "2d020bbb",
   "metadata": {
    "ExecuteTime": {
     "end_time": "2022-02-02T00:11:39.615558Z",
     "start_time": "2022-02-02T00:11:39.612363Z"
    },
    "hidden": true
   },
   "outputs": [],
   "source": [
    "df2 = df1.copy()"
   ]
  },
  {
   "cell_type": "code",
   "execution_count": null,
   "id": "01467c8e",
   "metadata": {
    "hidden": true
   },
   "outputs": [],
   "source": []
  },
  {
   "cell_type": "markdown",
   "id": "e33118bd",
   "metadata": {
    "heading_collapsed": true
   },
   "source": [
    "# 3.0. Data Filtering\n"
   ]
  },
  {
   "cell_type": "code",
   "execution_count": 72,
   "id": "88cb0d1d",
   "metadata": {
    "ExecuteTime": {
     "end_time": "2022-02-02T00:11:39.624283Z",
     "start_time": "2022-02-02T00:11:39.617262Z"
    },
    "hidden": true
   },
   "outputs": [],
   "source": [
    "df3 = df2.copy()"
   ]
  },
  {
   "cell_type": "code",
   "execution_count": null,
   "id": "0d63d597",
   "metadata": {
    "hidden": true
   },
   "outputs": [],
   "source": []
  },
  {
   "cell_type": "markdown",
   "id": "12bb7cce",
   "metadata": {
    "heading_collapsed": true
   },
   "source": [
    "# 4.0. Exploratoria Data Analysis (EDA)\n"
   ]
  },
  {
   "cell_type": "code",
   "execution_count": 73,
   "id": "f4a27579",
   "metadata": {
    "ExecuteTime": {
     "end_time": "2022-02-02T00:11:39.633468Z",
     "start_time": "2022-02-02T00:11:39.625754Z"
    },
    "hidden": true
   },
   "outputs": [],
   "source": [
    "df4 = df3.copy()"
   ]
  },
  {
   "cell_type": "code",
   "execution_count": null,
   "id": "52a414a6",
   "metadata": {
    "hidden": true
   },
   "outputs": [],
   "source": []
  },
  {
   "cell_type": "markdown",
   "id": "45be06b4",
   "metadata": {
    "heading_collapsed": true
   },
   "source": [
    "# 5.0. Data Preparation\n"
   ]
  },
  {
   "cell_type": "code",
   "execution_count": 74,
   "id": "4e691ad5",
   "metadata": {
    "ExecuteTime": {
     "end_time": "2022-02-02T00:11:39.640092Z",
     "start_time": "2022-02-02T00:11:39.634872Z"
    },
    "hidden": true
   },
   "outputs": [],
   "source": [
    "df5 = df4.copy()"
   ]
  },
  {
   "cell_type": "code",
   "execution_count": null,
   "id": "9df93424",
   "metadata": {
    "hidden": true
   },
   "outputs": [],
   "source": []
  },
  {
   "cell_type": "markdown",
   "id": "71284103",
   "metadata": {
    "heading_collapsed": true
   },
   "source": [
    "# 6.0. Feature Selection\n"
   ]
  },
  {
   "cell_type": "code",
   "execution_count": 75,
   "id": "c6dfbc52",
   "metadata": {
    "ExecuteTime": {
     "end_time": "2022-02-02T00:11:39.648360Z",
     "start_time": "2022-02-02T00:11:39.641429Z"
    },
    "hidden": true
   },
   "outputs": [],
   "source": [
    "df6 = df5.copy()"
   ]
  },
  {
   "cell_type": "code",
   "execution_count": null,
   "id": "487008b9",
   "metadata": {
    "hidden": true
   },
   "outputs": [],
   "source": []
  },
  {
   "cell_type": "markdown",
   "id": "288504f5",
   "metadata": {
    "heading_collapsed": true
   },
   "source": [
    "# 7.0. Machine Learning Modelling\n"
   ]
  },
  {
   "cell_type": "code",
   "execution_count": 76,
   "id": "cd892879",
   "metadata": {
    "ExecuteTime": {
     "end_time": "2022-02-02T00:11:39.654996Z",
     "start_time": "2022-02-02T00:11:39.649939Z"
    },
    "hidden": true
   },
   "outputs": [],
   "source": [
    "df7 = df6.copy()"
   ]
  },
  {
   "cell_type": "code",
   "execution_count": null,
   "id": "e6c99958",
   "metadata": {
    "hidden": true
   },
   "outputs": [],
   "source": []
  },
  {
   "cell_type": "markdown",
   "id": "b8595003",
   "metadata": {
    "heading_collapsed": true
   },
   "source": [
    "# 8.0. Performance Metrics\n"
   ]
  },
  {
   "cell_type": "code",
   "execution_count": 77,
   "id": "3ccc7bf4",
   "metadata": {
    "ExecuteTime": {
     "end_time": "2022-02-02T00:11:39.662122Z",
     "start_time": "2022-02-02T00:11:39.657707Z"
    },
    "hidden": true
   },
   "outputs": [],
   "source": [
    "df8 = df7.copy()"
   ]
  },
  {
   "cell_type": "code",
   "execution_count": null,
   "id": "81f4f7f4",
   "metadata": {
    "hidden": true
   },
   "outputs": [],
   "source": []
  },
  {
   "cell_type": "markdown",
   "id": "9bb2b7b0",
   "metadata": {},
   "source": [
    "# 9.0. Deploy to Production\n"
   ]
  },
  {
   "cell_type": "code",
   "execution_count": 78,
   "id": "d44abce0",
   "metadata": {
    "ExecuteTime": {
     "end_time": "2022-02-02T00:11:39.670048Z",
     "start_time": "2022-02-02T00:11:39.664395Z"
    }
   },
   "outputs": [],
   "source": [
    "df9 = df8.copy()"
   ]
  },
  {
   "cell_type": "code",
   "execution_count": null,
   "id": "8d4047a1",
   "metadata": {},
   "outputs": [],
   "source": []
  }
 ],
 "metadata": {
  "kernelspec": {
   "display_name": "Python 3",
   "language": "python",
   "name": "python3"
  },
  "language_info": {
   "codemirror_mode": {
    "name": "ipython",
    "version": 3
   },
   "file_extension": ".py",
   "mimetype": "text/x-python",
   "name": "python",
   "nbconvert_exporter": "python",
   "pygments_lexer": "ipython3",
   "version": "3.8.12"
  },
  "toc": {
   "base_numbering": 1,
   "nav_menu": {},
   "number_sections": false,
   "sideBar": true,
   "skip_h1_title": false,
   "title_cell": "Table of Contents",
   "title_sidebar": "Contents",
   "toc_cell": false,
   "toc_position": {
    "height": "calc(100% - 180px)",
    "left": "10px",
    "top": "150px",
    "width": "384px"
   },
   "toc_section_display": true,
   "toc_window_display": false
  },
  "varInspector": {
   "cols": {
    "lenName": 16,
    "lenType": 16,
    "lenVar": 40
   },
   "kernels_config": {
    "python": {
     "delete_cmd_postfix": "",
     "delete_cmd_prefix": "del ",
     "library": "var_list.py",
     "varRefreshCmd": "print(var_dic_list())"
    },
    "r": {
     "delete_cmd_postfix": ") ",
     "delete_cmd_prefix": "rm(",
     "library": "var_list.r",
     "varRefreshCmd": "cat(var_dic_list()) "
    }
   },
   "types_to_exclude": [
    "module",
    "function",
    "builtin_function_or_method",
    "instance",
    "_Feature"
   ],
   "window_display": false
  }
 },
 "nbformat": 4,
 "nbformat_minor": 5
}
